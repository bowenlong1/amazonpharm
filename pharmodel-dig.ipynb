{
 "cells": [
  {
   "cell_type": "code",
   "execution_count": 1,
   "id": "5f3de49c",
   "metadata": {},
   "outputs": [],
   "source": [
    "import numpy as np\n",
    "import pandas as pd\n",
    "import datetime as dt\n",
    "import re\n",
    "import matplotlib.pyplot as plt\n",
    "from collections import Counter\n",
    "import seaborn as sns\n",
    "from nltk.tokenize import word_tokenize\n",
    "from nltk.probability import FreqDist"
   ]
  },
  {
   "cell_type": "code",
   "execution_count": 2,
   "id": "9adb4f35",
   "metadata": {},
   "outputs": [],
   "source": [
    "df = pd.read_csv('pharmodel_v5.csv')"
   ]
  },
  {
   "cell_type": "code",
   "execution_count": 58,
   "id": "e7ef6adc",
   "metadata": {},
   "outputs": [
    {
     "data": {
      "text/plain": [
       "cold    451\n",
       "dig     366\n",
       "alg     352\n",
       "pain    276\n",
       "Name: cat, dtype: int64"
      ]
     },
     "execution_count": 58,
     "metadata": {},
     "output_type": "execute_result"
    }
   ],
   "source": [
    "df.cat.value_counts()"
   ]
  },
  {
   "cell_type": "code",
   "execution_count": 3,
   "id": "e01cc14e",
   "metadata": {},
   "outputs": [
    {
     "data": {
      "text/html": [
       "<div>\n",
       "<style scoped>\n",
       "    .dataframe tbody tr th:only-of-type {\n",
       "        vertical-align: middle;\n",
       "    }\n",
       "\n",
       "    .dataframe tbody tr th {\n",
       "        vertical-align: top;\n",
       "    }\n",
       "\n",
       "    .dataframe thead th {\n",
       "        text-align: right;\n",
       "    }\n",
       "</style>\n",
       "<table border=\"1\" class=\"dataframe\">\n",
       "  <thead>\n",
       "    <tr style=\"text-align: right;\">\n",
       "      <th></th>\n",
       "      <th>Unnamed: 0</th>\n",
       "      <th>Unnamed: 0.1</th>\n",
       "      <th>asin</th>\n",
       "      <th>cat</th>\n",
       "      <th>rating</th>\n",
       "      <th>reviews</th>\n",
       "      <th>price</th>\n",
       "      <th>vp</th>\n",
       "      <th>fsa_flg</th>\n",
       "      <th>eff_max_str</th>\n",
       "      <th>...</th>\n",
       "      <th>safe_nausea</th>\n",
       "      <th>safe_vomiting</th>\n",
       "      <th>safe_allergic</th>\n",
       "      <th>safe_drowsiness</th>\n",
       "      <th>safe_stomach</th>\n",
       "      <th>safe_heart</th>\n",
       "      <th>safe_stroke</th>\n",
       "      <th>safe_heartburn</th>\n",
       "      <th>safe_lightheadedness</th>\n",
       "      <th>safe_sweating</th>\n",
       "    </tr>\n",
       "  </thead>\n",
       "  <tbody>\n",
       "    <tr>\n",
       "      <th>0</th>\n",
       "      <td>0</td>\n",
       "      <td>0</td>\n",
       "      <td>B07BQKPMFM</td>\n",
       "      <td>cold</td>\n",
       "      <td>4.7</td>\n",
       "      <td>11523</td>\n",
       "      <td>12.74</td>\n",
       "      <td>0.368917</td>\n",
       "      <td>1</td>\n",
       "      <td>1</td>\n",
       "      <td>...</td>\n",
       "      <td>1</td>\n",
       "      <td>1</td>\n",
       "      <td>1</td>\n",
       "      <td>0</td>\n",
       "      <td>0</td>\n",
       "      <td>0</td>\n",
       "      <td>0</td>\n",
       "      <td>0</td>\n",
       "      <td>0</td>\n",
       "      <td>0</td>\n",
       "    </tr>\n",
       "    <tr>\n",
       "      <th>1</th>\n",
       "      <td>1</td>\n",
       "      <td>1</td>\n",
       "      <td>B009ITR4EY</td>\n",
       "      <td>cold</td>\n",
       "      <td>4.8</td>\n",
       "      <td>26392</td>\n",
       "      <td>7.66</td>\n",
       "      <td>0.626632</td>\n",
       "      <td>1</td>\n",
       "      <td>1</td>\n",
       "      <td>...</td>\n",
       "      <td>1</td>\n",
       "      <td>1</td>\n",
       "      <td>1</td>\n",
       "      <td>0</td>\n",
       "      <td>0</td>\n",
       "      <td>1</td>\n",
       "      <td>0</td>\n",
       "      <td>0</td>\n",
       "      <td>0</td>\n",
       "      <td>0</td>\n",
       "    </tr>\n",
       "    <tr>\n",
       "      <th>2</th>\n",
       "      <td>2</td>\n",
       "      <td>2</td>\n",
       "      <td>B013Q8JZVM</td>\n",
       "      <td>cold</td>\n",
       "      <td>4.8</td>\n",
       "      <td>1389</td>\n",
       "      <td>15.34</td>\n",
       "      <td>0.312907</td>\n",
       "      <td>1</td>\n",
       "      <td>1</td>\n",
       "      <td>...</td>\n",
       "      <td>0</td>\n",
       "      <td>0</td>\n",
       "      <td>0</td>\n",
       "      <td>0</td>\n",
       "      <td>0</td>\n",
       "      <td>0</td>\n",
       "      <td>0</td>\n",
       "      <td>0</td>\n",
       "      <td>0</td>\n",
       "      <td>0</td>\n",
       "    </tr>\n",
       "    <tr>\n",
       "      <th>3</th>\n",
       "      <td>3</td>\n",
       "      <td>3</td>\n",
       "      <td>B074F297S8</td>\n",
       "      <td>cold</td>\n",
       "      <td>4.7</td>\n",
       "      <td>10169</td>\n",
       "      <td>7.99</td>\n",
       "      <td>0.588235</td>\n",
       "      <td>1</td>\n",
       "      <td>0</td>\n",
       "      <td>...</td>\n",
       "      <td>1</td>\n",
       "      <td>1</td>\n",
       "      <td>1</td>\n",
       "      <td>1</td>\n",
       "      <td>0</td>\n",
       "      <td>0</td>\n",
       "      <td>0</td>\n",
       "      <td>0</td>\n",
       "      <td>0</td>\n",
       "      <td>0</td>\n",
       "    </tr>\n",
       "    <tr>\n",
       "      <th>4</th>\n",
       "      <td>4</td>\n",
       "      <td>4</td>\n",
       "      <td>B011VX2FGQ</td>\n",
       "      <td>cold</td>\n",
       "      <td>4.7</td>\n",
       "      <td>3448</td>\n",
       "      <td>12.98</td>\n",
       "      <td>0.362096</td>\n",
       "      <td>1</td>\n",
       "      <td>1</td>\n",
       "      <td>...</td>\n",
       "      <td>0</td>\n",
       "      <td>0</td>\n",
       "      <td>0</td>\n",
       "      <td>0</td>\n",
       "      <td>0</td>\n",
       "      <td>0</td>\n",
       "      <td>0</td>\n",
       "      <td>0</td>\n",
       "      <td>0</td>\n",
       "      <td>0</td>\n",
       "    </tr>\n",
       "  </tbody>\n",
       "</table>\n",
       "<p>5 rows × 173 columns</p>\n",
       "</div>"
      ],
      "text/plain": [
       "   Unnamed: 0  Unnamed: 0.1        asin   cat  rating  reviews  price  \\\n",
       "0           0             0  B07BQKPMFM  cold     4.7    11523  12.74   \n",
       "1           1             1  B009ITR4EY  cold     4.8    26392   7.66   \n",
       "2           2             2  B013Q8JZVM  cold     4.8     1389  15.34   \n",
       "3           3             3  B074F297S8  cold     4.7    10169   7.99   \n",
       "4           4             4  B011VX2FGQ  cold     4.7     3448  12.98   \n",
       "\n",
       "         vp  fsa_flg  eff_max_str  ...  safe_nausea  safe_vomiting  \\\n",
       "0  0.368917        1            1  ...            1              1   \n",
       "1  0.626632        1            1  ...            1              1   \n",
       "2  0.312907        1            1  ...            0              0   \n",
       "3  0.588235        1            0  ...            1              1   \n",
       "4  0.362096        1            1  ...            0              0   \n",
       "\n",
       "   safe_allergic  safe_drowsiness  safe_stomach  safe_heart  safe_stroke  \\\n",
       "0              1                0             0           0            0   \n",
       "1              1                0             0           1            0   \n",
       "2              0                0             0           0            0   \n",
       "3              1                1             0           0            0   \n",
       "4              0                0             0           0            0   \n",
       "\n",
       "   safe_heartburn  safe_lightheadedness  safe_sweating  \n",
       "0               0                     0              0  \n",
       "1               0                     0              0  \n",
       "2               0                     0              0  \n",
       "3               0                     0              0  \n",
       "4               0                     0              0  \n",
       "\n",
       "[5 rows x 173 columns]"
      ]
     },
     "execution_count": 3,
     "metadata": {},
     "output_type": "execute_result"
    }
   ],
   "source": [
    "df.head()"
   ]
  },
  {
   "cell_type": "code",
   "execution_count": 4,
   "id": "03a7c0ff",
   "metadata": {},
   "outputs": [
    {
     "data": {
      "text/plain": [
       "Index(['Unnamed: 0', 'Unnamed: 0.1', 'asin', 'cat', 'rating', 'reviews',\n",
       "       'price', 'vp', 'fsa_flg', 'eff_max_str'],\n",
       "      dtype='object')"
      ]
     },
     "execution_count": 4,
     "metadata": {},
     "output_type": "execute_result"
    }
   ],
   "source": [
    "df.columns[:10]"
   ]
  },
  {
   "cell_type": "code",
   "execution_count": 5,
   "id": "4eabd1ea",
   "metadata": {},
   "outputs": [],
   "source": [
    "df['y_class'] = df['vp_cat3']"
   ]
  },
  {
   "cell_type": "code",
   "execution_count": 6,
   "id": "789be99d",
   "metadata": {},
   "outputs": [],
   "source": [
    "# Create sym_count by counting the occurrences of 1's across sym features\n",
    "df['sym_count'] = df[['sym_throat', 'sym_stomach', 'sym_sneezing', 'sym_sinus', \n",
    "                      'sym_pain', 'sym_nose', 'sym_nausea', 'sym_nasal', 'sym_migranie', \n",
    "                      'sym_menstrual', 'sym_itchy', 'sym_heart', 'sym_headache', 'sym_flu',\n",
    "                      'sym_fever', 'sym_eyes', 'sym_digestion', 'sym_cough', 'sym_cold', 'sym_chest',\n",
    "                      'sym_arthritis', 'sym_allergy', 'sym_acid']].sum(axis=1)"
   ]
  },
  {
   "cell_type": "code",
   "execution_count": 7,
   "id": "46a1809c",
   "metadata": {},
   "outputs": [],
   "source": [
    "df['safe_count'] = df[['safe_rash', 'safe_fever', 'safe_liver',\n",
    "       'safe_throat', 'safe_skin', 'safe_nausea', 'safe_vomiting',\n",
    "       'safe_allergic', 'safe_drowsiness', 'safe_stomach', 'safe_heart',\n",
    "       'safe_stroke', 'safe_heartburn', 'safe_lightheadedness',\n",
    "       'safe_sweating']].sum(axis=1)"
   ]
  },
  {
   "cell_type": "code",
   "execution_count": 8,
   "id": "53482a2b",
   "metadata": {},
   "outputs": [],
   "source": [
    "X_features = ['sym_count','fsa_flg', 'eff_max_str', 'eff_fast_acting', 'eff_long_lasting',\n",
    "       'eff_non_drowsy', 'eff_kid', 'ingre_zinc', 'ingre_simethicone', 'ingre_pulsatilla',\n",
    "       'ingre_phosphorus', 'ingre_phenylephrine', 'ingre_perfoliatum',\n",
    "       'ingre_peppermint', 'ingre_omeprazole', 'ingre_naproxen',\n",
    "       'ingre_menthol', 'ingre_magnesium', 'ingre_loratadine', 'ingre_kali',\n",
    "       'ingre_ipecacuanha', 'ingre_ibuprofen', 'ingre_hydrobromide',\n",
    "       'ingre_guaifenesin', 'ingre_gelsemium', 'ingre_fexofenadine',\n",
    "       'ingre_famotidine', 'ingre_eupatorium', 'ingre_eucalyptus',\n",
    "       'ingre_esomeprazole', 'ingre_echinacea', 'ingre_doxylamine',\n",
    "       'ingre_diphenhydramine', 'ingre_dextromethorphan',\n",
    "       'ingre_chlorpheniramine', 'ingre_cetirizine', 'ingre_calcium',\n",
    "       'ingre_bryonia', 'ingre_antihistamine', 'ingre_aluminum',\n",
    "       'ingre_acetaminophen', 'brand_zyrtec', 'brand_zicam',\n",
    "       'brand_zegerid_otc', 'brand_vicks', 'brand_tylenol', 'brand_tums',\n",
    "       'brand_time_cap_labs_inc', 'brand_theraflu', 'brand_rolaids',\n",
    "       'brand_rite_aid', 'brand_quality_choice', 'brand_prilosec',\n",
    "       'brand_prelief', 'brand_pepto_bismol', 'brand_pepcid', 'brand_nexium',\n",
    "       'brand_natures_way', 'brand_mylanta', 'brand_mucinex', 'brand_motrin',\n",
    "       'brand_midol', 'brand_major', 'brand_hylands', 'brand_goodsense',\n",
    "       'brand_gaviscon', 'brand_flonase', 'brand_excedrin',\n",
    "       'brand_coricidin_hbp', 'brand_claritin', 'brand_chloraseptic',\n",
    "       'brand_boiron', 'brand_benadryl', 'brand_amazon_basic_care',\n",
    "       'brand_allegra', 'brand_alka_seltzer_plus', 'brand_alka_seltzer',\n",
    "       'brand_aleve', 'brand_airborne', 'brand_advil', 'brand_a2z_store',\n",
    "       'manu_gsk', 'manu_jj', 'manu_bayer', 'manu_rb', 'manu_perrigo',\n",
    "       'manu_pg', 'manu_sanofi', 'manu_ama', 'manu_major', 'manu_rite',\n",
    "       'manu_boiron', 'manu_pfizer', 'manu_hyland', 'manu_alka',\n",
    "       'manu_allegiant', 'manu_prestige', 'manu_dwight', 'manu_emc', 'manu_nw',\n",
    "       'manu_walmart', 'manu_kirkland', 'manu_ohm', 'manu_reddy',\n",
    "       'manu_bionpharma', 'manu_time', 'count_q_00', 'count_q_10',\n",
    "       'count_q_20', 'count_q_30', 'inch_q_00', 'inch_q_10', 'inch_q_20',\n",
    "       'inch_q_30', 'weight_q_00', 'weight_q_10', 'weight_q_20', 'weight_q_30',\n",
    "             'safe_count']"
   ]
  },
  {
   "cell_type": "code",
   "execution_count": null,
   "id": "6b25780a",
   "metadata": {},
   "outputs": [],
   "source": []
  },
  {
   "cell_type": "markdown",
   "id": "e071b226",
   "metadata": {},
   "source": [
    "# change category"
   ]
  },
  {
   "cell_type": "code",
   "execution_count": 9,
   "id": "5df2b8c8",
   "metadata": {},
   "outputs": [],
   "source": [
    "data = df[df.cat=='dig'][X_features+['y_class','vp', 'cat', 'asin', 'rating', 'reviews', 'price']]"
   ]
  },
  {
   "cell_type": "code",
   "execution_count": 10,
   "id": "130287c9",
   "metadata": {},
   "outputs": [
    {
     "data": {
      "text/plain": [
       "1    183\n",
       "0    183\n",
       "Name: y_class, dtype: int64"
      ]
     },
     "execution_count": 10,
     "metadata": {},
     "output_type": "execute_result"
    }
   ],
   "source": [
    "data.y_class.value_counts()"
   ]
  },
  {
   "cell_type": "code",
   "execution_count": 59,
   "id": "3cf3beed",
   "metadata": {},
   "outputs": [
    {
     "data": {
      "text/plain": [
       "(366, 130)"
      ]
     },
     "execution_count": 59,
     "metadata": {},
     "output_type": "execute_result"
    }
   ],
   "source": [
    "data.shape"
   ]
  },
  {
   "cell_type": "code",
   "execution_count": 60,
   "id": "b2c801e4",
   "metadata": {},
   "outputs": [
    {
     "data": {
      "text/plain": [
       "184"
      ]
     },
     "execution_count": 60,
     "metadata": {},
     "output_type": "execute_result"
    }
   ],
   "source": [
    "sum(data[['brand_zyrtec', 'brand_zicam',\n",
    "       'brand_zegerid_otc', 'brand_vicks', 'brand_tylenol', 'brand_tums',\n",
    "       'brand_time_cap_labs_inc', 'brand_theraflu', 'brand_rolaids',\n",
    "       'brand_rite_aid', 'brand_quality_choice', 'brand_prilosec',\n",
    "       'brand_prelief', 'brand_pepto_bismol', 'brand_pepcid', 'brand_nexium',\n",
    "       'brand_natures_way', 'brand_mylanta', 'brand_mucinex', 'brand_motrin',\n",
    "       'brand_midol', 'brand_major', 'brand_hylands', 'brand_goodsense',\n",
    "       'brand_gaviscon', 'brand_flonase', 'brand_excedrin',\n",
    "       'brand_coricidin_hbp', 'brand_claritin', 'brand_chloraseptic',\n",
    "       'brand_boiron', 'brand_benadryl', 'brand_amazon_basic_care',\n",
    "       'brand_allegra', 'brand_alka_seltzer_plus', 'brand_alka_seltzer',\n",
    "       'brand_aleve', 'brand_airborne', 'brand_advil', 'brand_a2z_store']].sum())"
   ]
  },
  {
   "cell_type": "code",
   "execution_count": 11,
   "id": "4990d804",
   "metadata": {},
   "outputs": [
    {
     "name": "stdout",
     "output_type": "stream",
     "text": [
      "===== Logistic Regression =====\n",
      "[0.51351351 0.64383562 0.5890411  0.68493151 0.64383562] Accuracy: 0.6150 ± 0.0592\n",
      "[0.50909091 0.65714286 0.59459459 0.70967742 0.65625   ] Precision: 0.6254 ± 0.0686\n",
      "[0.75675676 0.62162162 0.59459459 0.61111111 0.58333333] Recall: 0.6335 ± 0.0630\n",
      "[0.60869565 0.63888889 0.59459459 0.65671642 0.61764706] F1: 0.6233 ± 0.0220\n",
      "[0.61139518 0.74174174 0.6463964  0.78115616 0.7210961 ] Roc_auc: 0.7004 ± 0.0624\n",
      "\n",
      "===== Decision Tree =====\n",
      "[0.51351351 0.64383562 0.63013699 0.56164384 0.64383562] Accuracy: 0.5986 ± 0.0523\n",
      "[0.5106383  0.65714286 0.625      0.55555556 0.66666667] Precision: 0.6030 ± 0.0604\n",
      "[0.64864865 0.62162162 0.67567568 0.55555556 0.55555556] Recall: 0.6114 ± 0.0487\n",
      "[0.57142857 0.63888889 0.64935065 0.55555556 0.60606061] F1: 0.6043 ± 0.0366\n",
      "[0.50511322 0.65653153 0.64076577 0.56156156 0.64489489] Roc_auc: 0.6018 ± 0.0589\n",
      "\n",
      "===== MLP =====\n",
      "Best hyperparameters for MLP: {'classifier__activation': 'relu', 'classifier__hidden_layer_sizes': (50, 50), 'classifier__solver': 'adam'}\n",
      "[0.59459459 0.56164384 0.57534247 0.71232877 0.63013699] Accuracy: 0.6148 ± 0.0539\n",
      "[0.55737705 0.54385965 0.55172414 0.64150943 0.59183673] Precision: 0.5773 ± 0.0361\n",
      "[0.91891892 0.83783784 0.86486486 0.94444444 0.80555556] Recall: 0.8743 ± 0.0511\n",
      "[0.69387755 0.65957447 0.67368421 0.76404494 0.68235294] F1: 0.6947 ± 0.0364\n",
      "[0.51570489 0.56531532 0.67117117 0.76689189 0.65653153] Roc_auc: 0.6351 ± 0.0875\n",
      "\n",
      "===== Random Forest =====\n",
      "Best hyperparameters for Random Forest: {'classifier__bootstrap': False, 'classifier__max_depth': 10, 'classifier__min_samples_split': 5, 'classifier__n_estimators': 300}\n",
      "[0.60810811 0.71232877 0.68493151 0.65753425 0.65753425] Accuracy: 0.6641 ± 0.0346\n",
      "[0.56896552 0.75       0.70588235 0.68965517 0.78947368] Precision: 0.7008 ± 0.0746\n",
      "[0.89189189 0.64864865 0.64864865 0.55555556 0.41666667] Recall: 0.6323 ± 0.1551\n",
      "[0.69473684 0.69565217 0.67605634 0.61538462 0.54545455] F1: 0.6455 ± 0.0579\n",
      "[0.56829803 0.76276276 0.74024024 0.73235736 0.73686186] Roc_auc: 0.7081 ± 0.0707\n",
      "\n",
      "===== XGBoost =====\n",
      "Best hyperparameters for XGBoost: {'classifier__learning_rate': 0.1, 'classifier__max_depth': 3, 'classifier__n_estimators': 300}\n",
      "[0.58108108 0.64383562 0.68493151 0.71232877 0.67123288] Accuracy: 0.6587 ± 0.0446\n",
      "[0.55357143 0.64864865 0.69444444 0.72727273 0.8       ] Precision: 0.6848 ± 0.0821\n",
      "[0.83783784 0.64864865 0.67567568 0.66666667 0.44444444] Recall: 0.6547 ± 0.1252\n",
      "[0.66666667 0.64864865 0.68493151 0.69565217 0.57142857] F1: 0.6535 ± 0.0440\n",
      "[0.62089116 0.71996997 0.69857357 0.76163664 0.71021021] Roc_auc: 0.7023 ± 0.0459\n",
      "\n",
      "===== Gaussian NB =====\n",
      "[0.47297297 0.56164384 0.53424658 0.63013699 0.54794521] Accuracy: 0.5494 ± 0.0505\n",
      "[0.48529412 0.54098361 0.52542373 0.62857143 0.52459016] Precision: 0.5410 ± 0.0475\n",
      "[0.89189189 0.89189189 0.83783784 0.61111111 0.88888889] Recall: 0.8243 ± 0.1086\n",
      "[0.62857143 0.67346939 0.64583333 0.61971831 0.65979381] F1: 0.6455 ± 0.0197\n",
      "[0.63038714 0.64602102 0.60022523 0.68355856 0.64489489] Roc_auc: 0.6410 ± 0.0269\n",
      "\n",
      "===== KNN =====\n",
      "[0.45945946 0.57534247 0.68493151 0.52054795 0.56164384] Accuracy: 0.5604 ± 0.0742\n",
      "[0.46153846 0.61538462 0.76923077 0.52631579 0.64285714] Precision: 0.6031 ± 0.1051\n",
      "[0.48648649 0.43243243 0.54054054 0.27777778 0.25      ] Recall: 0.3974 ± 0.1146\n",
      "[0.47368421 0.50793651 0.63492063 0.36363636 0.36      ] F1: 0.4680 ± 0.1020\n",
      "[0.46895544 0.60322823 0.69894895 0.55405405 0.6265015 ] Roc_auc: 0.5903 ± 0.0766\n",
      "\n",
      "===== LDA =====\n",
      "[0.48648649 0.60273973 0.61643836 0.69863014 0.68493151] Accuracy: 0.6178 ± 0.0755\n",
      "[0.49019608 0.6        0.62857143 0.69444444 0.6969697 ] Precision: 0.6220 ± 0.0759\n",
      "[0.67567568 0.64864865 0.59459459 0.69444444 0.63888889] Recall: 0.6505 ± 0.0341\n",
      "[0.56818182 0.62337662 0.61111111 0.69444444 0.66666667] F1: 0.6328 ± 0.0440\n",
      "[0.56245435 0.7042042  0.63363363 0.74962462 0.73836336] Roc_auc: 0.6777 ± 0.0704\n",
      "\n"
     ]
    }
   ],
   "source": [
    "from sklearn.datasets import load_iris\n",
    "from sklearn.model_selection import train_test_split, GridSearchCV,  cross_validate\n",
    "from sklearn.linear_model import LogisticRegression\n",
    "from sklearn.tree import DecisionTreeClassifier\n",
    "from sklearn.neural_network import MLPClassifier\n",
    "from sklearn.ensemble import RandomForestClassifier\n",
    "from xgboost import XGBClassifier\n",
    "from sklearn.naive_bayes import GaussianNB\n",
    "from sklearn.neighbors import KNeighborsClassifier\n",
    "from sklearn.discriminant_analysis import LinearDiscriminantAnalysis\n",
    "from sklearn.metrics import accuracy_score, precision_score, recall_score, f1_score, roc_auc_score, make_scorer\n",
    "from sklearn.pipeline import Pipeline\n",
    "import numpy as np\n",
    "\n",
    "# Load dataset and split into training, validation, and testing sets\n",
    "\n",
    "X_train, y_train, z = data[X_features], data['y_class'], data['vp']\n",
    "# X_train, X_test, y_train, y_test, z_train, z_test = train_test_split(X, y, z, test_size=0.2, random_state=42, stratify=y)\n",
    "\n",
    "\n",
    "# Define models\n",
    "models = {\n",
    "    'Logistic Regression': LogisticRegression(random_state=42),\n",
    "    'Decision Tree': DecisionTreeClassifier(random_state=42),\n",
    "    'MLP': MLPClassifier(early_stopping=True, max_iter=1000,random_state=42),\n",
    "    'Random Forest': RandomForestClassifier(random_state=42),\n",
    "    'XGBoost': XGBClassifier(random_state=42),\n",
    "    'Gaussian NB': GaussianNB(),\n",
    "    'KNN': KNeighborsClassifier(),\n",
    "    'LDA': LinearDiscriminantAnalysis()\n",
    "}\n",
    "\n",
    "# Hyperparameters for grid search\n",
    "param_grids = {\n",
    "    'Random Forest': {\n",
    "        'classifier__n_estimators': [50, 100, 200,300],\n",
    "        'classifier__max_depth': [None, 10, 20, 30],\n",
    "        'classifier__min_samples_split': [2, 5, 10],\n",
    "        'classifier__bootstrap':[True,False]\n",
    "    }\n",
    "     ,\n",
    "    'XGBoost': {\n",
    "        'classifier__learning_rate': [0.01, 0.05, 0.1],\n",
    "        'classifier__n_estimators': [100, 200,300],\n",
    "        'classifier__max_depth': [3, 5, 7],\n",
    "    },\n",
    "    'MLP': {\n",
    "        'classifier__hidden_layer_sizes': [(50,), (100,), (50, 50)],\n",
    "        'classifier__activation': ['relu', 'tanh'],\n",
    "        'classifier__solver': ['adam', 'sgd'],\n",
    "    }\n",
    "}\n",
    "\n",
    "scoring = {\n",
    "    'accuracy': make_scorer(accuracy_score),\n",
    "    'precision': make_scorer(precision_score),\n",
    "    'recall': make_scorer(recall_score),\n",
    "    'f1': make_scorer(f1_score),\n",
    "    'roc_auc': make_scorer(roc_auc_score, needs_proba=True)\n",
    "}\n",
    "\n",
    "for name, model in models.items():\n",
    "    print(f\"===== {name} =====\")\n",
    "    \n",
    "    pipeline = Pipeline([\n",
    "        ('classifier', model)\n",
    "    ])\n",
    "    \n",
    "    # If the model has hyperparameters to tune, apply GridSearchCV\n",
    "    if name in param_grids:\n",
    "        grid_search = GridSearchCV(pipeline, param_grids[name], cv=5, n_jobs=-1)\n",
    "        grid_search.fit(X_train, y_train)\n",
    "        best_pipeline = grid_search.best_estimator_\n",
    "#         if name == 'Random Forest':\n",
    "#             rf_model = best_pipeline\n",
    "        # Output the best hyperparameters for each model\n",
    "        print(f\"Best hyperparameters for {name}: {grid_search.best_params_}\")\n",
    "    else:\n",
    "        best_pipeline = pipeline\n",
    "        best_pipeline.fit(X_train, y_train)\n",
    "    \n",
    "    if name == 'Random Forest':\n",
    "        rf_model = best_pipeline\n",
    "    if name == 'XGBoost':\n",
    "        gb_model = best_pipeline\n",
    "    if name == 'LDA':\n",
    "        lda_model = best_pipeline\n",
    "    if name == 'Logistic Regression':\n",
    "        lr_model = best_pipeline\n",
    "    \n",
    "    # Cross-Validation metrics\n",
    "    cv_results = cross_validate(best_pipeline, X_train, y_train, cv=5, scoring=scoring)\n",
    "    \n",
    "    for metric in scoring.keys():\n",
    "        mean_metric = np.mean(cv_results[f'test_{metric}'])\n",
    "        std_metric = np.std(cv_results[f'test_{metric}'])\n",
    "        print(cv_results[f'test_{metric}'],f\"{metric.capitalize()}: {mean_metric:.4f} ± {std_metric:.4f}\")\n",
    "\n",
    "        \n",
    "    print()"
   ]
  },
  {
   "cell_type": "markdown",
   "id": "c862cd02",
   "metadata": {},
   "source": [
    "# Variable importance"
   ]
  },
  {
   "cell_type": "code",
   "execution_count": 12,
   "id": "57d99d51",
   "metadata": {},
   "outputs": [],
   "source": [
    "## 1shap"
   ]
  },
  {
   "cell_type": "code",
   "execution_count": 13,
   "id": "c70143e7",
   "metadata": {},
   "outputs": [],
   "source": [
    "#pip install shap"
   ]
  },
  {
   "cell_type": "code",
   "execution_count": 14,
   "id": "445e68d0",
   "metadata": {},
   "outputs": [
    {
     "data": {
      "image/png": "[encoded data removed]",
      "text/plain": [
       "<Figure size 720x576 with 1 Axes>"
      ]
     },
     "metadata": {
      "needs_background": "light"
     },
     "output_type": "display_data"
    }
   ],
   "source": [
    "import shap\n",
    "import numpy as np\n",
    "import matplotlib.pyplot as plt\n",
    "\n",
    "# Create a SHAP explainer object\n",
    "explainer = shap.TreeExplainer(rf_model.named_steps['classifier'])\n",
    "shap_values = explainer.shap_values(X_train)\n",
    "\n",
    "# Calculate absolute mean SHAP values\n",
    "mean_abs_shap_values = np.mean(np.abs(shap_values[1]), axis=0)  # Considering only the positive class\n",
    "\n",
    "# Get feature names\n",
    "feature_names = X_train.columns  # Assuming X_train is a pandas DataFrame\n",
    "\n",
    "# Get indices of top 30 features sorted by absolute SHAP values\n",
    "top_indices = np.argsort(mean_abs_shap_values)[::-1][:30]\n",
    "\n",
    "# Select top 30 feature names and corresponding mean absolute SHAP values\n",
    "top_feature_names = [feature_names[i] for i in top_indices]\n",
    "top_mean_abs_shap_values = mean_abs_shap_values[top_indices]\n",
    "\n",
    "# Create a bar chart\n",
    "plt.figure(figsize=(10, 8))\n",
    "plt.barh(range(len(top_feature_names)), top_mean_abs_shap_values, align='center', color='skyblue')\n",
    "plt.yticks(range(len(top_feature_names)), top_feature_names)\n",
    "plt.xlabel('Mean Absolute SHAP Value')\n",
    "plt.title('Top 30 Feature Importance based on SHAP values')\n",
    "plt.gca().invert_yaxis()  # Invert y-axis to display the most important features at the top\n",
    "plt.show()"
   ]
  },
  {
   "cell_type": "code",
   "execution_count": 15,
   "id": "c0bd2fa9",
   "metadata": {},
   "outputs": [
    {
     "data": {
      "text/plain": [
       "['fsa_flg',\n",
       " 'inch_q_00',\n",
       " 'sym_count',\n",
       " 'ingre_calcium',\n",
       " 'weight_q_10',\n",
       " 'count_q_00',\n",
       " 'inch_q_10',\n",
       " 'inch_q_20',\n",
       " 'count_q_10',\n",
       " 'manu_gsk',\n",
       " 'ingre_famotidine',\n",
       " 'ingre_magnesium',\n",
       " 'brand_tums',\n",
       " 'eff_max_str',\n",
       " 'manu_rb',\n",
       " 'manu_jj',\n",
       " 'inch_q_30',\n",
       " 'count_q_20',\n",
       " 'eff_fast_acting',\n",
       " 'brand_amazon_basic_care',\n",
       " 'safe_count',\n",
       " 'count_q_30',\n",
       " 'weight_q_00',\n",
       " 'brand_pepcid',\n",
       " 'eff_long_lasting',\n",
       " 'manu_perrigo',\n",
       " 'brand_prelief',\n",
       " 'brand_prilosec',\n",
       " 'ingre_simethicone',\n",
       " 'brand_nexium']"
      ]
     },
     "execution_count": 15,
     "metadata": {},
     "output_type": "execute_result"
    }
   ],
   "source": [
    "top_feature_names"
   ]
  },
  {
   "cell_type": "code",
   "execution_count": 16,
   "id": "6f1dfb72",
   "metadata": {},
   "outputs": [],
   "source": [
    "# import shap\n",
    "# import numpy as np\n",
    "# import matplotlib.pyplot as plt\n",
    "\n",
    "# # Create a SHAP explainer object\n",
    "# explainer = shap.TreeExplainer(rf_model.named_steps['classifier'])\n",
    "# shap_values = explainer.shap_values(X_train)\n",
    "\n",
    "# # Calculate absolute mean SHAP values\n",
    "# mean_abs_shap_values = np.mean(np.abs(shap_values[1]), axis=0)  # Considering only the positive class\n",
    "\n",
    "# # Get feature names\n",
    "# feature_names = X_train.columns  # Assuming X_train is a pandas DataFrame\n",
    "\n",
    "# # Get indices of top 30 features sorted by absolute SHAP values\n",
    "# top_indices = np.argsort(mean_abs_shap_values)[::-1][:30]\n",
    "\n",
    "# # Select top 30 feature names and corresponding mean absolute SHAP values\n",
    "# top_feature_names = [\n",
    "#     'FSA or HSA Eligible',\n",
    "#     'Size/Inches (Lowest Quantile)',\n",
    "#     'Symptom Treats Count',\n",
    "#     'Ingredient - Calcium',\n",
    "#     'Size/Weight (Low Quantile)',\n",
    "#     'Size/Counts per Pack (Lowest Quantile)',\n",
    "#     'Size/Inches (Low Quantile)',\n",
    "#     'Size/Inches (High Quantile)',\n",
    "#     'Size/Counts per Pack (Low Quantile)',\n",
    "#     'Manufacturer - GSK',\n",
    "#     'Ingredient - Famotidine',\n",
    "#     'Ingredient - Magnesium',\n",
    "#     'Brand - Tums',\n",
    "#     'Special Effect - Maximum Strength',\n",
    "#     'Manufacturer - Reckitt Benckiser',\n",
    "#     'Manufacturer - Johnson & Johnson',\n",
    "#     'Size/Inches (Highest Quantile)',\n",
    "#     'Size/Counts per Pack (High Quantile)',\n",
    "#     'Special Effect - Fast-Acting',\n",
    "#     'Brand - Amazon Basic Care',\n",
    "#     'Safety Warning Count',\n",
    "#     'Size/Counts per Pack (Highest Quantile)',\n",
    "#     'Size/Weight (Lowest Quantile)',\n",
    "#     'Brand - Pepcid',\n",
    "#     'Special Effect - Long-Lasting',\n",
    "#     'Manufacturer - Perrigo',\n",
    "#     'Brand - Prelief',\n",
    "#     'Brand - Prilosec',\n",
    "#     'Ingredient - Simethicone',\n",
    "#     'Brand - Nexium'\n",
    "# ]\n",
    "\n",
    "# top_mean_abs_shap_values = mean_abs_shap_values[top_indices]\n",
    "\n",
    "# # Create a bar chart with sky blue color\n",
    "# plt.figure(figsize=(12, 10))\n",
    "# plt.barh(range(len(top_feature_names)), top_mean_abs_shap_values, align='center', color='Turquoise')\n",
    "# plt.yticks(range(len(top_feature_names)), top_feature_names, fontsize=12)  # Adjust font size\n",
    "# plt.xlabel('Mean Absolute SHAP Value', fontsize=14)  # Adjust font size\n",
    "# #plt.ylabel('Feature', fontsize=14)  # Adjust font size\n",
    "# plt.title('Allergy Medicine Important Factors Impacting CER based on SHAP Values (Top 30)', fontsize=16)  # Adjust font size\n",
    "# plt.gca().invert_yaxis()  # Invert y-axis to display the most important features at the top\n",
    "# plt.show()"
   ]
  },
  {
   "cell_type": "code",
   "execution_count": 17,
   "id": "f614957e",
   "metadata": {},
   "outputs": [
    {
     "data": {
      "image/png": "[encoded data removed]",
      "text/plain": [
       "<Figure size 864x720 with 1 Axes>"
      ]
     },
     "metadata": {
      "needs_background": "light"
     },
     "output_type": "display_data"
    }
   ],
   "source": [
    "import shap\n",
    "import numpy as np\n",
    "import matplotlib.pyplot as plt\n",
    "\n",
    "# Create a SHAP explainer object\n",
    "explainer = shap.TreeExplainer(rf_model.named_steps['classifier'])\n",
    "shap_values = explainer.shap_values(X_train)\n",
    "\n",
    "# Calculate absolute mean SHAP values\n",
    "mean_abs_shap_values = np.mean(np.abs(shap_values[1]), axis=0)  # Considering only the positive class\n",
    "\n",
    "# Get feature names\n",
    "feature_names = X_train.columns  # Assuming X_train is a pandas DataFrame\n",
    "\n",
    "# Get indices of top 30 features sorted by absolute SHAP values\n",
    "top_indices = np.argsort(mean_abs_shap_values)[::-1][:30]\n",
    "\n",
    "# Select top 30 feature names and corresponding mean absolute SHAP values\n",
    "top_feature_names = [\n",
    "    'FSA or HSA Eligible',\n",
    "    'Size/Inches (Lowest Quantile)',\n",
    "    'Symptom Treats Count',\n",
    "    'Ingredient - Calcium',\n",
    "    'Size/Weight (Low Quantile)',\n",
    "    'Size/Counts per Pack (Lowest Quantile)',\n",
    "    'Size/Inches (Low Quantile)',\n",
    "    'Size/Inches (High Quantile)',\n",
    "    'Size/Counts per Pack (Low Quantile)',\n",
    "    'Manufacturer - GSK',\n",
    "    'Ingredient - Famotidine',\n",
    "    'Ingredient - Magnesium',\n",
    "    'Brand - Tums',\n",
    "    'Special Effect - Maximum Strength',\n",
    "    'Manufacturer - Reckitt Benckiser',\n",
    "    'Manufacturer - Johnson & Johnson',\n",
    "    'Size/Inches (Highest Quantile)',\n",
    "    'Size/Counts per Pack (High Quantile)',\n",
    "    'Special Effect - Fast-Acting',\n",
    "    'Brand - Amazon Basic Care',\n",
    "    'Safety Warning Count',\n",
    "    'Size/Counts per Pack (Highest Quantile)',\n",
    "    'Size/Weight (Lowest Quantile)',\n",
    "    'Brand - Pepcid',\n",
    "    'Special Effect - Long-Lasting',\n",
    "    'Manufacturer - Perrigo',\n",
    "    'Brand - Prelief',\n",
    "    'Brand - Prilosec',\n",
    "    'Ingredient - Simethicone',\n",
    "    'Brand - Nexium'\n",
    "]\n",
    "\n",
    "top_mean_abs_shap_values = mean_abs_shap_values[top_indices]\n",
    "\n",
    "# Determine the top 5 factors among the top 30 important features\n",
    "top_5_indices = np.argsort(top_mean_abs_shap_values)[-5:]\n",
    "top_5_feature_names = [top_feature_names[i] for i in top_5_indices]\n",
    "\n",
    "# Create a color list for highlighting the top 5 factors\n",
    "colors = ['PaleTurquoise' if feature_name not in top_5_feature_names else 'Turquoise' for feature_name in top_feature_names]\n",
    "\n",
    "# Create the bar chart with highlighted top 5 factors\n",
    "plt.figure(figsize=(12, 10))\n",
    "plt.barh(range(len(top_feature_names)), top_mean_abs_shap_values, align='center', color=colors)\n",
    "plt.yticks(range(len(top_feature_names)), top_feature_names, fontsize=12)  # Adjust font size\n",
    "plt.xlabel('Mean Absolute SHAP Value', fontsize=14)  # Adjust font size\n",
    "plt.title('Digestion Medicine Important Factors Impacting CER based on SHAP Values (Top 30)', fontsize=16)  # Adjust font size\n",
    "plt.gca().invert_yaxis()  # Invert y-axis to display the most important features at the top\n",
    "plt.show()"
   ]
  },
  {
   "cell_type": "code",
   "execution_count": 18,
   "id": "38e78941",
   "metadata": {},
   "outputs": [],
   "source": [
    "#type(variable_info[])"
   ]
  },
  {
   "cell_type": "code",
   "execution_count": 20,
   "id": "4d54dc74",
   "metadata": {},
   "outputs": [],
   "source": [
    "import pandas as pd\n",
    "\n",
    "# Extract coefficient estimates\n",
    "coefficients = lr_model.named_steps['classifier'].coef_[0]\n",
    "\n",
    "# Calculate p-values (not directly available in scikit-learn)\n",
    "# You would typically use statsmodels for p-values with logistic regression\n",
    "\n",
    "# Create a DataFrame to store coefficients and p-values\n",
    "variable_info = pd.DataFrame({'Feature': X_train.columns, 'Coefficient': coefficients})\n",
    "\n",
    "# Calculate absolute coefficients\n",
    "variable_info['Absolute Coefficient'] = abs(variable_info['Coefficient'])\n",
    "\n",
    "# Sort variables based on absolute coefficient values\n",
    "variable_info.sort_values(by='Absolute Coefficient', ascending=False, inplace=True)\n",
    "\n",
    "# You should determine statistical significance based on your chosen method\n",
    "# Since we don't have p-values directly, you might need to use other statistical tools\n",
    "# For demonstration purposes, I'm assuming all coefficients are statistically significant\n",
    "variable_info['Significance'] = True\n",
    "\n",
    "# Print the ranked variables and their statistical significance\n",
    "# print(variable_info[:20])"
   ]
  },
  {
   "cell_type": "code",
   "execution_count": 21,
   "id": "2af5c28a",
   "metadata": {},
   "outputs": [
    {
     "name": "stdout",
     "output_type": "stream",
     "text": [
      "                                    Feature2  Coefficient  Significance\n",
      "1                        FSA or HSA Eligible     0.837722          True\n",
      "110            Size/Inches (Lowest Quantile)     0.911052          True\n",
      "0                       Symptom Treats Count     0.094961          True\n",
      "36                      Ingredient - Calcium     0.425035          True\n",
      "115               Size/Weight (Low Quantile)     0.469972          True\n",
      "106   Size/Counts per Pack (Lowest Quantile)     0.600035          True\n",
      "111               Size/Inches (Low Quantile)     0.803636          True\n",
      "112              Size/Inches (High Quantile)     0.819300          True\n",
      "107      Size/Counts per Pack (Low Quantile)    -0.613007          True\n",
      "81                        Manufacturer - GSK     0.501596          True\n",
      "26                   Ingredient - Famotidine     1.273209          True\n",
      "17                    Ingredient - Magnesium     0.912555          True\n",
      "46                              Brand - Tums     0.445413          True\n",
      "2          Special Effect - Maximum Strength     0.335185          True\n",
      "84          Manufacturer - Reckitt Benckiser    -0.788698          True\n",
      "82          Manufacturer - Johnson & Johnson    -1.232161          True\n",
      "113           Size/Inches (Highest Quantile)    -0.117718          True\n",
      "108     Size/Counts per Pack (High Quantile)    -0.800949          True\n",
      "3               Special Effect - Fast-Acting     0.154152          True\n",
      "73                 Brand - Amazon Basic Care     0.597766          True\n",
      "118                     Safety Warning Count    -0.058426          True\n",
      "109  Size/Counts per Pack (Highest Quantile)    -1.161943          True\n",
      "114            Size/Weight (Lowest Quantile)     0.062238          True\n",
      "55                            Brand - Pepcid    -0.770611          True\n",
      "4              Special Effect - Long-Lasting    -0.335446          True\n",
      "85                    Manufacturer - Perrigo     0.402716          True\n",
      "53                           Brand - Prelief    -1.263771          True\n",
      "52                          Brand - Prilosec    -0.919881          True\n",
      "8                   Ingredient - Simethicone     0.631071          True\n",
      "56                            Brand - Nexium    -0.535927          True\n"
     ]
    },
    {
     "name": "stderr",
     "output_type": "stream",
     "text": [
      "\n",
      "A value is trying to be set on a copy of a slice from a DataFrame.\n",
      "Try using .loc[row_indexer,col_indexer] = value instead\n",
      "\n",
      "See the caveats in the documentation: https://pandas.pydata.org/pandas-docs/stable/user_guide/indexing.html#returning-a-view-versus-a-copy\n",
      "\n",
      "A value is trying to be set on a copy of a slice from a DataFrame.\n",
      "Try using .loc[row_indexer,col_indexer] = value instead\n",
      "\n",
      "See the caveats in the documentation: https://pandas.pydata.org/pandas-docs/stable/user_guide/indexing.html#returning-a-view-versus-a-copy\n"
     ]
    }
   ],
   "source": [
    "import pandas as pd\n",
    "import matplotlib.pyplot as plt\n",
    "from matplotlib.patches import Patch\n",
    "\n",
    "# List of top features\n",
    "top_features = ['fsa_flg', 'inch_q_00', 'sym_count', 'ingre_calcium', 'weight_q_10', 'count_q_00', 'inch_q_10', 'inch_q_20', 'count_q_10', 'manu_gsk', 'ingre_famotidine', 'ingre_magnesium', 'brand_tums', 'eff_max_str', 'manu_rb', 'manu_jj', 'inch_q_30', 'count_q_20', 'eff_fast_acting', 'brand_amazon_basic_care', 'safe_count', 'count_q_30', 'weight_q_00', 'brand_pepcid', 'eff_long_lasting', 'manu_perrigo', 'brand_prelief', 'brand_prilosec', 'ingre_simethicone', 'brand_nexium']\n",
    "\n",
    "# New mapping of feature names to new names\n",
    "feature_mapping = {\n",
    "    'fsa_flg': 'FSA or HSA Eligible',\n",
    "    'inch_q_00': 'Size/Inches (Lowest Quantile)',\n",
    "    'sym_count': 'Symptom Treats Count',\n",
    "    'ingre_calcium': 'Ingredient - Calcium',\n",
    "    'weight_q_10': 'Size/Weight (Low Quantile)',\n",
    "    'count_q_00': 'Size/Counts per Pack (Lowest Quantile)',\n",
    "    'inch_q_10': 'Size/Inches (Low Quantile)',\n",
    "    'inch_q_20': 'Size/Inches (High Quantile)',\n",
    "    'count_q_10': 'Size/Counts per Pack (Low Quantile)',\n",
    "    'manu_gsk': 'Manufacturer - GSK',\n",
    "    'ingre_famotidine': 'Ingredient - Famotidine',\n",
    "    'ingre_magnesium': 'Ingredient - Magnesium',\n",
    "    'brand_tums': 'Brand - Tums',\n",
    "    'eff_max_str': 'Special Effect - Maximum Strength',\n",
    "    'manu_rb': 'Manufacturer - Reckitt Benckiser',\n",
    "    'manu_jj': 'Manufacturer - Johnson & Johnson',\n",
    "    'inch_q_30': 'Size/Inches (Highest Quantile)',\n",
    "    'count_q_20': 'Size/Counts per Pack (High Quantile)',\n",
    "    'eff_fast_acting': 'Special Effect - Fast-Acting',\n",
    "    'brand_amazon_basic_care': 'Brand - Amazon Basic Care',\n",
    "    'safe_count': 'Safety Warning Count',\n",
    "    'count_q_30': 'Size/Counts per Pack (Highest Quantile)',\n",
    "    'weight_q_00': 'Size/Weight (Lowest Quantile)',\n",
    "    'brand_pepcid': 'Brand - Pepcid',\n",
    "    'eff_long_lasting': 'Special Effect - Long-Lasting',\n",
    "    'manu_perrigo': 'Manufacturer - Perrigo',\n",
    "    'brand_prelief': 'Brand - Prelief',\n",
    "    'brand_prilosec': 'Brand - Prilosec',\n",
    "    'ingre_simethicone': 'Ingredient - Simethicone',\n",
    "    'brand_nexium': 'Brand - Nexium'\n",
    "}\n",
    "\n",
    "# Filter variable_info to include only rows where the Feature is in top_features\n",
    "filtered_variable_info = variable_info[variable_info['Feature'].isin(top_features)]\n",
    "\n",
    "# Map the 'Feature' column to the new feature names and create a new column 'Feature2'\n",
    "filtered_variable_info['Feature2'] = filtered_variable_info['Feature'].map(feature_mapping)\n",
    "\n",
    "# Reorder the DataFrame based on the order of top_features\n",
    "filtered_variable_info['Feature'] = pd.Categorical(filtered_variable_info['Feature'], categories=top_features, ordered=True)\n",
    "filtered_variable_info = filtered_variable_info.sort_values('Feature')\n",
    "\n",
    "# Print the DataFrame with the new 'Feature2' column\n",
    "print(filtered_variable_info[['Feature2', 'Coefficient', 'Significance']])"
   ]
  },
  {
   "cell_type": "code",
   "execution_count": 22,
   "id": "89dc2afc",
   "metadata": {},
   "outputs": [
    {
     "data": {
      "image/png": "[encoded data removed]",
      "text/plain": [
       "<Figure size 864x576 with 1 Axes>"
      ]
     },
     "metadata": {
      "needs_background": "light"
     },
     "output_type": "display_data"
    }
   ],
   "source": [
    "import matplotlib.pyplot as plt\n",
    "from matplotlib.patches import Patch\n",
    "\n",
    "# Highlight specified factors\n",
    "highlighted_factors = [\n",
    "    'FSA or HSA Eligible',\n",
    "    'Size/Inches (Lowest Quantile)',\n",
    "    'Symptom Treats Count',\n",
    "    'Ingredient - Calcium',\n",
    "    'Size/Weight (Low Quantile)',\n",
    "    'Ingredient - Famotidine',\n",
    "    'Ingredient - Magnesium'\n",
    "]\n",
    "\n",
    "# Plotting\n",
    "plt.figure(figsize=(12, 8))  # Increased figure size\n",
    "colors = ['skyblue' if c >= 0 else 'lightcoral' for c in filtered_variable_info['Coefficient']]\n",
    "\n",
    "# Set alpha for bars based on highlighted factors\n",
    "alphas = [1 if factor in highlighted_factors else 0.2 for factor in filtered_variable_info['Feature2']]\n",
    "\n",
    "bars = plt.bar(range(len(filtered_variable_info)), filtered_variable_info['Coefficient'], color=colors, alpha=0.5)  # Set alpha for all bars\n",
    "for i, alpha in enumerate(alphas):\n",
    "    bars[i].set_alpha(alpha)  # Set alpha for specified factors\n",
    "\n",
    "plt.xlabel('Factor', fontsize=12)  # Increased font size\n",
    "plt.ylabel('Logistic Regression Coefficient', fontsize=12)  # Increased font size\n",
    "plt.title(\"Digestion Medicine Important Factors' Logistic Coefficients (Top 30)\", fontsize=14)  # Increased title font size\n",
    "plt.grid(axis='y', linestyle='--', alpha=0.7)\n",
    "plt.xticks(ticks=range(len(filtered_variable_info)), labels=filtered_variable_info['Feature2'], rotation=45, ha='right', fontsize=10)  # Adjusted x-ticks\n",
    "plt.yticks(fontsize=10)  # Increased font size for y-axis labels\n",
    "plt.tight_layout()\n",
    "\n",
    "# Create custom legend with only the labels for the highlighted factors and their respective colors\n",
    "highlighted_colors = ['skyblue', 'skyblue', 'skyblue', 'skyblue', 'skyblue', 'skyblue', 'skyblue']\n",
    "highlighted_elements = [Patch(facecolor=color, alpha=1, label=factor) for factor, color in zip(highlighted_factors, highlighted_colors)]\n",
    "plt.legend(handles=highlighted_elements, loc='upper right', fontsize=10, title='Highlighted Factors')\n",
    "\n",
    "# Increase y-axis limit\n",
    "#plt.ylim(bottom=-1.5, top=filtered_variable_info['Coefficient'].max() * 1.5)\n",
    "\n",
    "plt.show()"
   ]
  },
  {
   "cell_type": "code",
   "execution_count": null,
   "id": "a0b8f9b9",
   "metadata": {},
   "outputs": [],
   "source": [
    "## validate coef\n",
    "'ingre_calcium','ingre_famotidine','ingre_magnesium'"
   ]
  },
  {
   "cell_type": "code",
   "execution_count": 23,
   "id": "b849607d",
   "metadata": {},
   "outputs": [
    {
     "data": {
      "text/plain": [
       "ingre_calcium\n",
       "0    0.323032\n",
       "1    0.504848\n",
       "Name: vp, dtype: float64"
      ]
     },
     "execution_count": 23,
     "metadata": {},
     "output_type": "execute_result"
    }
   ],
   "source": [
    "data.groupby('ingre_calcium')['vp'].mean()"
   ]
  },
  {
   "cell_type": "code",
   "execution_count": 24,
   "id": "d91120ed",
   "metadata": {},
   "outputs": [
    {
     "data": {
      "text/plain": [
       "ingre_famotidine\n",
       "0    0.349076\n",
       "1    0.443697\n",
       "Name: vp, dtype: float64"
      ]
     },
     "execution_count": 24,
     "metadata": {},
     "output_type": "execute_result"
    }
   ],
   "source": [
    "data.groupby('ingre_famotidine')['vp'].mean()"
   ]
  },
  {
   "cell_type": "code",
   "execution_count": 25,
   "id": "67585ce0",
   "metadata": {},
   "outputs": [
    {
     "data": {
      "text/plain": [
       "ingre_magnesium\n",
       "0    0.342694\n",
       "1    0.428646\n",
       "Name: vp, dtype: float64"
      ]
     },
     "execution_count": 25,
     "metadata": {},
     "output_type": "execute_result"
    }
   ],
   "source": [
    "data.groupby('ingre_magnesium')['vp'].mean()"
   ]
  },
  {
   "cell_type": "markdown",
   "id": "d9118371",
   "metadata": {},
   "source": [
    "## analyze top ingredients brand"
   ]
  },
  {
   "cell_type": "code",
   "execution_count": null,
   "id": "e02ba108",
   "metadata": {},
   "outputs": [],
   "source": [
    "#'ingre_calcium', 'ingre_famotidine', 'ingre_magnesium'"
   ]
  },
  {
   "cell_type": "code",
   "execution_count": 66,
   "id": "3b236a88",
   "metadata": {},
   "outputs": [
    {
     "data": {
      "text/plain": [
       "brand_zyrtec                0\n",
       "brand_airborne              0\n",
       "brand_aleve                 0\n",
       "brand_allegra               0\n",
       "brand_benadryl              0\n",
       "brand_chloraseptic          0\n",
       "brand_claritin              0\n",
       "brand_coricidin_hbp         0\n",
       "brand_flonase               0\n",
       "brand_midol                 0\n",
       "brand_advil                 0\n",
       "brand_mucinex               0\n",
       "brand_motrin                0\n",
       "brand_zicam                 0\n",
       "brand_vicks                 0\n",
       "brand_tylenol               0\n",
       "brand_time_cap_labs_inc     0\n",
       "brand_theraflu              0\n",
       "brand_alka_seltzer_plus     1\n",
       "brand_natures_way           1\n",
       "brand_boiron                1\n",
       "brand_excedrin              2\n",
       "brand_quality_choice        2\n",
       "brand_hylands               2\n",
       "brand_a2z_store             3\n",
       "brand_major                 4\n",
       "brand_pepto_bismol          4\n",
       "brand_rite_aid              5\n",
       "brand_zegerid_otc           5\n",
       "brand_rolaids               7\n",
       "brand_prelief               7\n",
       "brand_mylanta               9\n",
       "brand_goodsense            11\n",
       "brand_nexium               12\n",
       "brand_gaviscon             12\n",
       "brand_prilosec             14\n",
       "brand_pepcid               14\n",
       "brand_amazon_basic_care    16\n",
       "brand_alka_seltzer         16\n",
       "brand_tums                 36\n",
       "dtype: int64"
      ]
     },
     "execution_count": 66,
     "metadata": {},
     "output_type": "execute_result"
    }
   ],
   "source": [
    "data[['brand_zyrtec', 'brand_zicam',\n",
    "       'brand_zegerid_otc', 'brand_vicks', 'brand_tylenol', 'brand_tums',\n",
    "       'brand_time_cap_labs_inc', 'brand_theraflu', 'brand_rolaids',\n",
    "       'brand_rite_aid', 'brand_quality_choice', 'brand_prilosec',\n",
    "       'brand_prelief', 'brand_pepto_bismol', 'brand_pepcid', 'brand_nexium',\n",
    "       'brand_natures_way', 'brand_mylanta', 'brand_mucinex', 'brand_motrin',\n",
    "       'brand_midol', 'brand_major', 'brand_hylands', 'brand_goodsense',\n",
    "       'brand_gaviscon', 'brand_flonase', 'brand_excedrin',\n",
    "       'brand_coricidin_hbp', 'brand_claritin', 'brand_chloraseptic',\n",
    "       'brand_boiron', 'brand_benadryl', 'brand_amazon_basic_care',\n",
    "       'brand_allegra', 'brand_alka_seltzer_plus', 'brand_alka_seltzer',\n",
    "       'brand_aleve', 'brand_airborne', 'brand_advil', 'brand_a2z_store']].sum().sort_values()"
   ]
  },
  {
   "cell_type": "code",
   "execution_count": 93,
   "id": "4d9312ed",
   "metadata": {},
   "outputs": [
    {
     "name": "stdout",
     "output_type": "stream",
     "text": [
      "                Brand  Count  Mean_Magnesium  Mean_Calcium  Mean_Famotidine\n",
      "0   Alka-Seltzer Plus    1.0        0.000000      0.000000         0.000000\n",
      "1        Nature's Way    1.0        0.000000      0.000000         0.000000\n",
      "2              Boiron    1.0        0.000000      0.000000         0.000000\n",
      "3            Excedrin    2.0        0.000000      0.000000         0.000000\n",
      "4      Quality Choice    2.0        0.000000      0.000000         0.000000\n",
      "5             Hylands    2.0        0.000000      0.000000         0.000000\n",
      "6           A2Z Store    3.0        0.000000      0.000000         0.000000\n",
      "7               Major    4.0        0.750000      0.000000         0.000000\n",
      "8        Pepto Bismol    4.0        0.000000      0.500000         0.000000\n",
      "9            Rite Aid    5.0        0.200000      0.000000         0.400000\n",
      "10        Zegerid OTC    5.0        0.000000      0.000000         0.000000\n",
      "11            Rolaids    7.0        0.714286      0.714286         0.000000\n",
      "12            Prelief    7.0        0.142857      0.857143         0.000000\n",
      "13            Mylanta    9.0        0.555556      0.444444         0.000000\n",
      "14          GoodSense   11.0        0.090909      0.000000         0.090909\n",
      "15             Nexium   12.0        0.083333      0.000000         0.000000\n",
      "16           Gaviscon   12.0        0.000000      0.000000         0.000000\n",
      "17           Prilosec   14.0        0.785714      0.000000         0.000000\n",
      "18             Pepcid   14.0        0.214286      0.214286         0.571429\n",
      "19  Amazon Basic Care   16.0        0.125000      0.187500         0.250000\n",
      "20       Alka-Seltzer   16.0        0.062500      0.125000         0.000000\n",
      "21               Tums   36.0        0.083333      0.555556         0.000000\n"
     ]
    }
   ],
   "source": [
    "import pandas as pd\n",
    "\n",
    "# Initialize an empty DataFrame to store the results\n",
    "brand_result = pd.DataFrame(columns=['Brand', 'Count', 'Mean_Magnesium', 'Mean_Calcium', 'Mean_Famotidine'])\n",
    "\n",
    "# Define the list of brand columns\n",
    "brand_columns = ['brand_alka_seltzer_plus', 'brand_natures_way', 'brand_boiron', 'brand_excedrin',\n",
    "                 'brand_quality_choice', 'brand_hylands', 'brand_a2z_store', 'brand_major', 'brand_pepto_bismol',\n",
    "                 'brand_rite_aid', 'brand_zegerid_otc', 'brand_rolaids', 'brand_prelief', 'brand_mylanta',\n",
    "                 'brand_goodsense', 'brand_nexium', 'brand_gaviscon', 'brand_prilosec', 'brand_pepcid',\n",
    "                 'brand_amazon_basic_care', 'brand_alka_seltzer', 'brand_tums']\n",
    "\n",
    "# Define the mapping of brand names\n",
    "brand_names = ['Alka-Seltzer Plus', \"Nature's Way\", 'Boiron', 'Excedrin', 'Quality Choice', 'Hylands', \n",
    "               'A2Z Store', 'Major', 'Pepto Bismol', 'Rite Aid', 'Zegerid OTC', 'Rolaids', 'Prelief', \n",
    "               'Mylanta', 'GoodSense', 'Nexium', 'Gaviscon', 'Prilosec', 'Pepcid', 'Amazon Basic Care', \n",
    "               'Alka-Seltzer', 'Tums']\n",
    "\n",
    "# Iterate over each brand column\n",
    "for idx, brand_col in enumerate(brand_columns):\n",
    "    # Filter the DataFrame where the current brand column equals 1\n",
    "    brand_data = data[data[brand_col] == 1]\n",
    "    \n",
    "    # Calculate the count and mean of 'ingre_magnesium'\n",
    "    count_mean_magnesium = brand_data['ingre_magnesium'].agg(['count', 'mean'])\n",
    "    \n",
    "    # Calculate the count and mean of 'ingre_calcium'\n",
    "    count_mean_calcium = brand_data['ingre_calcium'].agg(['count', 'mean'])\n",
    "    \n",
    "    # Calculate the count and mean of 'ingre_famotidine'\n",
    "    count_mean_famotidine = brand_data['ingre_famotidine'].agg(['count', 'mean'])\n",
    "    \n",
    "    # Append the results to the brand_result DataFrame\n",
    "    brand_result = brand_result.append({'Brand': brand_names[idx],\n",
    "                                        'Count': count_mean_magnesium['count'],\n",
    "                                        'Mean_Magnesium': count_mean_magnesium['mean'],\n",
    "                                        'Mean_Calcium': count_mean_calcium['mean'],\n",
    "                                        'Mean_Famotidine': count_mean_famotidine['mean']},\n",
    "                                       ignore_index=True)\n",
    "\n",
    "# Display the brand_result DataFrame\n",
    "print(brand_result)"
   ]
  },
  {
   "cell_type": "code",
   "execution_count": 98,
   "id": "1df10ffe",
   "metadata": {},
   "outputs": [
    {
     "data": {
      "text/plain": [
       "(brand_mylanta\n",
       " 0    0.176471\n",
       " 1    0.444444\n",
       " Name: ingre_calcium, dtype: float64,)"
      ]
     },
     "execution_count": 98,
     "metadata": {},
     "output_type": "execute_result"
    }
   ],
   "source": [
    "data.groupby('brand_tums')['ingre_calcium'].mean(),\n",
    "data.groupby('brand_prelief')['ingre_calcium'].mean(),\n",
    "data.groupby('brand_rolaids')['ingre_calcium'].mean(),\n",
    "data.groupby('brand_mylanta')['ingre_calcium'].mean(),"
   ]
  },
  {
   "cell_type": "code",
   "execution_count": 100,
   "id": "2170de63",
   "metadata": {},
   "outputs": [
    {
     "data": {
      "text/plain": [
       "(brand_pepcid\n",
       " 0    0.056818\n",
       " 1    0.571429\n",
       " Name: ingre_famotidine, dtype: float64,)"
      ]
     },
     "execution_count": 100,
     "metadata": {},
     "output_type": "execute_result"
    }
   ],
   "source": [
    "data.groupby('brand_pepcid')['ingre_famotidine'].mean(),"
   ]
  },
  {
   "cell_type": "code",
   "execution_count": 102,
   "id": "6a04cf99",
   "metadata": {},
   "outputs": [
    {
     "data": {
      "text/plain": [
       "(brand_rolaids\n",
       " 0    0.147632\n",
       " 1    0.714286\n",
       " Name: ingre_magnesium, dtype: float64,\n",
       " brand_mylanta\n",
       " 0    0.148459\n",
       " 1    0.555556\n",
       " Name: ingre_magnesium, dtype: float64)"
      ]
     },
     "execution_count": 102,
     "metadata": {},
     "output_type": "execute_result"
    }
   ],
   "source": [
    "data.groupby('brand_rolaids')['ingre_magnesium'].mean(),data.groupby('brand_mylanta')['ingre_magnesium'].mean(),"
   ]
  },
  {
   "cell_type": "code",
   "execution_count": null,
   "id": "4022fd6d",
   "metadata": {},
   "outputs": [],
   "source": []
  }
 ],
 "metadata": {
  "kernelspec": {
   "display_name": "Python 3 (ipykernel)",
   "language": "python",
   "name": "python3"
  },
  "language_info": {
   "codemirror_mode": {
    "name": "ipython",
    "version": 3
   },
   "file_extension": ".py",
   "mimetype": "text/x-python",
   "name": "python",
   "nbconvert_exporter": "python",
   "pygments_lexer": "ipython3",
   "version": "3.9.7"
  }
 },
 "nbformat": 4,
 "nbformat_minor": 5
}
