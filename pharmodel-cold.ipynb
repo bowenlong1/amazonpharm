{
 "cells": [
  {
   "cell_type": "code",
   "execution_count": 1,
   "id": "eabe1623",
   "metadata": {},
   "outputs": [],
   "source": [
    "import numpy as np\n",
    "import pandas as pd\n",
    "import datetime as dt\n",
    "import re\n",
    "import matplotlib.pyplot as plt\n",
    "from collections import Counter\n",
    "import seaborn as sns\n",
    "from nltk.tokenize import word_tokenize\n",
    "from nltk.probability import FreqDist"
   ]
  },
  {
   "cell_type": "code",
   "execution_count": 2,
   "id": "257d0313",
   "metadata": {},
   "outputs": [],
   "source": [
    "df = pd.read_csv('pharmodel_v5.csv')"
   ]
  },
  {
   "cell_type": "code",
   "execution_count": 3,
   "id": "89b8dc9c",
   "metadata": {},
   "outputs": [
    {
     "data": {
      "text/plain": [
       "(1445, 173)"
      ]
     },
     "execution_count": 3,
     "metadata": {},
     "output_type": "execute_result"
    }
   ],
   "source": [
    "df.shape"
   ]
  },
  {
   "cell_type": "code",
   "execution_count": 4,
   "id": "955c8569",
   "metadata": {},
   "outputs": [],
   "source": [
    "#df['safe_count'].mean()"
   ]
  },
  {
   "cell_type": "code",
   "execution_count": 5,
   "id": "48450711",
   "metadata": {},
   "outputs": [],
   "source": [
    "df['y_class'] = df['vp_cat3']"
   ]
  },
  {
   "cell_type": "code",
   "execution_count": 6,
   "id": "7747e0ca",
   "metadata": {},
   "outputs": [],
   "source": [
    "df['safe_count'] = df[['safe_rash', 'safe_fever', 'safe_liver',\n",
    "       'safe_throat', 'safe_skin', 'safe_nausea', 'safe_vomiting',\n",
    "       'safe_allergic', 'safe_drowsiness', 'safe_stomach', 'safe_heart',\n",
    "       'safe_stroke', 'safe_heartburn', 'safe_lightheadedness',\n",
    "       'safe_sweating']].sum(axis=1)"
   ]
  },
  {
   "cell_type": "code",
   "execution_count": 9,
   "id": "15fe0aa3",
   "metadata": {},
   "outputs": [],
   "source": [
    "# Create sym_count by counting the occurrences of 1's across sym features\n",
    "df['sym_count'] = df[['sym_throat', 'sym_stomach', 'sym_sneezing', 'sym_sinus', \n",
    "                      'sym_pain', 'sym_nose', 'sym_nausea', 'sym_nasal', 'sym_migranie', \n",
    "                      'sym_menstrual', 'sym_itchy', 'sym_heart', 'sym_headache', 'sym_flu',\n",
    "                      'sym_fever', 'sym_eyes', 'sym_digestion', 'sym_cough', 'sym_cold', 'sym_chest',\n",
    "                      'sym_arthritis', 'sym_allergy', 'sym_acid']].sum(axis=1)"
   ]
  },
  {
   "cell_type": "code",
   "execution_count": 10,
   "id": "1a42788e",
   "metadata": {},
   "outputs": [],
   "source": [
    "X_features = ['sym_count','fsa_flg', 'eff_max_str', 'eff_fast_acting', 'eff_long_lasting',\n",
    "       'eff_non_drowsy', 'eff_kid', 'ingre_zinc', 'ingre_simethicone', 'ingre_pulsatilla',\n",
    "       'ingre_phosphorus', 'ingre_phenylephrine', 'ingre_perfoliatum',\n",
    "       'ingre_peppermint', 'ingre_omeprazole', 'ingre_naproxen',\n",
    "       'ingre_menthol', 'ingre_magnesium', 'ingre_loratadine', 'ingre_kali',\n",
    "       'ingre_ipecacuanha', 'ingre_ibuprofen', 'ingre_hydrobromide',\n",
    "       'ingre_guaifenesin', 'ingre_gelsemium', 'ingre_fexofenadine',\n",
    "       'ingre_famotidine', 'ingre_eupatorium', 'ingre_eucalyptus',\n",
    "       'ingre_esomeprazole', 'ingre_echinacea', 'ingre_doxylamine',\n",
    "       'ingre_diphenhydramine', 'ingre_dextromethorphan',\n",
    "       'ingre_chlorpheniramine', 'ingre_cetirizine', 'ingre_calcium',\n",
    "       'ingre_bryonia', 'ingre_antihistamine', 'ingre_aluminum',\n",
    "       'ingre_acetaminophen', 'brand_zyrtec', 'brand_zicam',\n",
    "       'brand_zegerid_otc', 'brand_vicks', 'brand_tylenol', 'brand_tums',\n",
    "       'brand_time_cap_labs_inc', 'brand_theraflu', 'brand_rolaids',\n",
    "       'brand_rite_aid', 'brand_quality_choice', 'brand_prilosec',\n",
    "       'brand_prelief', 'brand_pepto_bismol', 'brand_pepcid', 'brand_nexium',\n",
    "       'brand_natures_way', 'brand_mylanta', 'brand_mucinex', 'brand_motrin',\n",
    "       'brand_midol', 'brand_major', 'brand_hylands', 'brand_goodsense',\n",
    "       'brand_gaviscon', 'brand_flonase', 'brand_excedrin',\n",
    "       'brand_coricidin_hbp', 'brand_claritin', 'brand_chloraseptic',\n",
    "       'brand_boiron', 'brand_benadryl', 'brand_amazon_basic_care',\n",
    "       'brand_allegra', 'brand_alka_seltzer_plus', 'brand_alka_seltzer',\n",
    "       'brand_aleve', 'brand_airborne', 'brand_advil', 'brand_a2z_store',\n",
    "       'manu_gsk', 'manu_jj', 'manu_bayer', 'manu_rb', 'manu_perrigo',\n",
    "       'manu_pg', 'manu_sanofi', 'manu_ama', 'manu_major', 'manu_rite',\n",
    "       'manu_boiron', 'manu_pfizer', 'manu_hyland', 'manu_alka',\n",
    "       'manu_allegiant', 'manu_prestige', 'manu_dwight', 'manu_emc', 'manu_nw',\n",
    "       'manu_walmart', 'manu_kirkland', 'manu_ohm', 'manu_reddy',\n",
    "       'manu_bionpharma', 'manu_time', 'count_q_00', 'count_q_10',\n",
    "       'count_q_20', 'count_q_30', 'inch_q_00', 'inch_q_10', 'inch_q_20',\n",
    "       'inch_q_30', 'weight_q_00', 'weight_q_10', 'weight_q_20', 'weight_q_30',\n",
    "             'safe_count']"
   ]
  },
  {
   "cell_type": "code",
   "execution_count": 11,
   "id": "5539943a",
   "metadata": {},
   "outputs": [],
   "source": [
    "data = df[df.cat=='cold'][X_features+['y_class','vp', 'cat', 'asin', 'rating', 'reviews', 'price']]"
   ]
  },
  {
   "cell_type": "code",
   "execution_count": 12,
   "id": "4f34955a",
   "metadata": {},
   "outputs": [
    {
     "data": {
      "text/plain": [
       "0    226\n",
       "1    225\n",
       "Name: y_class, dtype: int64"
      ]
     },
     "execution_count": 12,
     "metadata": {},
     "output_type": "execute_result"
    }
   ],
   "source": [
    "data.y_class.value_counts()"
   ]
  },
  {
   "cell_type": "code",
   "execution_count": 13,
   "id": "1a745140",
   "metadata": {},
   "outputs": [
    {
     "data": {
      "text/plain": [
       "1.6141906873614191"
      ]
     },
     "execution_count": 13,
     "metadata": {},
     "output_type": "execute_result"
    }
   ],
   "source": [
    "data.safe_count.mean()"
   ]
  },
  {
   "cell_type": "code",
   "execution_count": 14,
   "id": "393e1cc6",
   "metadata": {},
   "outputs": [
    {
     "data": {
      "text/plain": [
       "(4.569565217391306, 19.08083850931672)"
      ]
     },
     "execution_count": 14,
     "metadata": {},
     "output_type": "execute_result"
    }
   ],
   "source": [
    "data[data.safe_count<1].rating.mean(), data[data.safe_count<1].price.mean()"
   ]
  },
  {
   "cell_type": "code",
   "execution_count": 15,
   "id": "72ad5f5a",
   "metadata": {},
   "outputs": [
    {
     "data": {
      "text/plain": [
       "(4.682170542635661, 12.950697674418613)"
      ]
     },
     "execution_count": 15,
     "metadata": {},
     "output_type": "execute_result"
    }
   ],
   "source": [
    "data[data.safe_count>=1].rating.mean(), data[data.safe_count>=1].price.mean()"
   ]
  },
  {
   "cell_type": "code",
   "execution_count": 16,
   "id": "41da3d2b",
   "metadata": {},
   "outputs": [],
   "source": [
    "##data.safe_count.mean()"
   ]
  },
  {
   "cell_type": "code",
   "execution_count": 17,
   "id": "5518fff2",
   "metadata": {},
   "outputs": [],
   "source": [
    "## binary safe count\n",
    "data['safe_warn'] = 0\n",
    "data.loc[data.safe_count>=1, 'safe_warn'] = 1"
   ]
  },
  {
   "cell_type": "code",
   "execution_count": 18,
   "id": "65d971da",
   "metadata": {},
   "outputs": [
    {
     "data": {
      "text/html": [
       "<div>\n",
       "<style scoped>\n",
       "    .dataframe tbody tr th:only-of-type {\n",
       "        vertical-align: middle;\n",
       "    }\n",
       "\n",
       "    .dataframe tbody tr th {\n",
       "        vertical-align: top;\n",
       "    }\n",
       "\n",
       "    .dataframe thead th {\n",
       "        text-align: right;\n",
       "    }\n",
       "</style>\n",
       "<table border=\"1\" class=\"dataframe\">\n",
       "  <thead>\n",
       "    <tr style=\"text-align: right;\">\n",
       "      <th></th>\n",
       "      <th>count</th>\n",
       "      <th>mean</th>\n",
       "    </tr>\n",
       "    <tr>\n",
       "      <th>safe_count</th>\n",
       "      <th></th>\n",
       "      <th></th>\n",
       "    </tr>\n",
       "  </thead>\n",
       "  <tbody>\n",
       "    <tr>\n",
       "      <th>0</th>\n",
       "      <td>322</td>\n",
       "      <td>0.329716</td>\n",
       "    </tr>\n",
       "    <tr>\n",
       "      <th>1</th>\n",
       "      <td>13</td>\n",
       "      <td>0.393139</td>\n",
       "    </tr>\n",
       "    <tr>\n",
       "      <th>2</th>\n",
       "      <td>24</td>\n",
       "      <td>0.391470</td>\n",
       "    </tr>\n",
       "    <tr>\n",
       "      <th>3</th>\n",
       "      <td>4</td>\n",
       "      <td>0.468047</td>\n",
       "    </tr>\n",
       "    <tr>\n",
       "      <th>4</th>\n",
       "      <td>2</td>\n",
       "      <td>0.487705</td>\n",
       "    </tr>\n",
       "    <tr>\n",
       "      <th>5</th>\n",
       "      <td>20</td>\n",
       "      <td>0.415628</td>\n",
       "    </tr>\n",
       "    <tr>\n",
       "      <th>6</th>\n",
       "      <td>3</td>\n",
       "      <td>0.452184</td>\n",
       "    </tr>\n",
       "    <tr>\n",
       "      <th>7</th>\n",
       "      <td>17</td>\n",
       "      <td>0.366599</td>\n",
       "    </tr>\n",
       "    <tr>\n",
       "      <th>8</th>\n",
       "      <td>18</td>\n",
       "      <td>0.436415</td>\n",
       "    </tr>\n",
       "    <tr>\n",
       "      <th>9</th>\n",
       "      <td>18</td>\n",
       "      <td>0.478159</td>\n",
       "    </tr>\n",
       "    <tr>\n",
       "      <th>10</th>\n",
       "      <td>7</td>\n",
       "      <td>0.543828</td>\n",
       "    </tr>\n",
       "    <tr>\n",
       "      <th>11</th>\n",
       "      <td>2</td>\n",
       "      <td>0.247235</td>\n",
       "    </tr>\n",
       "    <tr>\n",
       "      <th>12</th>\n",
       "      <td>1</td>\n",
       "      <td>0.271547</td>\n",
       "    </tr>\n",
       "  </tbody>\n",
       "</table>\n",
       "</div>"
      ],
      "text/plain": [
       "            count      mean\n",
       "safe_count                 \n",
       "0             322  0.329716\n",
       "1              13  0.393139\n",
       "2              24  0.391470\n",
       "3               4  0.468047\n",
       "4               2  0.487705\n",
       "5              20  0.415628\n",
       "6               3  0.452184\n",
       "7              17  0.366599\n",
       "8              18  0.436415\n",
       "9              18  0.478159\n",
       "10              7  0.543828\n",
       "11              2  0.247235\n",
       "12              1  0.271547"
      ]
     },
     "execution_count": 18,
     "metadata": {},
     "output_type": "execute_result"
    }
   ],
   "source": [
    "data.groupby('safe_count')['vp'].agg(['count', 'mean'])"
   ]
  },
  {
   "cell_type": "code",
   "execution_count": 19,
   "id": "286550b2",
   "metadata": {},
   "outputs": [
    {
     "name": "stdout",
     "output_type": "stream",
     "text": [
      "                Ingredient  Chi-Square Statistic       P-value Count\n",
      "3         ingre_phosphorus              3.960452  4.658119e-02    17\n",
      "4      ingre_phenylephrine             35.309955  2.811911e-09   106\n",
      "5        ingre_perfoliatum              6.936184  8.446911e-03    12\n",
      "13       ingre_ipecacuanha              4.410719  3.571378e-02    14\n",
      "15      ingre_hydrobromide             17.633946  2.677660e-05    32\n",
      "16       ingre_guaifenesin              5.991915  1.437159e-02    85\n",
      "17         ingre_gelsemium              5.983763  1.443816e-02    15\n",
      "20        ingre_eupatorium              8.867729  2.902560e-03    13\n",
      "24        ingre_doxylamine             39.091025  4.044991e-10    40\n",
      "26  ingre_dextromethorphan             41.391094  1.246239e-10   131\n",
      "30           ingre_bryonia              5.433375  1.975547e-02    23\n",
      "33     ingre_acetaminophen             40.737509  1.741128e-10   112\n"
     ]
    }
   ],
   "source": [
    "from scipy.stats import chi2_contingency\n",
    "\n",
    "# Selecting relevant columns for each group\n",
    "#group1 = data[data['safe_count'] >= 1]\n",
    "#group2 = data[data['safe_count'] == 0]\n",
    "\n",
    "# Ingredients to compare\n",
    "ingredients_to_compare = ['ingre_zinc', 'ingre_simethicone', 'ingre_pulsatilla',\n",
    "       'ingre_phosphorus', 'ingre_phenylephrine', 'ingre_perfoliatum',\n",
    "       'ingre_peppermint', 'ingre_omeprazole', 'ingre_naproxen',\n",
    "       'ingre_menthol', 'ingre_magnesium', 'ingre_loratadine', 'ingre_kali',\n",
    "       'ingre_ipecacuanha', 'ingre_ibuprofen', 'ingre_hydrobromide',\n",
    "       'ingre_guaifenesin', 'ingre_gelsemium', 'ingre_fexofenadine',\n",
    "       'ingre_famotidine', 'ingre_eupatorium', 'ingre_eucalyptus',\n",
    "       'ingre_esomeprazole', 'ingre_echinacea', 'ingre_doxylamine',\n",
    "       'ingre_diphenhydramine', 'ingre_dextromethorphan',\n",
    "       'ingre_chlorpheniramine', 'ingre_cetirizine', 'ingre_calcium',\n",
    "       'ingre_bryonia', 'ingre_antihistamine', 'ingre_aluminum',\n",
    "       'ingre_acetaminophen']\n",
    "\n",
    "# Initialize a DataFrame to store the chi-square test results\n",
    "results = pd.DataFrame(columns=['Ingredient', 'Chi-Square Statistic', 'P-value', 'Count'])\n",
    "\n",
    "# Perform chi-square test for each ingredient\n",
    "for ingredient in ingredients_to_compare:\n",
    "    # Create a contingency table\n",
    "    contingency_table = pd.crosstab(data['safe_warn'], data[ingredient])\n",
    "    \n",
    "    # Check if there is data in the contingency table\n",
    "    if contingency_table.size > 0:\n",
    "        # Perform the chi-square test\n",
    "        chi2, p, _, _ = chi2_contingency(contingency_table)\n",
    "        \n",
    "        # Append the results to the DataFrame\n",
    "        results = results.append({'Ingredient': ingredient,\n",
    "                                  'Chi-Square Statistic': chi2,\n",
    "                                  'P-value': p,\n",
    "                                 'Count': sum(data[ingredient])}, ignore_index=True)\n",
    "\n",
    "# Display the results\n",
    "print(results[results['P-value']<0.05])"
   ]
  },
  {
   "cell_type": "code",
   "execution_count": 20,
   "id": "cd40f739",
   "metadata": {},
   "outputs": [
    {
     "name": "stdout",
     "output_type": "stream",
     "text": [
      "===== Logistic Regression =====\n"
     ]
    },
    {
     "name": "stderr",
     "output_type": "stream",
     "text": [
      "/Users/bowenlong/opt/anaconda3/lib/python3.9/site-packages/sklearn/linear_model/_logistic.py:460: ConvergenceWarning: lbfgs failed to converge (status=1):\n",
      "STOP: TOTAL NO. of ITERATIONS REACHED LIMIT.\n",
      "\n",
      "Increase the number of iterations (max_iter) or scale the data as shown in:\n",
      "    https://scikit-learn.org/stable/modules/preprocessing.html\n",
      "Please also refer to the documentation for alternative solver options:\n",
      "    https://scikit-learn.org/stable/modules/linear_model.html#logistic-regression\n",
      "  n_iter_i = _check_optimize_result(\n"
     ]
    },
    {
     "name": "stdout",
     "output_type": "stream",
     "text": [
      "[0.63736264 0.68888889 0.72222222 0.65555556 0.47777778] Accuracy: 0.6364 ± 0.0844\n",
      "[0.58823529 0.65454545 0.75       0.73333333 0.46666667] Precision: 0.6386 ± 0.1037\n",
      "[0.88888889 0.8        0.66666667 0.48888889 0.31111111] Recall: 0.6311 ± 0.2092\n",
      "[0.7079646  0.72       0.70588235 0.58666667 0.37333333] F1: 0.6188 ± 0.1320\n",
      "[0.68599034 0.79160494 0.75604938 0.75160494 0.54691358] Roc_auc: 0.7064 ± 0.0867\n",
      "\n",
      "===== Decision Tree =====\n",
      "[0.52747253 0.66666667 0.67777778 0.66666667 0.62222222] Accuracy: 0.6322 ± 0.0557\n",
      "[0.51851852 0.64150943 0.69047619 0.71428571 0.66666667] Precision: 0.6463 ± 0.0683\n",
      "[0.62222222 0.75555556 0.64444444 0.55555556 0.48888889] Recall: 0.6133 ± 0.0896\n",
      "[0.56565657 0.69387755 0.66666667 0.625      0.56410256] F1: 0.6231 ± 0.0523\n",
      "[0.52850242 0.66666667 0.67777778 0.6308642  0.62222222] Roc_auc: 0.6252 ± 0.0527\n",
      "\n",
      "===== MLP =====\n",
      "Best hyperparameters for MLP: {'classifier__activation': 'relu', 'classifier__hidden_layer_sizes': (50, 50), 'classifier__solver': 'adam'}\n",
      "[0.50549451 0.64444444 0.73333333 0.7        0.57777778] Accuracy: 0.6322 ± 0.0825\n",
      "[0.5        0.62264151 0.69811321 0.725      0.60606061] Precision: 0.6304 ± 0.0790\n",
      "[0.95555556 0.73333333 0.82222222 0.64444444 0.44444444] Recall: 0.7200 ± 0.1719\n",
      "[0.65648855 0.67346939 0.75510204 0.68235294 0.51282051] F1: 0.6560 ± 0.0791\n",
      "[0.59371981 0.70320988 0.78123457 0.70962963 0.63382716] Roc_auc: 0.6843 ± 0.0650\n",
      "\n",
      "===== Random Forest =====\n",
      "Best hyperparameters for Random Forest: {'classifier__bootstrap': False, 'classifier__max_depth': 20, 'classifier__min_samples_split': 2, 'classifier__n_estimators': 100}\n",
      "[0.64835165 0.76666667 0.71111111 0.75555556 0.56666667] Accuracy: 0.6897 ± 0.0743\n",
      "[0.6        0.73076923 0.74358974 0.84848485 0.61538462] Precision: 0.7076 ± 0.0914\n",
      "[0.86666667 0.84444444 0.64444444 0.62222222 0.35555556] Recall: 0.6667 ± 0.1849\n",
      "[0.70909091 0.78350515 0.69047619 0.71794872 0.45070423] F1: 0.6703 ± 0.1142\n",
      "[0.69927536 0.8237037  0.81185185 0.78518519 0.59382716] Roc_auc: 0.7428 ± 0.0863\n",
      "\n",
      "===== XGBoost =====\n",
      "Best hyperparameters for XGBoost: {'classifier__learning_rate': 0.05, 'classifier__max_depth': 3, 'classifier__n_estimators': 200}\n",
      "[0.63736264 0.74444444 0.75555556 0.72222222 0.56666667] Accuracy: 0.6853 ± 0.0723\n",
      "[0.6        0.72       0.75555556 0.8125     0.625     ] Precision: 0.7026 ± 0.0797\n",
      "[0.8        0.8        0.75555556 0.57777778 0.33333333] Recall: 0.6533 ± 0.1798\n",
      "[0.68571429 0.75789474 0.75555556 0.67532468 0.43478261] F1: 0.6619 ± 0.1186\n",
      "[0.67874396 0.79382716 0.80345679 0.77950617 0.57259259] Roc_auc: 0.7256 ± 0.0886\n",
      "\n",
      "===== Gaussian NB =====\n",
      "[0.63736264 0.6        0.56666667 0.56666667 0.46666667] Accuracy: 0.5675 ± 0.0568\n",
      "[0.7        0.71428571 0.71428571 0.6875     0.41176471] Precision: 0.6456 ± 0.1173\n",
      "[0.46666667 0.33333333 0.22222222 0.24444444 0.15555556] Recall: 0.2844 ± 0.1074\n",
      "[0.56       0.45454545 0.33898305 0.36065574 0.22580645] F1: 0.3880 ± 0.1127\n",
      "[0.63671498 0.68888889 0.67901235 0.6745679  0.55753086] Roc_auc: 0.6473 ± 0.0483\n",
      "\n",
      "===== KNN =====\n",
      "[0.52747253 0.6        0.72222222 0.58888889 0.53333333] Accuracy: 0.5944 ± 0.0702\n",
      "[0.51315789 0.6        0.8125     0.63333333 0.57894737] Precision: 0.6276 ± 0.1004\n",
      "[0.86666667 0.6        0.57777778 0.42222222 0.24444444] Recall: 0.5422 ± 0.2064\n",
      "[0.6446281  0.6        0.67532468 0.50666667 0.34375   ] F1: 0.5541 ± 0.1196\n",
      "[0.57560386 0.60987654 0.73703704 0.67135802 0.5817284 ] Roc_auc: 0.6351 ± 0.0612\n",
      "\n",
      "===== LDA =====\n",
      "[0.6043956  0.72222222 0.62222222 0.63333333 0.51111111] Accuracy: 0.6187 ± 0.0674\n",
      "[0.57142857 0.67241379 0.64864865 0.66666667 0.51612903] Precision: 0.6151 ± 0.0613\n",
      "[0.8        0.86666667 0.53333333 0.53333333 0.35555556] Recall: 0.6178 ± 0.1888\n",
      "[0.66666667 0.75728155 0.58536585 0.59259259 0.42105263] F1: 0.6046 ± 0.1108\n",
      "[0.68599034 0.78469136 0.74864198 0.74617284 0.54938272] Roc_auc: 0.7030 ± 0.0831\n",
      "\n"
     ]
    }
   ],
   "source": [
    "from sklearn.datasets import load_iris\n",
    "from sklearn.model_selection import train_test_split, GridSearchCV,  cross_validate\n",
    "from sklearn.linear_model import LogisticRegression\n",
    "from sklearn.tree import DecisionTreeClassifier\n",
    "from sklearn.neural_network import MLPClassifier\n",
    "from sklearn.ensemble import RandomForestClassifier\n",
    "from xgboost import XGBClassifier\n",
    "from sklearn.naive_bayes import GaussianNB\n",
    "from sklearn.neighbors import KNeighborsClassifier\n",
    "from sklearn.discriminant_analysis import LinearDiscriminantAnalysis\n",
    "from sklearn.metrics import accuracy_score, precision_score, recall_score, f1_score, roc_auc_score, make_scorer\n",
    "from sklearn.pipeline import Pipeline\n",
    "import numpy as np\n",
    "\n",
    "# Load dataset and split into training, validation, and testing sets\n",
    "\n",
    "X_train, y_train, z = data[X_features], data['y_class'], data['vp']\n",
    "# X_train, X_test, y_train, y_test, z_train, z_test = train_test_split(X, y, z, test_size=0.2, random_state=42, stratify=y)\n",
    "\n",
    "\n",
    "# Define models\n",
    "models = {\n",
    "    'Logistic Regression': LogisticRegression(random_state=42),\n",
    "    'Decision Tree': DecisionTreeClassifier(random_state=42),\n",
    "    'MLP': MLPClassifier(early_stopping=True, max_iter=1000,random_state=42),\n",
    "    'Random Forest': RandomForestClassifier(random_state=42),\n",
    "    'XGBoost': XGBClassifier(random_state=42),\n",
    "    'Gaussian NB': GaussianNB(),\n",
    "    'KNN': KNeighborsClassifier(),\n",
    "    'LDA': LinearDiscriminantAnalysis()\n",
    "}\n",
    "\n",
    "# Hyperparameters for grid search\n",
    "param_grids = {\n",
    "    'Random Forest': {\n",
    "        'classifier__n_estimators': [50, 100, 200,300],\n",
    "        'classifier__max_depth': [None, 10, 20, 30],\n",
    "        'classifier__min_samples_split': [2, 5, 10],\n",
    "        'classifier__bootstrap':[True,False]\n",
    "    }\n",
    "     ,\n",
    "    'XGBoost': {\n",
    "        'classifier__learning_rate': [0.01, 0.05, 0.1],\n",
    "        'classifier__n_estimators': [100, 200,300],\n",
    "        'classifier__max_depth': [3, 5, 7],\n",
    "    },\n",
    "    'MLP': {\n",
    "        'classifier__hidden_layer_sizes': [(50,), (100,), (50, 50)],\n",
    "        'classifier__activation': ['relu', 'tanh'],\n",
    "        'classifier__solver': ['adam', 'sgd'],\n",
    "    }\n",
    "}\n",
    "\n",
    "scoring = {\n",
    "    'accuracy': make_scorer(accuracy_score),\n",
    "    'precision': make_scorer(precision_score),\n",
    "    'recall': make_scorer(recall_score),\n",
    "    'f1': make_scorer(f1_score),\n",
    "    'roc_auc': make_scorer(roc_auc_score, needs_proba=True)\n",
    "}\n",
    "\n",
    "for name, model in models.items():\n",
    "    print(f\"===== {name} =====\")\n",
    "    \n",
    "    pipeline = Pipeline([\n",
    "        ('classifier', model)\n",
    "    ])\n",
    "    \n",
    "    # If the model has hyperparameters to tune, apply GridSearchCV\n",
    "    if name in param_grids:\n",
    "        grid_search = GridSearchCV(pipeline, param_grids[name], cv=5, n_jobs=-1)\n",
    "        grid_search.fit(X_train, y_train)\n",
    "        best_pipeline = grid_search.best_estimator_\n",
    "#         if name == 'Random Forest':\n",
    "#             rf_model = best_pipeline\n",
    "        # Output the best hyperparameters for each model\n",
    "        print(f\"Best hyperparameters for {name}: {grid_search.best_params_}\")\n",
    "    else:\n",
    "        best_pipeline = pipeline\n",
    "        best_pipeline.fit(X_train, y_train)\n",
    "    \n",
    "    if name == 'Random Forest':\n",
    "        rf_model = best_pipeline\n",
    "    if name == 'XGBoost':\n",
    "        gb_model = best_pipeline\n",
    "    if name == 'LDA':\n",
    "        lda_model = best_pipeline\n",
    "    if name == 'Logistic Regression':\n",
    "        lr_model = best_pipeline\n",
    "    \n",
    "    # Cross-Validation metrics\n",
    "    cv_results = cross_validate(best_pipeline, X_train, y_train, cv=5, scoring=scoring)\n",
    "    \n",
    "    for metric in scoring.keys():\n",
    "        mean_metric = np.mean(cv_results[f'test_{metric}'])\n",
    "        std_metric = np.std(cv_results[f'test_{metric}'])\n",
    "        print(cv_results[f'test_{metric}'],f\"{metric.capitalize()}: {mean_metric:.4f} ± {std_metric:.4f}\")\n",
    "\n",
    "        \n",
    "    print()"
   ]
  },
  {
   "cell_type": "code",
   "execution_count": 21,
   "id": "6760ce4c",
   "metadata": {},
   "outputs": [],
   "source": [
    "#best_pipeline"
   ]
  },
  {
   "cell_type": "markdown",
   "id": "d42880de",
   "metadata": {},
   "source": [
    "# Variable importance"
   ]
  },
  {
   "cell_type": "code",
   "execution_count": 22,
   "id": "bc3f0ed4",
   "metadata": {},
   "outputs": [],
   "source": [
    "## 1shap"
   ]
  },
  {
   "cell_type": "code",
   "execution_count": 23,
   "id": "aa83fcd9",
   "metadata": {},
   "outputs": [],
   "source": [
    "#pip install shap"
   ]
  },
  {
   "cell_type": "code",
   "execution_count": 24,
   "id": "870d6b3e",
   "metadata": {},
   "outputs": [
    {
     "data": {
      "image/png": "[encoded data removed]",
      "text/plain": [
       "<Figure size 720x576 with 1 Axes>"
      ]
     },
     "metadata": {
      "needs_background": "light"
     },
     "output_type": "display_data"
    }
   ],
   "source": [
    "import shap\n",
    "import numpy as np\n",
    "import matplotlib.pyplot as plt\n",
    "\n",
    "# Create a SHAP explainer object\n",
    "explainer = shap.TreeExplainer(rf_model.named_steps['classifier'])\n",
    "shap_values = explainer.shap_values(X_train)\n",
    "\n",
    "# Calculate absolute mean SHAP values\n",
    "mean_abs_shap_values = np.mean(np.abs(shap_values[1]), axis=0)  # Considering only the positive class\n",
    "\n",
    "# Get feature names\n",
    "feature_names = X_train.columns  # Assuming X_train is a pandas DataFrame\n",
    "\n",
    "# Get indices of top 30 features sorted by absolute SHAP values\n",
    "top_indices = np.argsort(mean_abs_shap_values)[::-1][:30]\n",
    "\n",
    "# Select top 30 feature names and corresponding mean absolute SHAP values\n",
    "top_feature_names = [feature_names[i] for i in top_indices]\n",
    "top_mean_abs_shap_values = mean_abs_shap_values[top_indices]\n",
    "\n",
    "# Create a bar chart\n",
    "plt.figure(figsize=(10, 8))\n",
    "plt.barh(range(len(top_feature_names)), top_mean_abs_shap_values, align='center', color='skyblue')\n",
    "plt.yticks(range(len(top_feature_names)), top_feature_names)\n",
    "plt.xlabel('Mean Absolute SHAP Value')\n",
    "plt.title('Top 30 Feature Importance based on SHAP values')\n",
    "plt.gca().invert_yaxis()  # Invert y-axis to display the most important features at the top\n",
    "plt.show()"
   ]
  },
  {
   "cell_type": "code",
   "execution_count": 25,
   "id": "33d0fcc8",
   "metadata": {},
   "outputs": [],
   "source": [
    "## safe count tricky (phen, acetamin, dex)"
   ]
  },
  {
   "cell_type": "code",
   "execution_count": 26,
   "id": "fc199ff9",
   "metadata": {},
   "outputs": [
    {
     "data": {
      "text/plain": [
       "array([0.06723903, 0.03940049, 0.03833668, 0.03251326, 0.03034954,\n",
       "       0.02432674, 0.02279859, 0.0157373 , 0.0150941 , 0.01474666,\n",
       "       0.01466019, 0.01419067, 0.01370785, 0.01025868, 0.00924783,\n",
       "       0.00915865, 0.00907214, 0.00885787, 0.00878363, 0.00854915,\n",
       "       0.00843044, 0.0078912 , 0.00761954, 0.00723391, 0.00719403,\n",
       "       0.00655496, 0.00575395, 0.00571269, 0.00553868, 0.00520354])"
      ]
     },
     "execution_count": 26,
     "metadata": {},
     "output_type": "execute_result"
    }
   ],
   "source": [
    "top_mean_abs_shap_values"
   ]
  },
  {
   "cell_type": "code",
   "execution_count": 27,
   "id": "87a09332",
   "metadata": {},
   "outputs": [
    {
     "data": {
      "text/plain": [
       "0.02295140877412893"
      ]
     },
     "execution_count": 27,
     "metadata": {},
     "output_type": "execute_result"
    }
   ],
   "source": [
    "np.quantile(mean_abs_shap_values,0.95)"
   ]
  },
  {
   "cell_type": "code",
   "execution_count": 28,
   "id": "89db486b",
   "metadata": {},
   "outputs": [
    {
     "data": {
      "image/png": "[encoded data removed]",
      "text/plain": [
       "<Figure size 576x684 with 1 Axes>"
      ]
     },
     "metadata": {
      "needs_background": "light"
     },
     "output_type": "display_data"
    }
   ],
   "source": [
    "import shap\n",
    "import matplotlib.pyplot as plt\n",
    "\n",
    "# Assuming you have already calculated SHAP values and defined the explainer\n",
    "# Create a summary plot\n",
    "shap.summary_plot(shap_values, X_train, plot_type=\"bar\", show=False)\n",
    "\n",
    "# Show the plot\n",
    "plt.show()"
   ]
  },
  {
   "cell_type": "code",
   "execution_count": 29,
   "id": "c929dec6",
   "metadata": {},
   "outputs": [],
   "source": [
    "# import pandas as pd\n",
    "# import matplotlib.pyplot as plt\n",
    "\n",
    "# # Access feature importances from the Random Forest model\n",
    "# feature_importances = rf_model.named_steps['classifier'].feature_importances_\n",
    "\n",
    "# # Create a DataFrame to store feature importances\n",
    "# feature_importance_df = pd.DataFrame({'Feature': X_train.columns, 'Importance': feature_importances})\n",
    "\n",
    "# # Sort the DataFrame by Importance in descending order\n",
    "# feature_importance_df.sort_values(by='Importance', ascending=False, inplace=True)\n",
    "\n",
    "# # Output the top 30 features\n",
    "# top_30_features = feature_importance_df.head(25)\n",
    "# print(top_30_features)\n",
    "\n",
    "# # Plot feature importances\n",
    "# plt.figure(figsize=(10, 6))\n",
    "# plt.barh(top_30_features['Feature'], top_30_features['Importance'])\n",
    "# plt.xlabel('Feature Importance')\n",
    "# plt.ylabel('Feature')\n",
    "# plt.title('Top 30 Feature Importance from Random Forest Model')\n",
    "# plt.show()"
   ]
  },
  {
   "cell_type": "code",
   "execution_count": 30,
   "id": "bcdc1a85",
   "metadata": {},
   "outputs": [],
   "source": [
    "## logistic regression feat importance"
   ]
  },
  {
   "cell_type": "code",
   "execution_count": 31,
   "id": "0f42a5c6",
   "metadata": {},
   "outputs": [],
   "source": [
    "import pandas as pd\n",
    "\n",
    "# Extract coefficient estimates\n",
    "coefficients = lr_model.named_steps['classifier'].coef_[0]\n",
    "\n",
    "# Calculate p-values (not directly available in scikit-learn)\n",
    "# You would typically use statsmodels for p-values with logistic regression\n",
    "\n",
    "# Create a DataFrame to store coefficients and p-values\n",
    "variable_info = pd.DataFrame({'Feature': X_train.columns, 'Coefficient': coefficients})\n",
    "\n",
    "# Calculate absolute coefficients\n",
    "variable_info['Absolute Coefficient'] = abs(variable_info['Coefficient'])\n",
    "\n",
    "# Sort variables based on absolute coefficient values\n",
    "variable_info.sort_values(by='Absolute Coefficient', ascending=False, inplace=True)\n",
    "\n",
    "# You should determine statistical significance based on your chosen method\n",
    "# Since we don't have p-values directly, you might need to use other statistical tools\n",
    "# For demonstration purposes, I'm assuming all coefficients are statistically significant\n",
    "variable_info['Significance'] = True\n",
    "\n",
    "# Print the ranked variables and their statistical significance\n",
    "#print(variable_info[:20])"
   ]
  },
  {
   "cell_type": "code",
   "execution_count": 32,
   "id": "c1a2b2f3",
   "metadata": {},
   "outputs": [
    {
     "data": {
      "text/html": [
       "<div>\n",
       "<style scoped>\n",
       "    .dataframe tbody tr th:only-of-type {\n",
       "        vertical-align: middle;\n",
       "    }\n",
       "\n",
       "    .dataframe tbody tr th {\n",
       "        vertical-align: top;\n",
       "    }\n",
       "\n",
       "    .dataframe thead th {\n",
       "        text-align: right;\n",
       "    }\n",
       "</style>\n",
       "<table border=\"1\" class=\"dataframe\">\n",
       "  <thead>\n",
       "    <tr style=\"text-align: right;\">\n",
       "      <th></th>\n",
       "      <th>Feature</th>\n",
       "      <th>Coefficient</th>\n",
       "      <th>Absolute Coefficient</th>\n",
       "      <th>Significance</th>\n",
       "    </tr>\n",
       "  </thead>\n",
       "  <tbody>\n",
       "    <tr>\n",
       "      <th>0</th>\n",
       "      <td>fsa_flg</td>\n",
       "      <td>0.989266</td>\n",
       "      <td>0.989266</td>\n",
       "      <td>True</td>\n",
       "    </tr>\n",
       "    <tr>\n",
       "      <th>1</th>\n",
       "      <td>sym_count</td>\n",
       "      <td>0.078064</td>\n",
       "      <td>0.078064</td>\n",
       "      <td>True</td>\n",
       "    </tr>\n",
       "    <tr>\n",
       "      <th>2</th>\n",
       "      <td>safe_count</td>\n",
       "      <td>0.050957</td>\n",
       "      <td>0.050957</td>\n",
       "      <td>True</td>\n",
       "    </tr>\n",
       "    <tr>\n",
       "      <th>3</th>\n",
       "      <td>inch_q_30</td>\n",
       "      <td>-0.944499</td>\n",
       "      <td>0.944499</td>\n",
       "      <td>True</td>\n",
       "    </tr>\n",
       "    <tr>\n",
       "      <th>4</th>\n",
       "      <td>inch_q_10</td>\n",
       "      <td>0.963720</td>\n",
       "      <td>0.963720</td>\n",
       "      <td>True</td>\n",
       "    </tr>\n",
       "    <tr>\n",
       "      <th>5</th>\n",
       "      <td>count_q_00</td>\n",
       "      <td>0.499849</td>\n",
       "      <td>0.499849</td>\n",
       "      <td>True</td>\n",
       "    </tr>\n",
       "    <tr>\n",
       "      <th>6</th>\n",
       "      <td>inch_q_00</td>\n",
       "      <td>0.965564</td>\n",
       "      <td>0.965564</td>\n",
       "      <td>True</td>\n",
       "    </tr>\n",
       "    <tr>\n",
       "      <th>7</th>\n",
       "      <td>count_q_10</td>\n",
       "      <td>-0.996590</td>\n",
       "      <td>0.996590</td>\n",
       "      <td>True</td>\n",
       "    </tr>\n",
       "    <tr>\n",
       "      <th>8</th>\n",
       "      <td>ingre_phenylephrine</td>\n",
       "      <td>0.372500</td>\n",
       "      <td>0.372500</td>\n",
       "      <td>True</td>\n",
       "    </tr>\n",
       "    <tr>\n",
       "      <th>9</th>\n",
       "      <td>weight_q_00</td>\n",
       "      <td>0.453672</td>\n",
       "      <td>0.453672</td>\n",
       "      <td>True</td>\n",
       "    </tr>\n",
       "    <tr>\n",
       "      <th>10</th>\n",
       "      <td>inch_q_20</td>\n",
       "      <td>0.469685</td>\n",
       "      <td>0.469685</td>\n",
       "      <td>True</td>\n",
       "    </tr>\n",
       "    <tr>\n",
       "      <th>11</th>\n",
       "      <td>ingre_menthol</td>\n",
       "      <td>1.227300</td>\n",
       "      <td>1.227300</td>\n",
       "      <td>True</td>\n",
       "    </tr>\n",
       "    <tr>\n",
       "      <th>12</th>\n",
       "      <td>ingre_acetaminophen</td>\n",
       "      <td>0.211813</td>\n",
       "      <td>0.211813</td>\n",
       "      <td>True</td>\n",
       "    </tr>\n",
       "    <tr>\n",
       "      <th>13</th>\n",
       "      <td>eff_non_drowsy</td>\n",
       "      <td>0.170780</td>\n",
       "      <td>0.170780</td>\n",
       "      <td>True</td>\n",
       "    </tr>\n",
       "    <tr>\n",
       "      <th>14</th>\n",
       "      <td>weight_q_10</td>\n",
       "      <td>-0.388570</td>\n",
       "      <td>0.388570</td>\n",
       "      <td>True</td>\n",
       "    </tr>\n",
       "    <tr>\n",
       "      <th>15</th>\n",
       "      <td>eff_fast_acting</td>\n",
       "      <td>-0.040341</td>\n",
       "      <td>0.040341</td>\n",
       "      <td>True</td>\n",
       "    </tr>\n",
       "    <tr>\n",
       "      <th>16</th>\n",
       "      <td>brand_mucinex</td>\n",
       "      <td>-0.923640</td>\n",
       "      <td>0.923640</td>\n",
       "      <td>True</td>\n",
       "    </tr>\n",
       "    <tr>\n",
       "      <th>17</th>\n",
       "      <td>eff_kid</td>\n",
       "      <td>0.488529</td>\n",
       "      <td>0.488529</td>\n",
       "      <td>True</td>\n",
       "    </tr>\n",
       "    <tr>\n",
       "      <th>18</th>\n",
       "      <td>weight_q_30</td>\n",
       "      <td>-0.217656</td>\n",
       "      <td>0.217656</td>\n",
       "      <td>True</td>\n",
       "    </tr>\n",
       "    <tr>\n",
       "      <th>19</th>\n",
       "      <td>eff_max_str</td>\n",
       "      <td>-0.220114</td>\n",
       "      <td>0.220114</td>\n",
       "      <td>True</td>\n",
       "    </tr>\n",
       "    <tr>\n",
       "      <th>20</th>\n",
       "      <td>ingre_guaifenesin</td>\n",
       "      <td>-0.228766</td>\n",
       "      <td>0.228766</td>\n",
       "      <td>True</td>\n",
       "    </tr>\n",
       "    <tr>\n",
       "      <th>21</th>\n",
       "      <td>ingre_dextromethorphan</td>\n",
       "      <td>-0.305467</td>\n",
       "      <td>0.305467</td>\n",
       "      <td>True</td>\n",
       "    </tr>\n",
       "    <tr>\n",
       "      <th>22</th>\n",
       "      <td>manu_allegiant</td>\n",
       "      <td>1.688888</td>\n",
       "      <td>1.688888</td>\n",
       "      <td>True</td>\n",
       "    </tr>\n",
       "    <tr>\n",
       "      <th>23</th>\n",
       "      <td>ingre_zinc</td>\n",
       "      <td>0.857353</td>\n",
       "      <td>0.857353</td>\n",
       "      <td>True</td>\n",
       "    </tr>\n",
       "    <tr>\n",
       "      <th>24</th>\n",
       "      <td>eff_long_lasting</td>\n",
       "      <td>-0.282197</td>\n",
       "      <td>0.282197</td>\n",
       "      <td>True</td>\n",
       "    </tr>\n",
       "    <tr>\n",
       "      <th>25</th>\n",
       "      <td>weight_q_20</td>\n",
       "      <td>-0.010337</td>\n",
       "      <td>0.010337</td>\n",
       "      <td>True</td>\n",
       "    </tr>\n",
       "    <tr>\n",
       "      <th>26</th>\n",
       "      <td>manu_rb</td>\n",
       "      <td>0.449106</td>\n",
       "      <td>0.449106</td>\n",
       "      <td>True</td>\n",
       "    </tr>\n",
       "    <tr>\n",
       "      <th>27</th>\n",
       "      <td>ingre_bryonia</td>\n",
       "      <td>0.698608</td>\n",
       "      <td>0.698608</td>\n",
       "      <td>True</td>\n",
       "    </tr>\n",
       "    <tr>\n",
       "      <th>28</th>\n",
       "      <td>count_q_20</td>\n",
       "      <td>-0.073937</td>\n",
       "      <td>0.073937</td>\n",
       "      <td>True</td>\n",
       "    </tr>\n",
       "    <tr>\n",
       "      <th>29</th>\n",
       "      <td>brand_vicks</td>\n",
       "      <td>-0.006492</td>\n",
       "      <td>0.006492</td>\n",
       "      <td>True</td>\n",
       "    </tr>\n",
       "  </tbody>\n",
       "</table>\n",
       "</div>"
      ],
      "text/plain": [
       "                   Feature  Coefficient  Absolute Coefficient  Significance\n",
       "0                  fsa_flg     0.989266              0.989266          True\n",
       "1                sym_count     0.078064              0.078064          True\n",
       "2               safe_count     0.050957              0.050957          True\n",
       "3                inch_q_30    -0.944499              0.944499          True\n",
       "4                inch_q_10     0.963720              0.963720          True\n",
       "5               count_q_00     0.499849              0.499849          True\n",
       "6                inch_q_00     0.965564              0.965564          True\n",
       "7               count_q_10    -0.996590              0.996590          True\n",
       "8      ingre_phenylephrine     0.372500              0.372500          True\n",
       "9              weight_q_00     0.453672              0.453672          True\n",
       "10               inch_q_20     0.469685              0.469685          True\n",
       "11           ingre_menthol     1.227300              1.227300          True\n",
       "12     ingre_acetaminophen     0.211813              0.211813          True\n",
       "13          eff_non_drowsy     0.170780              0.170780          True\n",
       "14             weight_q_10    -0.388570              0.388570          True\n",
       "15         eff_fast_acting    -0.040341              0.040341          True\n",
       "16           brand_mucinex    -0.923640              0.923640          True\n",
       "17                 eff_kid     0.488529              0.488529          True\n",
       "18             weight_q_30    -0.217656              0.217656          True\n",
       "19             eff_max_str    -0.220114              0.220114          True\n",
       "20       ingre_guaifenesin    -0.228766              0.228766          True\n",
       "21  ingre_dextromethorphan    -0.305467              0.305467          True\n",
       "22          manu_allegiant     1.688888              1.688888          True\n",
       "23              ingre_zinc     0.857353              0.857353          True\n",
       "24        eff_long_lasting    -0.282197              0.282197          True\n",
       "25             weight_q_20    -0.010337              0.010337          True\n",
       "26                 manu_rb     0.449106              0.449106          True\n",
       "27           ingre_bryonia     0.698608              0.698608          True\n",
       "28              count_q_20    -0.073937              0.073937          True\n",
       "29             brand_vicks    -0.006492              0.006492          True"
      ]
     },
     "execution_count": 32,
     "metadata": {},
     "output_type": "execute_result"
    }
   ],
   "source": [
    "import pandas as pd\n",
    "\n",
    "# Assuming you have a DataFrame named 'top_feature_names' containing the names of the top features\n",
    "# and another DataFrame named 'variable_info' containing information about all features\n",
    "\n",
    "# Filter variable_info to include only rows where the Feature is in top_feature_names\n",
    "filtered_variable_info = variable_info[variable_info['Feature'].isin(top_feature_names)]\n",
    "\n",
    "# Order filtered_variable_info by the top_feature_names list\n",
    "ordered_variable_info = filtered_variable_info.set_index('Feature').loc[top_feature_names].reset_index()\n",
    "ordered_variable_info"
   ]
  },
  {
   "cell_type": "code",
   "execution_count": 34,
   "id": "91356fc1",
   "metadata": {},
   "outputs": [
    {
     "data": {
      "text/plain": [
       "(14.679312977099245, 18.411499999999954)"
      ]
     },
     "execution_count": 34,
     "metadata": {},
     "output_type": "execute_result"
    }
   ],
   "source": [
    "data[data.ingre_dextromethorphan==1].price.mean(), data[data.ingre_dextromethorphan==0].price.mean()"
   ]
  },
  {
   "cell_type": "code",
   "execution_count": 35,
   "id": "1d59c6d9",
   "metadata": {},
   "outputs": [
    {
     "data": {
      "text/plain": [
       "(4.699236641221376, 4.561875000000002)"
      ]
     },
     "execution_count": 35,
     "metadata": {},
     "output_type": "execute_result"
    }
   ],
   "source": [
    "data[data.ingre_dextromethorphan==1].rating.mean(), data[data.ingre_dextromethorphan==0].rating.mean()"
   ]
  },
  {
   "cell_type": "code",
   "execution_count": 37,
   "id": "18aa1b98",
   "metadata": {},
   "outputs": [
    {
     "data": {
      "text/plain": [
       "(0.5725190839694656, 0.46875)"
      ]
     },
     "execution_count": 37,
     "metadata": {},
     "output_type": "execute_result"
    }
   ],
   "source": [
    "data[data.ingre_dextromethorphan==1].y_class.mean(), data[data.ingre_dextromethorphan==0].y_class.mean()"
   ]
  },
  {
   "cell_type": "code",
   "execution_count": 38,
   "id": "4a6580fb",
   "metadata": {},
   "outputs": [
    {
     "data": {
      "text/plain": [
       "(0.6320754716981132, 0.4579710144927536)"
      ]
     },
     "execution_count": 38,
     "metadata": {},
     "output_type": "execute_result"
    }
   ],
   "source": [
    "data[data.ingre_phenylephrine==1].y_class.mean(), data[data.ingre_phenylephrine==0].y_class.mean()"
   ]
  },
  {
   "cell_type": "code",
   "execution_count": 39,
   "id": "00081bd4",
   "metadata": {},
   "outputs": [
    {
     "data": {
      "text/plain": [
       "(0.6339285714285714, 0.45427728613569324)"
      ]
     },
     "execution_count": 39,
     "metadata": {},
     "output_type": "execute_result"
    }
   ],
   "source": [
    "data[data.ingre_acetaminophen==1].y_class.mean(), data[data.ingre_acetaminophen==0].y_class.mean()"
   ]
  }
 ],
 "metadata": {
  "kernelspec": {
   "display_name": "Python 3 (ipykernel)",
   "language": "python",
   "name": "python3"
  },
  "language_info": {
   "codemirror_mode": {
    "name": "ipython",
    "version": 3
   },
   "file_extension": ".py",
   "mimetype": "text/x-python",
   "name": "python",
   "nbconvert_exporter": "python",
   "pygments_lexer": "ipython3",
   "version": "3.9.7"
  }
 },
 "nbformat": 4,
 "nbformat_minor": 5
}
