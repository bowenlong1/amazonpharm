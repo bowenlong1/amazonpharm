{
 "cells": [
  {
   "cell_type": "code",
   "execution_count": 2,
   "id": "5f3de49c",
   "metadata": {},
   "outputs": [],
   "source": [
    "import numpy as np\n",
    "import pandas as pd\n",
    "import datetime as dt\n",
    "import re\n",
    "import matplotlib.pyplot as plt\n",
    "from collections import Counter\n",
    "import seaborn as sns\n",
    "from nltk.tokenize import word_tokenize\n",
    "from nltk.probability import FreqDist"
   ]
  },
  {
   "cell_type": "code",
   "execution_count": 3,
   "id": "9adb4f35",
   "metadata": {},
   "outputs": [],
   "source": [
    "df = pd.read_csv('pharmodel_v5.csv')"
   ]
  },
  {
   "cell_type": "code",
   "execution_count": 4,
   "id": "e01cc14e",
   "metadata": {},
   "outputs": [
    {
     "data": {
      "text/html": [
       "<div>\n",
       "<style scoped>\n",
       "    .dataframe tbody tr th:only-of-type {\n",
       "        vertical-align: middle;\n",
       "    }\n",
       "\n",
       "    .dataframe tbody tr th {\n",
       "        vertical-align: top;\n",
       "    }\n",
       "\n",
       "    .dataframe thead th {\n",
       "        text-align: right;\n",
       "    }\n",
       "</style>\n",
       "<table border=\"1\" class=\"dataframe\">\n",
       "  <thead>\n",
       "    <tr style=\"text-align: right;\">\n",
       "      <th></th>\n",
       "      <th>Unnamed: 0</th>\n",
       "      <th>Unnamed: 0.1</th>\n",
       "      <th>asin</th>\n",
       "      <th>cat</th>\n",
       "      <th>rating</th>\n",
       "      <th>reviews</th>\n",
       "      <th>price</th>\n",
       "      <th>vp</th>\n",
       "      <th>fsa_flg</th>\n",
       "      <th>eff_max_str</th>\n",
       "      <th>...</th>\n",
       "      <th>safe_nausea</th>\n",
       "      <th>safe_vomiting</th>\n",
       "      <th>safe_allergic</th>\n",
       "      <th>safe_drowsiness</th>\n",
       "      <th>safe_stomach</th>\n",
       "      <th>safe_heart</th>\n",
       "      <th>safe_stroke</th>\n",
       "      <th>safe_heartburn</th>\n",
       "      <th>safe_lightheadedness</th>\n",
       "      <th>safe_sweating</th>\n",
       "    </tr>\n",
       "  </thead>\n",
       "  <tbody>\n",
       "    <tr>\n",
       "      <th>0</th>\n",
       "      <td>0</td>\n",
       "      <td>0</td>\n",
       "      <td>B07BQKPMFM</td>\n",
       "      <td>cold</td>\n",
       "      <td>4.7</td>\n",
       "      <td>11523</td>\n",
       "      <td>12.74</td>\n",
       "      <td>0.368917</td>\n",
       "      <td>1</td>\n",
       "      <td>1</td>\n",
       "      <td>...</td>\n",
       "      <td>1</td>\n",
       "      <td>1</td>\n",
       "      <td>1</td>\n",
       "      <td>0</td>\n",
       "      <td>0</td>\n",
       "      <td>0</td>\n",
       "      <td>0</td>\n",
       "      <td>0</td>\n",
       "      <td>0</td>\n",
       "      <td>0</td>\n",
       "    </tr>\n",
       "    <tr>\n",
       "      <th>1</th>\n",
       "      <td>1</td>\n",
       "      <td>1</td>\n",
       "      <td>B009ITR4EY</td>\n",
       "      <td>cold</td>\n",
       "      <td>4.8</td>\n",
       "      <td>26392</td>\n",
       "      <td>7.66</td>\n",
       "      <td>0.626632</td>\n",
       "      <td>1</td>\n",
       "      <td>1</td>\n",
       "      <td>...</td>\n",
       "      <td>1</td>\n",
       "      <td>1</td>\n",
       "      <td>1</td>\n",
       "      <td>0</td>\n",
       "      <td>0</td>\n",
       "      <td>1</td>\n",
       "      <td>0</td>\n",
       "      <td>0</td>\n",
       "      <td>0</td>\n",
       "      <td>0</td>\n",
       "    </tr>\n",
       "    <tr>\n",
       "      <th>2</th>\n",
       "      <td>2</td>\n",
       "      <td>2</td>\n",
       "      <td>B013Q8JZVM</td>\n",
       "      <td>cold</td>\n",
       "      <td>4.8</td>\n",
       "      <td>1389</td>\n",
       "      <td>15.34</td>\n",
       "      <td>0.312907</td>\n",
       "      <td>1</td>\n",
       "      <td>1</td>\n",
       "      <td>...</td>\n",
       "      <td>0</td>\n",
       "      <td>0</td>\n",
       "      <td>0</td>\n",
       "      <td>0</td>\n",
       "      <td>0</td>\n",
       "      <td>0</td>\n",
       "      <td>0</td>\n",
       "      <td>0</td>\n",
       "      <td>0</td>\n",
       "      <td>0</td>\n",
       "    </tr>\n",
       "    <tr>\n",
       "      <th>3</th>\n",
       "      <td>3</td>\n",
       "      <td>3</td>\n",
       "      <td>B074F297S8</td>\n",
       "      <td>cold</td>\n",
       "      <td>4.7</td>\n",
       "      <td>10169</td>\n",
       "      <td>7.99</td>\n",
       "      <td>0.588235</td>\n",
       "      <td>1</td>\n",
       "      <td>0</td>\n",
       "      <td>...</td>\n",
       "      <td>1</td>\n",
       "      <td>1</td>\n",
       "      <td>1</td>\n",
       "      <td>1</td>\n",
       "      <td>0</td>\n",
       "      <td>0</td>\n",
       "      <td>0</td>\n",
       "      <td>0</td>\n",
       "      <td>0</td>\n",
       "      <td>0</td>\n",
       "    </tr>\n",
       "    <tr>\n",
       "      <th>4</th>\n",
       "      <td>4</td>\n",
       "      <td>4</td>\n",
       "      <td>B011VX2FGQ</td>\n",
       "      <td>cold</td>\n",
       "      <td>4.7</td>\n",
       "      <td>3448</td>\n",
       "      <td>12.98</td>\n",
       "      <td>0.362096</td>\n",
       "      <td>1</td>\n",
       "      <td>1</td>\n",
       "      <td>...</td>\n",
       "      <td>0</td>\n",
       "      <td>0</td>\n",
       "      <td>0</td>\n",
       "      <td>0</td>\n",
       "      <td>0</td>\n",
       "      <td>0</td>\n",
       "      <td>0</td>\n",
       "      <td>0</td>\n",
       "      <td>0</td>\n",
       "      <td>0</td>\n",
       "    </tr>\n",
       "  </tbody>\n",
       "</table>\n",
       "<p>5 rows × 173 columns</p>\n",
       "</div>"
      ],
      "text/plain": [
       "   Unnamed: 0  Unnamed: 0.1        asin   cat  rating  reviews  price  \\\n",
       "0           0             0  B07BQKPMFM  cold     4.7    11523  12.74   \n",
       "1           1             1  B009ITR4EY  cold     4.8    26392   7.66   \n",
       "2           2             2  B013Q8JZVM  cold     4.8     1389  15.34   \n",
       "3           3             3  B074F297S8  cold     4.7    10169   7.99   \n",
       "4           4             4  B011VX2FGQ  cold     4.7     3448  12.98   \n",
       "\n",
       "         vp  fsa_flg  eff_max_str  ...  safe_nausea  safe_vomiting  \\\n",
       "0  0.368917        1            1  ...            1              1   \n",
       "1  0.626632        1            1  ...            1              1   \n",
       "2  0.312907        1            1  ...            0              0   \n",
       "3  0.588235        1            0  ...            1              1   \n",
       "4  0.362096        1            1  ...            0              0   \n",
       "\n",
       "   safe_allergic  safe_drowsiness  safe_stomach  safe_heart  safe_stroke  \\\n",
       "0              1                0             0           0            0   \n",
       "1              1                0             0           1            0   \n",
       "2              0                0             0           0            0   \n",
       "3              1                1             0           0            0   \n",
       "4              0                0             0           0            0   \n",
       "\n",
       "   safe_heartburn  safe_lightheadedness  safe_sweating  \n",
       "0               0                     0              0  \n",
       "1               0                     0              0  \n",
       "2               0                     0              0  \n",
       "3               0                     0              0  \n",
       "4               0                     0              0  \n",
       "\n",
       "[5 rows x 173 columns]"
      ]
     },
     "execution_count": 4,
     "metadata": {},
     "output_type": "execute_result"
    }
   ],
   "source": [
    "df.head()"
   ]
  },
  {
   "cell_type": "code",
   "execution_count": 5,
   "id": "03a7c0ff",
   "metadata": {},
   "outputs": [
    {
     "data": {
      "text/plain": [
       "Index(['Unnamed: 0', 'Unnamed: 0.1', 'asin', 'cat', 'rating', 'reviews',\n",
       "       'price', 'vp', 'fsa_flg', 'eff_max_str'],\n",
       "      dtype='object')"
      ]
     },
     "execution_count": 5,
     "metadata": {},
     "output_type": "execute_result"
    }
   ],
   "source": [
    "df.columns[:10]"
   ]
  },
  {
   "cell_type": "code",
   "execution_count": 6,
   "id": "4eabd1ea",
   "metadata": {},
   "outputs": [],
   "source": [
    "df['y_class'] = df['vp_cat3']"
   ]
  },
  {
   "cell_type": "code",
   "execution_count": 7,
   "id": "2476c945",
   "metadata": {},
   "outputs": [],
   "source": [
    "# Create sym_count by counting the occurrences of 1's across sym features\n",
    "df['sym_count'] = df[['sym_throat', 'sym_stomach', 'sym_sneezing', 'sym_sinus', \n",
    "                      'sym_pain', 'sym_nose', 'sym_nausea', 'sym_nasal', 'sym_migranie', \n",
    "                      'sym_menstrual', 'sym_itchy', 'sym_heart', 'sym_headache', 'sym_flu',\n",
    "                      'sym_fever', 'sym_eyes', 'sym_digestion', 'sym_cough', 'sym_cold', 'sym_chest',\n",
    "                      'sym_arthritis', 'sym_allergy', 'sym_acid']].sum(axis=1)"
   ]
  },
  {
   "cell_type": "code",
   "execution_count": 8,
   "id": "1c811b4b",
   "metadata": {},
   "outputs": [],
   "source": [
    "df['safe_count'] = df[['safe_rash', 'safe_fever', 'safe_liver',\n",
    "       'safe_throat', 'safe_skin', 'safe_nausea', 'safe_vomiting',\n",
    "       'safe_allergic', 'safe_drowsiness', 'safe_stomach', 'safe_heart',\n",
    "       'safe_stroke', 'safe_heartburn', 'safe_lightheadedness',\n",
    "       'safe_sweating']].sum(axis=1)"
   ]
  },
  {
   "cell_type": "code",
   "execution_count": 9,
   "id": "53482a2b",
   "metadata": {},
   "outputs": [],
   "source": [
    "X_features = ['sym_count','fsa_flg', 'eff_max_str', 'eff_fast_acting', 'eff_long_lasting',\n",
    "       'eff_non_drowsy', 'eff_kid', 'ingre_zinc', 'ingre_simethicone', 'ingre_pulsatilla',\n",
    "       'ingre_phosphorus', 'ingre_phenylephrine', 'ingre_perfoliatum',\n",
    "       'ingre_peppermint', 'ingre_omeprazole', 'ingre_naproxen',\n",
    "       'ingre_menthol', 'ingre_magnesium', 'ingre_loratadine', 'ingre_kali',\n",
    "       'ingre_ipecacuanha', 'ingre_ibuprofen', 'ingre_hydrobromide',\n",
    "       'ingre_guaifenesin', 'ingre_gelsemium', 'ingre_fexofenadine',\n",
    "       'ingre_famotidine', 'ingre_eupatorium', 'ingre_eucalyptus',\n",
    "       'ingre_esomeprazole', 'ingre_echinacea', 'ingre_doxylamine',\n",
    "       'ingre_diphenhydramine', 'ingre_dextromethorphan',\n",
    "       'ingre_chlorpheniramine', 'ingre_cetirizine', 'ingre_calcium',\n",
    "       'ingre_bryonia', 'ingre_antihistamine', 'ingre_aluminum',\n",
    "       'ingre_acetaminophen', 'brand_zyrtec', 'brand_zicam',\n",
    "       'brand_zegerid_otc', 'brand_vicks', 'brand_tylenol', 'brand_tums',\n",
    "       'brand_time_cap_labs_inc', 'brand_theraflu', 'brand_rolaids',\n",
    "       'brand_rite_aid', 'brand_quality_choice', 'brand_prilosec',\n",
    "       'brand_prelief', 'brand_pepto_bismol', 'brand_pepcid', 'brand_nexium',\n",
    "       'brand_natures_way', 'brand_mylanta', 'brand_mucinex', 'brand_motrin',\n",
    "       'brand_midol', 'brand_major', 'brand_hylands', 'brand_goodsense',\n",
    "       'brand_gaviscon', 'brand_flonase', 'brand_excedrin',\n",
    "       'brand_coricidin_hbp', 'brand_claritin', 'brand_chloraseptic',\n",
    "       'brand_boiron', 'brand_benadryl', 'brand_amazon_basic_care',\n",
    "       'brand_allegra', 'brand_alka_seltzer_plus', 'brand_alka_seltzer',\n",
    "       'brand_aleve', 'brand_airborne', 'brand_advil', 'brand_a2z_store',\n",
    "       'manu_gsk', 'manu_jj', 'manu_bayer', 'manu_rb', 'manu_perrigo',\n",
    "       'manu_pg', 'manu_sanofi', 'manu_ama', 'manu_major', 'manu_rite',\n",
    "       'manu_boiron', 'manu_pfizer', 'manu_hyland', 'manu_alka',\n",
    "       'manu_allegiant', 'manu_prestige', 'manu_dwight', 'manu_emc', 'manu_nw',\n",
    "       'manu_walmart', 'manu_kirkland', 'manu_ohm', 'manu_reddy',\n",
    "       'manu_bionpharma', 'manu_time', 'count_q_00', 'count_q_10',\n",
    "       'count_q_20', 'count_q_30', 'inch_q_00', 'inch_q_10', 'inch_q_20',\n",
    "       'inch_q_30', 'weight_q_00', 'weight_q_10', 'weight_q_20', 'weight_q_30',\n",
    "             'safe_count']"
   ]
  },
  {
   "cell_type": "code",
   "execution_count": null,
   "id": "9ffa4bea",
   "metadata": {},
   "outputs": [],
   "source": [
    "X_features = ['sym_count','fsa_flg', 'eff_max_str', 'eff_fast_acting', 'eff_long_lasting',\n",
    "       'eff_non_drowsy', 'eff_kid', 'ingre_zinc', 'ingre_simethicone', 'ingre_pulsatilla',\n",
    "       'ingre_phosphorus', 'ingre_phenylephrine', 'ingre_perfoliatum',\n",
    "       'ingre_peppermint', 'ingre_omeprazole', 'ingre_naproxen',\n",
    "       'ingre_menthol', 'ingre_magnesium', 'ingre_loratadine', 'ingre_kali',\n",
    "       'ingre_ipecacuanha', 'ingre_ibuprofen', 'ingre_hydrobromide',\n",
    "       'ingre_guaifenesin', 'ingre_gelsemium', 'ingre_fexofenadine',\n",
    "       'ingre_famotidine', 'ingre_eupatorium', 'ingre_eucalyptus',\n",
    "       'ingre_esomeprazole', 'ingre_echinacea', 'ingre_doxylamine',\n",
    "       'ingre_diphenhydramine', 'ingre_dextromethorphan',\n",
    "       'ingre_chlorpheniramine', 'ingre_cetirizine', 'ingre_calcium',\n",
    "       'ingre_bryonia', 'ingre_antihistamine', 'ingre_aluminum',\n",
    "       'ingre_acetaminophen', 'brand_zyrtec', 'brand_zicam',\n",
    "       'brand_zegerid_otc', 'brand_vicks', 'brand_tylenol', 'brand_tums',\n",
    "       'brand_time_cap_labs_inc', 'brand_theraflu', 'brand_rolaids',\n",
    "       'brand_rite_aid', 'brand_quality_choice', 'brand_prilosec',\n",
    "       'brand_prelief', 'brand_pepto_bismol', 'brand_pepcid', 'brand_nexium',\n",
    "       'brand_natures_way', 'brand_mylanta', 'brand_mucinex', 'brand_motrin',\n",
    "       'brand_midol', 'brand_major', 'brand_hylands', 'brand_goodsense',\n",
    "       'brand_gaviscon', 'brand_flonase', 'brand_excedrin',\n",
    "       'brand_coricidin_hbp', 'brand_claritin', 'brand_chloraseptic',\n",
    "       'brand_boiron', 'brand_benadryl', 'brand_amazon_basic_care',\n",
    "       'brand_allegra', 'brand_alka_seltzer_plus', 'brand_alka_seltzer',\n",
    "       'brand_aleve', 'brand_airborne', 'brand_advil', 'brand_a2z_store',\n",
    "       'manu_gsk', 'manu_jj', 'manu_bayer', 'manu_rb', 'manu_perrigo',\n",
    "       'manu_pg', 'manu_sanofi', 'manu_ama', 'manu_major', 'manu_rite',\n",
    "       'manu_boiron', 'manu_pfizer', 'manu_hyland', 'manu_alka',\n",
    "       'manu_allegiant', 'manu_prestige', 'manu_dwight', 'manu_emc', 'manu_nw',\n",
    "       'manu_walmart', 'manu_kirkland', 'manu_ohm', 'manu_reddy',\n",
    "       'manu_bionpharma', 'manu_time', 'count_q_00', 'count_q_10',\n",
    "       'count_q_20', 'count_q_30', 'inch_q_00', 'inch_q_10', 'inch_q_20',\n",
    "       'inch_q_30', 'weight_q_00', 'weight_q_10', 'weight_q_20', 'weight_q_30',\n",
    "             'safe_count']"
   ]
  },
  {
   "cell_type": "markdown",
   "id": "36594ebe",
   "metadata": {},
   "source": [
    "# check interactions"
   ]
  },
  {
   "cell_type": "code",
   "execution_count": 22,
   "id": "e48948be",
   "metadata": {},
   "outputs": [
    {
     "data": {
      "text/plain": [
       "Index(['sym_count', 'fsa_flg', 'eff_max_str', 'eff_fast_acting',\n",
       "       'eff_long_lasting', 'eff_non_drowsy', 'eff_kid', 'ingre_zinc',\n",
       "       'ingre_simethicone', 'ingre_pulsatilla',\n",
       "       ...\n",
       "       'weight_q_30', 'safe_count', 'y_class', 'vp', 'cat', 'asin', 'rating',\n",
       "       'reviews', 'price', 'manufacturer_symptom_interaction'],\n",
       "      dtype='object', length=127)"
      ]
     },
     "execution_count": 22,
     "metadata": {},
     "output_type": "execute_result"
    }
   ],
   "source": [
    "#data.columns"
   ]
  },
  {
   "cell_type": "code",
   "execution_count": 24,
   "id": "4a0dd436",
   "metadata": {},
   "outputs": [
    {
     "name": "stdout",
     "output_type": "stream",
     "text": [
      "Intercept: 0.2943243789944356\n",
      "sym_count : 0.30681855778409006\n",
      "fsa_flg : 0.22013029224331376\n",
      "eff_max_str : -0.31114792020396104\n",
      "eff_fast_acting : -0.258439542579198\n",
      "eff_long_lasting : -0.23634086196572104\n",
      "eff_non_drowsy : -0.251391124201761\n",
      "eff_kid : 0.4373747538779905\n",
      "ingre_zinc : 0.0\n",
      "ingre_simethicone : 0.0\n",
      "ingre_pulsatilla : 0.39468092176453035\n",
      "ingre_phosphorus : 0.0\n",
      "ingre_phenylephrine : -0.25595065355782765\n",
      "ingre_perfoliatum : -0.07730444669477039\n",
      "ingre_peppermint : 0.0\n",
      "ingre_omeprazole : 0.0\n",
      "ingre_naproxen : 0.0\n",
      "ingre_menthol : 0.0\n",
      "ingre_magnesium : 0.6900576220605227\n",
      "ingre_loratadine : 0.32302593573660854\n",
      "ingre_kali : 0.006823413435690456\n",
      "ingre_ipecacuanha : 0.0\n",
      "ingre_ibuprofen : 0.366921995290291\n",
      "ingre_hydrobromide : 0.0\n",
      "ingre_guaifenesin : -0.03694585764995237\n",
      "ingre_gelsemium : -0.43490542637536755\n",
      "ingre_fexofenadine : 0.11274834503656743\n",
      "ingre_famotidine : 0.0\n",
      "ingre_eupatorium : -0.07730444669477039\n",
      "ingre_eucalyptus : 0.0\n",
      "ingre_esomeprazole : 0.0\n",
      "ingre_echinacea : -0.49196236358272893\n",
      "ingre_doxylamine : 0.0\n",
      "ingre_diphenhydramine : 0.29699066233231736\n",
      "ingre_dextromethorphan : 0.22178988757349657\n",
      "ingre_chlorpheniramine : 0.6911597194362653\n",
      "ingre_cetirizine : 0.31656662354487797\n",
      "ingre_calcium : 0.0005615832668876424\n",
      "ingre_bryonia : 0.0\n",
      "ingre_antihistamine : 0.46953869054853226\n",
      "ingre_aluminum : 0.38585969590372077\n",
      "ingre_acetaminophen : -0.3311462570413086\n",
      "brand_zyrtec : 0.21945146714594052\n",
      "brand_zicam : 0.0\n",
      "brand_zegerid_otc : 0.0\n",
      "brand_vicks : 0.0\n",
      "brand_tylenol : 0.0\n",
      "brand_tums : 0.0\n",
      "brand_time_cap_labs_inc : 0.17989538606907732\n",
      "brand_theraflu : 0.0\n",
      "brand_rolaids : 0.0\n",
      "brand_rite_aid : 0.05053932495159863\n",
      "brand_quality_choice : 0.0\n",
      "brand_prilosec : 0.0\n",
      "brand_prelief : 0.0\n",
      "brand_pepto_bismol : 0.0\n",
      "brand_pepcid : 0.0\n",
      "brand_nexium : 0.0\n",
      "brand_natures_way : 0.09564328738560814\n",
      "brand_mylanta : 0.0\n",
      "brand_mucinex : 0.0\n",
      "brand_motrin : 0.0\n",
      "brand_midol : 0.0\n",
      "brand_major : -0.0979257675320227\n",
      "brand_hylands : 0.22430430419025857\n",
      "brand_goodsense : 0.6593413353812195\n",
      "brand_gaviscon : 0.0\n",
      "brand_flonase : 0.4168420933115426\n",
      "brand_excedrin : 0.0\n",
      "brand_coricidin_hbp : 0.0\n",
      "brand_claritin : -0.2479673098918971\n",
      "brand_chloraseptic : 0.0\n",
      "brand_boiron : 0.15295536574995036\n",
      "brand_benadryl : 0.47241061674179985\n",
      "brand_amazon_basic_care : 0.4605495813720764\n",
      "brand_allegra : -0.009934997654876647\n",
      "brand_alka_seltzer_plus : 0.0\n",
      "brand_alka_seltzer : 0.0\n",
      "brand_aleve : 0.0\n",
      "brand_airborne : 0.0\n",
      "brand_advil : 0.4833529651640831\n",
      "brand_a2z_store : 0.0\n",
      "manu_gsk : -0.32152596865866223\n",
      "manu_jj : -1.0506347168215815\n",
      "manu_bayer : -0.4414022480579977\n",
      "manu_rb : 0.0\n",
      "manu_perrigo : -0.18688314344267284\n",
      "manu_pg : 0.0\n",
      "manu_sanofi : -0.4932843557565591\n",
      "manu_ama : -0.5238506300732381\n",
      "manu_major : 0.37812093818459425\n",
      "manu_rite : 0.05053932495159863\n",
      "manu_boiron : 0.15295536574995036\n",
      "manu_pfizer : -0.2828609844917377\n",
      "manu_hyland : 0.22430430419025857\n",
      "manu_alka : 0.0\n",
      "manu_allegiant : 0.4148640444582706\n",
      "manu_prestige : -0.22653583455157977\n",
      "manu_dwight : 0.0\n",
      "manu_emc : 0.0\n",
      "manu_nw : 0.09564328738560814\n",
      "manu_walmart : -0.3914740526412506\n",
      "manu_kirkland : 0.025347123118559217\n",
      "manu_ohm : 0.5708826492011765\n",
      "manu_reddy : 0.012971584797447389\n",
      "manu_bionpharma : 0.274150457646289\n",
      "manu_time : 0.17989538606907732\n",
      "count_q_00 : 0.22014247552743277\n",
      "count_q_10 : 0.12941688779070898\n",
      "count_q_20 : -0.23498790945523512\n",
      "count_q_30 : 0.0430681063525076\n",
      "inch_q_00 : 0.7301466247113086\n",
      "inch_q_10 : 0.3714648994855446\n",
      "inch_q_20 : -0.06778460506543509\n",
      "inch_q_30 : -0.12758528262125782\n",
      "weight_q_00 : 0.3737547584681434\n",
      "weight_q_10 : -0.07971267905723547\n",
      "weight_q_20 : -0.012975724656311393\n",
      "weight_q_30 : -0.3318621319971694\n",
      "safe_count : -0.11173038144768828\n",
      "manufacturer_symptom_interaction : -0.27308666429622264\n"
     ]
    }
   ],
   "source": [
    "from sklearn.linear_model import LogisticRegression\n",
    "from sklearn.model_selection import train_test_split\n",
    "from sklearn.preprocessing import StandardScaler\n",
    "import pandas as pd\n",
    "\n",
    "# Assuming your DataFrame is named 'data'\n",
    "\n",
    "# Create interaction term\n",
    "data['manufacturer_symptom_interaction'] = data['manu_bayer'] * data['sym_count']\n",
    "# Add more interaction terms as needed\n",
    "\n",
    "# Define predictor variables including interaction terms\n",
    "X_features_new = X_features + ['manufacturer_symptom_interaction']\n",
    "\n",
    "# Define X and y\n",
    "X = data[X_features_new]\n",
    "y = data['y_class']\n",
    "\n",
    "# Split data into training and testing sets\n",
    "X_train, X_test, y_train, y_test = train_test_split(X, y, test_size=0.2, random_state=42)\n",
    "\n",
    "# Standardize features\n",
    "scaler = StandardScaler()\n",
    "X_train_scaled = scaler.fit_transform(X_train)\n",
    "X_test_scaled = scaler.transform(X_test)\n",
    "\n",
    "# Fit logistic regression model\n",
    "log_reg = LogisticRegression()\n",
    "log_reg.fit(X_train_scaled, y_train)\n",
    "\n",
    "# Print coefficients\n",
    "print(\"Intercept:\", log_reg.intercept_[0])\n",
    "for feature, coef in zip(X.columns, log_reg.coef_[0]):\n",
    "    print(feature, \":\", coef)"
   ]
  },
  {
   "cell_type": "markdown",
   "id": "d80ed490",
   "metadata": {},
   "source": [
    "# change category"
   ]
  },
  {
   "cell_type": "code",
   "execution_count": 10,
   "id": "5df2b8c8",
   "metadata": {},
   "outputs": [],
   "source": [
    "data = df[df.cat=='alg'][X_features+['y_class','vp', 'cat', 'asin', 'rating', 'reviews', 'price']]"
   ]
  },
  {
   "cell_type": "code",
   "execution_count": 11,
   "id": "130287c9",
   "metadata": {},
   "outputs": [
    {
     "data": {
      "text/plain": [
       "0    176\n",
       "1    176\n",
       "Name: y_class, dtype: int64"
      ]
     },
     "execution_count": 11,
     "metadata": {},
     "output_type": "execute_result"
    }
   ],
   "source": [
    "data.y_class.value_counts()"
   ]
  },
  {
   "cell_type": "code",
   "execution_count": 13,
   "id": "1deeeed0",
   "metadata": {},
   "outputs": [
    {
     "data": {
      "text/plain": [
       "451    4.8\n",
       "452    4.7\n",
       "453    4.7\n",
       "454    4.7\n",
       "455    4.7\n",
       "      ... \n",
       "798    4.0\n",
       "799    4.8\n",
       "800    4.8\n",
       "801    4.6\n",
       "802    4.7\n",
       "Name: rating, Length: 352, dtype: float64"
      ]
     },
     "execution_count": 13,
     "metadata": {},
     "output_type": "execute_result"
    }
   ],
   "source": [
    "data.rating"
   ]
  },
  {
   "cell_type": "code",
   "execution_count": null,
   "id": "0cd9f2bd",
   "metadata": {},
   "outputs": [],
   "source": [
    "## analyze manu impact"
   ]
  },
  {
   "cell_type": "code",
   "execution_count": null,
   "id": "1b2cc51b",
   "metadata": {},
   "outputs": [],
   "source": [
    "'manu_bayer', 'manu_sanofi', 'manu_jj', 'manu_perrigo', 'manu_major'"
   ]
  },
  {
   "cell_type": "code",
   "execution_count": 33,
   "id": "1aa84465",
   "metadata": {},
   "outputs": [
    {
     "name": "stdout",
     "output_type": "stream",
     "text": [
      "        Manufacturer  Average Price  Average Rating  Average CER\n",
      "0              Bayer          19.68            4.57         0.35\n",
      "1             Sanofi          11.74            4.71         0.51\n",
      "2  Johnson & Johnson          12.40            4.68         0.47\n",
      "3            Perrigo          22.55            4.73         0.30\n",
      "4              Major          25.66            4.72         0.22\n"
     ]
    }
   ],
   "source": [
    "import pandas as pd\n",
    "\n",
    "# Assuming your DataFrame is named 'data'\n",
    "\n",
    "# Group by manufacturer columns and calculate average price, rating, and vp\n",
    "manufacturer_groups = data.groupby(['manu_bayer', 'manu_sanofi', 'manu_jj', 'manu_perrigo', 'manu_major'])\n",
    "average_prices = manufacturer_groups['price'].mean().round(2)\n",
    "average_ratings = manufacturer_groups['rating'].mean().round(2)\n",
    "average_vp = manufacturer_groups['vp'].mean().round(2)\n",
    "\n",
    "# Concatenate manufacturer names\n",
    "manufacturer_names = ['Bayer', 'Sanofi', 'Johnson & Johnson', 'Perrigo', 'Major']\n",
    "\n",
    "# Create a list to store results\n",
    "result = []\n",
    "\n",
    "# Iterate through each manufacturer and zip with average price, rating, and vp\n",
    "for manufacturer_name, price, rating, vp in zip(manufacturer_names, average_prices, average_ratings, average_vp):\n",
    "    result.append((manufacturer_name, price, rating, vp))\n",
    "\n",
    "# Create a DataFrame from the result list\n",
    "result_df = pd.DataFrame(result, columns=['Manufacturer', 'Average Price', 'Average Rating', 'Average CER'])\n",
    "\n",
    "# Display the result\n",
    "print(result_df)"
   ]
  },
  {
   "cell_type": "code",
   "execution_count": 31,
   "id": "143849eb",
   "metadata": {},
   "outputs": [
    {
     "data": {
      "text/plain": [
       "0.23223130830557162"
      ]
     },
     "execution_count": 31,
     "metadata": {},
     "output_type": "execute_result"
    }
   ],
   "source": [
    "#4.571144/19.683582 "
   ]
  },
  {
   "cell_type": "code",
   "execution_count": 17,
   "id": "c4d21b1d",
   "metadata": {},
   "outputs": [
    {
     "data": {
      "text/plain": [
       "0.20986953436807096"
      ]
     },
     "execution_count": 17,
     "metadata": {},
     "output_type": "execute_result"
    }
   ],
   "source": [
    "4.732558/22.55"
   ]
  },
  {
   "cell_type": "code",
   "execution_count": 18,
   "id": "1129c35c",
   "metadata": {},
   "outputs": [
    {
     "data": {
      "text/plain": [
       "0.37754114230396896"
      ]
     },
     "execution_count": 18,
     "metadata": {},
     "output_type": "execute_result"
    }
   ],
   "source": [
    "4.680000/12.396000"
   ]
  },
  {
   "cell_type": "markdown",
   "id": "bb3d714f",
   "metadata": {},
   "source": [
    "## analyze brand instead"
   ]
  },
  {
   "cell_type": "code",
   "execution_count": null,
   "id": "20165ecc",
   "metadata": {},
   "outputs": [],
   "source": []
  },
  {
   "cell_type": "code",
   "execution_count": 11,
   "id": "4990d804",
   "metadata": {},
   "outputs": [
    {
     "name": "stdout",
     "output_type": "stream",
     "text": [
      "===== Logistic Regression =====\n",
      "[0.63380282 0.61971831 0.77142857 0.67142857 0.7       ] Accuracy: 0.6793 ± 0.0540\n",
      "[0.58823529 0.64516129 0.82758621 0.65       0.71875   ] Precision: 0.6859 ± 0.0820\n",
      "[0.85714286 0.55555556 0.68571429 0.74285714 0.65714286] Recall: 0.6997 ± 0.0994\n",
      "[0.69767442 0.59701493 0.75       0.69333333 0.68656716] F1: 0.6849 ± 0.0494\n",
      "[0.7531746  0.68650794 0.82857143 0.75510204 0.75061224] Roc_auc: 0.7548 ± 0.0450\n",
      "\n",
      "===== Decision Tree =====\n",
      "[0.63380282 0.57746479 0.61428571 0.54285714 0.7       ] Accuracy: 0.6137 ± 0.0533\n",
      "[0.61538462 0.59375    0.63333333 0.5483871  0.71875   ] Precision: 0.6219 ± 0.0561\n",
      "[0.68571429 0.52777778 0.54285714 0.48571429 0.65714286] Recall: 0.5798 ± 0.0776\n",
      "[0.64864865 0.55882353 0.58461538 0.51515152 0.68656716] F1: 0.5988 ± 0.0616\n",
      "[0.63452381 0.5781746  0.63387755 0.52367347 0.69510204] Roc_auc: 0.6131 ± 0.0580\n",
      "\n",
      "===== MLP =====\n",
      "Best hyperparameters for MLP: {'classifier__activation': 'tanh', 'classifier__hidden_layer_sizes': (100,), 'classifier__solver': 'adam'}\n",
      "[0.69014085 0.63380282 0.68571429 0.72857143 0.62857143] Accuracy: 0.6734 ± 0.0376\n",
      "[0.63829787 0.63888889 0.68571429 0.7        0.62162162] Precision: 0.6569 ± 0.0303\n",
      "[0.85714286 0.63888889 0.68571429 0.8        0.65714286] Recall: 0.7278 ± 0.0856\n",
      "[0.73170732 0.63888889 0.68571429 0.74666667 0.63888889] F1: 0.6884 ± 0.0451\n",
      "[0.70952381 0.6984127  0.75673469 0.75020408 0.71959184] Roc_auc: 0.7269 ± 0.0228\n",
      "\n",
      "===== Random Forest =====\n",
      "Best hyperparameters for Random Forest: {'classifier__bootstrap': False, 'classifier__max_depth': None, 'classifier__min_samples_split': 10, 'classifier__n_estimators': 50}\n",
      "[0.61971831 0.63380282 0.75714286 0.64285714 0.71428571] Accuracy: 0.6736 ± 0.0530\n",
      "[0.58333333 0.64705882 0.78125    0.63888889 0.71428571] Precision: 0.6730 ± 0.0683\n",
      "[0.8        0.61111111 0.71428571 0.65714286 0.71428571] Recall: 0.6994 ± 0.0635\n",
      "[0.6746988  0.62857143 0.74626866 0.64788732 0.71428571] F1: 0.6823 ± 0.0430\n",
      "[0.72380952 0.69603175 0.76163265 0.66693878 0.76285714] Roc_auc: 0.7223 ± 0.0373\n",
      "\n",
      "===== XGBoost =====\n",
      "Best hyperparameters for XGBoost: {'classifier__learning_rate': 0.01, 'classifier__max_depth': 5, 'classifier__n_estimators': 300}\n",
      "[0.61971831 0.61971831 0.75714286 0.68571429 0.65714286] Accuracy: 0.6679 ± 0.0511\n",
      "[0.59090909 0.65517241 0.8        0.66666667 0.67741935] Precision: 0.6780 ± 0.0680\n",
      "[0.74285714 0.52777778 0.68571429 0.74285714 0.6       ] Recall: 0.6598 ± 0.0842\n",
      "[0.65822785 0.58461538 0.73846154 0.7027027  0.63636364] F1: 0.6641 ± 0.0532\n",
      "[0.67579365 0.68134921 0.82040816 0.6922449  0.71020408] Roc_auc: 0.7160 ± 0.0535\n",
      "\n",
      "===== Gaussian NB =====\n",
      "[0.6056338  0.57746479 0.62857143 0.55714286 0.5       ] Accuracy: 0.5738 ± 0.0442\n",
      "[0.65217391 0.875      1.         0.64285714 0.5       ] Precision: 0.7340 ± 0.1791\n",
      "[0.42857143 0.19444444 0.25714286 0.25714286 0.11428571] Recall: 0.2503 ± 0.1034\n",
      "[0.51724138 0.31818182 0.40909091 0.36734694 0.18604651] F1: 0.3596 ± 0.1088\n",
      "[0.69960317 0.71984127 0.73714286 0.71346939 0.70897959] Roc_auc: 0.7158 ± 0.0125\n",
      "\n",
      "===== KNN =====\n",
      "[0.49295775 0.53521127 0.57142857 0.65714286 0.65714286] Accuracy: 0.5828 ± 0.0656\n",
      "[0.48571429 0.5483871  0.5862069  0.66666667 0.78947368] Precision: 0.6153 ± 0.1050\n",
      "[0.48571429 0.47222222 0.48571429 0.62857143 0.42857143] Recall: 0.5002 ± 0.0675\n",
      "[0.48571429 0.50746269 0.53125    0.64705882 0.55555556] F1: 0.5454 ± 0.0559\n",
      "[0.50634921 0.54722222 0.67469388 0.61428571 0.67959184] Roc_auc: 0.6044 ± 0.0687\n",
      "\n",
      "===== LDA =====\n",
      "[0.61971831 0.57746479 0.72857143 0.65714286 0.65714286] Accuracy: 0.6480 ± 0.0499\n",
      "[0.58       0.60714286 0.76666667 0.64102564 0.72      ] Precision: 0.6630 ± 0.0700\n",
      "[0.82857143 0.47222222 0.65714286 0.71428571 0.51428571] Recall: 0.6373 ± 0.1306\n",
      "[0.68235294 0.53125    0.70769231 0.67567568 0.6       ] F1: 0.6394 ± 0.0649\n",
      "[0.72222222 0.68015873 0.81306122 0.75836735 0.75061224] Roc_auc: 0.7449 ± 0.0437\n",
      "\n"
     ]
    }
   ],
   "source": [
    "from sklearn.datasets import load_iris\n",
    "from sklearn.model_selection import train_test_split, GridSearchCV,  cross_validate\n",
    "from sklearn.linear_model import LogisticRegression\n",
    "from sklearn.tree import DecisionTreeClassifier\n",
    "from sklearn.neural_network import MLPClassifier\n",
    "from sklearn.ensemble import RandomForestClassifier\n",
    "from xgboost import XGBClassifier\n",
    "from sklearn.naive_bayes import GaussianNB\n",
    "from sklearn.neighbors import KNeighborsClassifier\n",
    "from sklearn.discriminant_analysis import LinearDiscriminantAnalysis\n",
    "from sklearn.metrics import accuracy_score, precision_score, recall_score, f1_score, roc_auc_score, make_scorer\n",
    "from sklearn.pipeline import Pipeline\n",
    "import numpy as np\n",
    "\n",
    "# Load dataset and split into training, validation, and testing sets\n",
    "\n",
    "X_train, y_train, z = data[X_features], data['y_class'], data['vp']\n",
    "# X_train, X_test, y_train, y_test, z_train, z_test = train_test_split(X, y, z, test_size=0.2, random_state=42, stratify=y)\n",
    "\n",
    "\n",
    "# Define models\n",
    "models = {\n",
    "    'Logistic Regression': LogisticRegression(random_state=42),\n",
    "    'Decision Tree': DecisionTreeClassifier(random_state=42),\n",
    "    'MLP': MLPClassifier(early_stopping=True, max_iter=1000,random_state=42),\n",
    "    'Random Forest': RandomForestClassifier(random_state=42),\n",
    "    'XGBoost': XGBClassifier(random_state=42),\n",
    "    'Gaussian NB': GaussianNB(),\n",
    "    'KNN': KNeighborsClassifier(),\n",
    "    'LDA': LinearDiscriminantAnalysis()\n",
    "}\n",
    "\n",
    "# Hyperparameters for grid search\n",
    "param_grids = {\n",
    "    'Random Forest': {\n",
    "        'classifier__n_estimators': [50, 100, 200,300],\n",
    "        'classifier__max_depth': [None, 10, 20, 30],\n",
    "        'classifier__min_samples_split': [2, 5, 10],\n",
    "        'classifier__bootstrap':[True,False]\n",
    "    }\n",
    "     ,\n",
    "    'XGBoost': {\n",
    "        'classifier__learning_rate': [0.01, 0.05, 0.1],\n",
    "        'classifier__n_estimators': [100, 200,300],\n",
    "        'classifier__max_depth': [3, 5, 7],\n",
    "    },\n",
    "    'MLP': {\n",
    "        'classifier__hidden_layer_sizes': [(50,), (100,), (50, 50)],\n",
    "        'classifier__activation': ['relu', 'tanh'],\n",
    "        'classifier__solver': ['adam', 'sgd'],\n",
    "    }\n",
    "}\n",
    "\n",
    "scoring = {\n",
    "    'accuracy': make_scorer(accuracy_score),\n",
    "    'precision': make_scorer(precision_score),\n",
    "    'recall': make_scorer(recall_score),\n",
    "    'f1': make_scorer(f1_score),\n",
    "    'roc_auc': make_scorer(roc_auc_score, needs_proba=True)\n",
    "}\n",
    "\n",
    "for name, model in models.items():\n",
    "    print(f\"===== {name} =====\")\n",
    "    \n",
    "    pipeline = Pipeline([\n",
    "        ('classifier', model)\n",
    "    ])\n",
    "    \n",
    "    # If the model has hyperparameters to tune, apply GridSearchCV\n",
    "    if name in param_grids:\n",
    "        grid_search = GridSearchCV(pipeline, param_grids[name], cv=5, n_jobs=-1)\n",
    "        grid_search.fit(X_train, y_train)\n",
    "        best_pipeline = grid_search.best_estimator_\n",
    "#         if name == 'Random Forest':\n",
    "#             rf_model = best_pipeline\n",
    "        # Output the best hyperparameters for each model\n",
    "        print(f\"Best hyperparameters for {name}: {grid_search.best_params_}\")\n",
    "    else:\n",
    "        best_pipeline = pipeline\n",
    "        best_pipeline.fit(X_train, y_train)\n",
    "    \n",
    "    if name == 'Random Forest':\n",
    "        rf_model = best_pipeline\n",
    "    if name == 'XGBoost':\n",
    "        gb_model = best_pipeline\n",
    "    if name == 'LDA':\n",
    "        lda_model = best_pipeline\n",
    "    if name == 'Logistic Regression':\n",
    "        lr_model = best_pipeline\n",
    "    \n",
    "    # Cross-Validation metrics\n",
    "    cv_results = cross_validate(best_pipeline, X_train, y_train, cv=5, scoring=scoring)\n",
    "    \n",
    "    for metric in scoring.keys():\n",
    "        mean_metric = np.mean(cv_results[f'test_{metric}'])\n",
    "        std_metric = np.std(cv_results[f'test_{metric}'])\n",
    "        print(cv_results[f'test_{metric}'],f\"{metric.capitalize()}: {mean_metric:.4f} ± {std_metric:.4f}\")\n",
    "\n",
    "        \n",
    "    print()"
   ]
  },
  {
   "cell_type": "markdown",
   "id": "c862cd02",
   "metadata": {},
   "source": [
    "# Variable importance"
   ]
  },
  {
   "cell_type": "code",
   "execution_count": 12,
   "id": "57d99d51",
   "metadata": {},
   "outputs": [],
   "source": [
    "## 1shap"
   ]
  },
  {
   "cell_type": "code",
   "execution_count": 13,
   "id": "c70143e7",
   "metadata": {},
   "outputs": [],
   "source": [
    "#pip install shap"
   ]
  },
  {
   "cell_type": "code",
   "execution_count": 14,
   "id": "4db07c2a",
   "metadata": {},
   "outputs": [],
   "source": [
    "# import shap\n",
    "# import numpy as np\n",
    "# import matplotlib.pyplot as plt\n",
    "\n",
    "# # Create a SHAP explainer object\n",
    "# explainer = shap.Explainer(lr_model.named_steps['classifier'], X_train)\n",
    "# shap_values = explainer.shap_values(X_train)\n",
    "\n",
    "# # Calculate absolute mean SHAP values\n",
    "# mean_abs_shap_values = np.mean(np.abs(shap_values), axis=0)\n",
    "\n",
    "# # Get feature names\n",
    "# feature_names = X_train.columns  # Assuming X_train is a pandas DataFrame\n",
    "\n",
    "# # Get indices of top 30 features sorted by absolute SHAP values\n",
    "# top_indices = np.argsort(mean_abs_shap_values)[::-1][:30]\n",
    "\n",
    "# # Select top 30 feature names and corresponding mean absolute SHAP values\n",
    "# top_feature_names = [\n",
    "#     'Size/Inches (Lowest Quantile)',\n",
    "#     'Manufacturer - Johnson & Johnson',\n",
    "#     'Special Effect - Kid-Friendly',\n",
    "#     'Symptom Treats Count',\n",
    "#     'Size/Weight (Lowest Quantile)',\n",
    "#     'Size/Inches (Low Quantile)',\n",
    "#     'Manufacturer - Bayer',\n",
    "#     'Manufacturer - Sanofi',\n",
    "#     'Special Effect - Non-Drowsy',\n",
    "#     'Safety Warning Count',\n",
    "#     'Size/Counts per Pack (Lowest Quantile)',\n",
    "#     'FSA or HSA Eligible',\n",
    "#     'Brand - Claritin',\n",
    "#     'Ingredient - Cetirizine',\n",
    "#     'Size/Weight (Highest Quantile)',\n",
    "#     'Special Effect - Fast-Acting',\n",
    "#     'Ingredient - Loratadine',\n",
    "#     'Ingredient - Antihistamine',\n",
    "#     'Size/Counts per Pack (High Quantile)',\n",
    "#     'Size/Inches (Highest Quantile)',\n",
    "#     'Ingredient - Diphenhydramine',\n",
    "#     'Manufacturer - Major',\n",
    "#     'Size/Counts per Pack (Highest Quantile)',\n",
    "#     'Brand - Zyrtec',\n",
    "#     'Manufacturer - Perrigo',\n",
    "#     'Size/Counts per Pack (Low Quantile)',\n",
    "#     'Ingredient - Chlorpheniramine',\n",
    "#     'Size/Weight (Low Quantile)',\n",
    "#     'Ingredient - Echinacea',\n",
    "#     'Ingredient - Magnesium'\n",
    "# ]\n",
    "# top_mean_abs_shap_values = mean_abs_shap_values[top_indices]\n",
    "\n",
    "# # Create a bigger bar chart with a different color and adjusted figure size\n",
    "# plt.figure(figsize=(12, 10))  # Adjusted figure size\n",
    "# plt.barh(range(len(top_feature_names)), top_mean_abs_shap_values, align='center', color='PaleGoldenrod')  # Change color\n",
    "# plt.yticks(range(len(top_feature_names)), top_feature_names, fontsize=12)\n",
    "# plt.xlabel('Mean Absolute SHAP Value', fontsize=14)\n",
    "# plt.title('Allergy Medicine Important Factors Impacting CER based on SHAP Values (Top 30)', fontsize=16)\n",
    "# plt.gca().invert_yaxis()\n",
    "# plt.show()"
   ]
  },
  {
   "cell_type": "code",
   "execution_count": 15,
   "id": "fc0530d5",
   "metadata": {},
   "outputs": [
    {
     "data": {
      "image/png": "[encoded data removed]",
      "text/plain": [
       "<Figure size 864x720 with 1 Axes>"
      ]
     },
     "metadata": {
      "needs_background": "light"
     },
     "output_type": "display_data"
    }
   ],
   "source": [
    "import shap\n",
    "import numpy as np\n",
    "import matplotlib.pyplot as plt\n",
    "\n",
    "# Create a SHAP explainer object\n",
    "explainer = shap.Explainer(lr_model.named_steps['classifier'], X_train)\n",
    "shap_values = explainer.shap_values(X_train)\n",
    "\n",
    "# Calculate absolute mean SHAP values\n",
    "mean_abs_shap_values = np.mean(np.abs(shap_values), axis=0)\n",
    "\n",
    "# Get feature names\n",
    "feature_names = X_train.columns  # Assuming X_train is a pandas DataFrame\n",
    "\n",
    "# Get indices of top 30 features sorted by absolute SHAP values\n",
    "top_indices = np.argsort(mean_abs_shap_values)[::-1][:30]\n",
    "\n",
    "# Select top 30 feature names and corresponding mean absolute SHAP values\n",
    "top_feature_names = [\n",
    "    'Size/Inches (Lowest Quantile)',\n",
    "    'Manufacturer - Johnson & Johnson',\n",
    "    'Special Effect - Kid-Friendly',\n",
    "    'Symptom Treats Count',\n",
    "    'Size/Weight (Lowest Quantile)',\n",
    "    'Size/Inches (Low Quantile)',\n",
    "    'Manufacturer - Bayer',\n",
    "    'Manufacturer - Sanofi',\n",
    "    'Special Effect - Non-Drowsy',\n",
    "    'Safety Warning Count',\n",
    "    'Size/Counts per Pack (Lowest Quantile)',\n",
    "    'FSA or HSA Eligible',\n",
    "    'Brand - Claritin',\n",
    "    'Ingredient - Cetirizine',\n",
    "    'Size/Weight (Highest Quantile)',\n",
    "    'Special Effect - Fast-Acting',\n",
    "    'Ingredient - Loratadine',\n",
    "    'Ingredient - Antihistamine',\n",
    "    'Size/Counts per Pack (High Quantile)',\n",
    "    'Size/Inches (Highest Quantile)',\n",
    "    'Ingredient - Diphenhydramine',\n",
    "    'Manufacturer - Major',\n",
    "    'Size/Counts per Pack (Highest Quantile)',\n",
    "    'Brand - Zyrtec',\n",
    "    'Manufacturer - Perrigo',\n",
    "    'Size/Counts per Pack (Low Quantile)',\n",
    "    'Ingredient - Chlorpheniramine',\n",
    "    'Size/Weight (Low Quantile)',\n",
    "    'Ingredient - Echinacea',\n",
    "    'Ingredient - Magnesium'\n",
    "]\n",
    "top_mean_abs_shap_values = mean_abs_shap_values[top_indices]\n",
    "\n",
    "# Determine the top 5 factors among the top 30 important features\n",
    "top_5_indices = np.argsort(top_mean_abs_shap_values)[-5:]\n",
    "top_5_feature_names = [top_feature_names[i] for i in top_5_indices]\n",
    "\n",
    "# Create a color list for highlighting the top 5 factors\n",
    "colors = ['PaleGoldenrod' if feature_name not in top_5_feature_names else 'Goldenrod' for feature_name in top_feature_names]\n",
    "\n",
    "# Create the bar chart with highlighted top 5 factors\n",
    "plt.figure(figsize=(12, 10))\n",
    "plt.barh(range(len(top_feature_names)), top_mean_abs_shap_values, align='center', color=colors)\n",
    "plt.yticks(range(len(top_feature_names)), top_feature_names, fontsize=12)  # Adjust font size\n",
    "plt.xlabel('Mean Absolute SHAP Value', fontsize=14)  # Adjust font size\n",
    "plt.title('Allergy Medicine Important Factors Impacting CER based on SHAP Values (Top 30)', fontsize=16)  # Adjust font size\n",
    "plt.gca().invert_yaxis()  # Invert y-axis to display the most important features at the top\n",
    "plt.show()"
   ]
  },
  {
   "cell_type": "code",
   "execution_count": 16,
   "id": "e067b9ef",
   "metadata": {},
   "outputs": [
    {
     "data": {
      "image/png": "[encoded data removed]",
      "text/plain": [
       "<Figure size 720x576 with 1 Axes>"
      ]
     },
     "metadata": {
      "needs_background": "light"
     },
     "output_type": "display_data"
    }
   ],
   "source": [
    "import shap\n",
    "import numpy as np\n",
    "import matplotlib.pyplot as plt\n",
    "# Create a SHAP explainer object\n",
    "explainer = shap.Explainer(lr_model.named_steps['classifier'], X_train)\n",
    "shap_values = explainer.shap_values(X_train)\n",
    "\n",
    "# Calculate absolute mean SHAP values\n",
    "mean_abs_shap_values = np.mean(np.abs(shap_values), axis=0)\n",
    "\n",
    "# Get feature names\n",
    "feature_names = X_train.columns  # Assuming X_train is a pandas DataFrame\n",
    "\n",
    "# Get indices of top 30 features sorted by absolute SHAP values\n",
    "top_indices = np.argsort(mean_abs_shap_values)[::-1][:30]\n",
    "\n",
    "# Select top 30 feature names and corresponding mean absolute SHAP values\n",
    "top_feature_names = [feature_names[i] for i in top_indices]\n",
    "top_mean_abs_shap_values = mean_abs_shap_values[top_indices]\n",
    "\n",
    "# Create a bar chart\n",
    "plt.figure(figsize=(10, 8))\n",
    "plt.barh(range(len(top_feature_names)), top_mean_abs_shap_values, align='center', color='skyblue')\n",
    "plt.yticks(range(len(top_feature_names)), top_feature_names)\n",
    "plt.xlabel('Mean Absolute SHAP Value')\n",
    "plt.title('Top 30 Feature Importance based on SHAP values')\n",
    "plt.gca().invert_yaxis()  # Invert y-axis to display the most important features at the top\n",
    "plt.show()"
   ]
  },
  {
   "cell_type": "code",
   "execution_count": 17,
   "id": "3d7cf0a7",
   "metadata": {},
   "outputs": [
    {
     "data": {
      "text/plain": [
       "['inch_q_00',\n",
       " 'manu_jj',\n",
       " 'eff_kid',\n",
       " 'sym_count',\n",
       " 'weight_q_00',\n",
       " 'inch_q_10',\n",
       " 'manu_bayer',\n",
       " 'manu_sanofi',\n",
       " 'eff_non_drowsy',\n",
       " 'safe_count',\n",
       " 'count_q_00',\n",
       " 'fsa_flg',\n",
       " 'brand_claritin',\n",
       " 'ingre_cetirizine',\n",
       " 'weight_q_30',\n",
       " 'eff_fast_acting',\n",
       " 'ingre_loratadine',\n",
       " 'ingre_antihistamine',\n",
       " 'count_q_20',\n",
       " 'inch_q_30',\n",
       " 'ingre_diphenhydramine',\n",
       " 'manu_major',\n",
       " 'count_q_30',\n",
       " 'brand_zyrtec',\n",
       " 'manu_perrigo',\n",
       " 'count_q_10',\n",
       " 'ingre_chlorpheniramine',\n",
       " 'weight_q_10',\n",
       " 'ingre_echinacea',\n",
       " 'ingre_magnesium']"
      ]
     },
     "execution_count": 17,
     "metadata": {},
     "output_type": "execute_result"
    }
   ],
   "source": [
    "top_feature_names"
   ]
  },
  {
   "cell_type": "code",
   "execution_count": 18,
   "id": "b919b146",
   "metadata": {},
   "outputs": [
    {
     "data": {
      "text/plain": [
       "(4.611555555555558, 19.636977777777755)"
      ]
     },
     "execution_count": 18,
     "metadata": {},
     "output_type": "execute_result"
    }
   ],
   "source": [
    "data[data.eff_non_drowsy==0].rating.mean(), data[data.eff_non_drowsy==0].price.mean()"
   ]
  },
  {
   "cell_type": "code",
   "execution_count": 19,
   "id": "bdee1c89",
   "metadata": {},
   "outputs": [],
   "source": [
    "#data[data.eff_non_drowsy==1].rating.mean(), data[data.eff_non_drowsy=1].price.mean()"
   ]
  },
  {
   "cell_type": "code",
   "execution_count": 20,
   "id": "a34b7709",
   "metadata": {},
   "outputs": [
    {
     "data": {
      "text/plain": [
       "Ttest_indResult(statistic=2.1705886089156006, pvalue=0.030634081748150598)"
      ]
     },
     "execution_count": 20,
     "metadata": {},
     "output_type": "execute_result"
    }
   ],
   "source": [
    "from scipy.stats import ttest_ind\n",
    "ttest_ind(data[data.eff_non_drowsy == 1]['rating'], data[data.eff_non_drowsy == 0]['rating'])"
   ]
  },
  {
   "cell_type": "code",
   "execution_count": 21,
   "id": "1fb58f05",
   "metadata": {},
   "outputs": [
    {
     "data": {
      "text/plain": [
       "(0.010845986984815578, 0.07641365257259297)"
      ]
     },
     "execution_count": 21,
     "metadata": {},
     "output_type": "execute_result"
    }
   ],
   "source": [
    "(4.66-4.61)/4.61, (21.13-19.63)/19.63"
   ]
  },
  {
   "cell_type": "code",
   "execution_count": 22,
   "id": "25711afd",
   "metadata": {},
   "outputs": [
    {
     "data": {
      "text/plain": [
       "(4.6249134948096895, 21.167370242214492)"
      ]
     },
     "execution_count": 22,
     "metadata": {},
     "output_type": "execute_result"
    }
   ],
   "source": [
    "data[data.eff_kid==0].rating.mean(), data[data.eff_kid==0].price.mean()"
   ]
  },
  {
   "cell_type": "code",
   "execution_count": 23,
   "id": "c0665e2c",
   "metadata": {},
   "outputs": [
    {
     "data": {
      "text/plain": [
       "(4.661904761904762, 15.61714285714286)"
      ]
     },
     "execution_count": 23,
     "metadata": {},
     "output_type": "execute_result"
    }
   ],
   "source": [
    "data[data.eff_kid==1].rating.mean(), data[data.eff_kid==1].price.mean()"
   ]
  },
  {
   "cell_type": "code",
   "execution_count": 24,
   "id": "5ebda36e",
   "metadata": {},
   "outputs": [
    {
     "data": {
      "text/plain": [
       "0.5994318181818182"
      ]
     },
     "execution_count": 24,
     "metadata": {},
     "output_type": "execute_result"
    }
   ],
   "source": [
    "data.safe_count.mean()"
   ]
  },
  {
   "cell_type": "code",
   "execution_count": 25,
   "id": "a7334a9f",
   "metadata": {},
   "outputs": [],
   "source": [
    "## binary safe count\n",
    "data['safe_warn'] = 0\n",
    "data.loc[data.safe_count>=1, 'safe_warn'] = 1"
   ]
  },
  {
   "cell_type": "code",
   "execution_count": 26,
   "id": "d2b4b9d1",
   "metadata": {},
   "outputs": [
    {
     "data": {
      "text/plain": [
       "safe_count\n",
       "0    0.328589\n",
       "1    0.325685\n",
       "2    0.533393\n",
       "3    0.313845\n",
       "4    0.409241\n",
       "7    0.259067\n",
       "Name: vp, dtype: float64"
      ]
     },
     "execution_count": 26,
     "metadata": {},
     "output_type": "execute_result"
    }
   ],
   "source": [
    "data.groupby('safe_count')['vp'].mean()"
   ]
  },
  {
   "cell_type": "code",
   "execution_count": 27,
   "id": "3597bbd9",
   "metadata": {},
   "outputs": [
    {
     "data": {
      "text/plain": [
       "0.5994318181818182"
      ]
     },
     "execution_count": 27,
     "metadata": {},
     "output_type": "execute_result"
    }
   ],
   "source": [
    "data.safe_count.mean()"
   ]
  },
  {
   "cell_type": "code",
   "execution_count": 28,
   "id": "dcb4dbb6",
   "metadata": {},
   "outputs": [
    {
     "name": "stdout",
     "output_type": "stream",
     "text": [
      "               Ingredient  Chi-Square Statistic   P-value Count\n",
      "25  ingre_diphenhydramine             12.743520  0.000357    25\n",
      "28       ingre_cetirizine             23.299062  0.000001    41\n"
     ]
    }
   ],
   "source": [
    "from scipy.stats import chi2_contingency\n",
    "\n",
    "# Selecting relevant columns for each group\n",
    "#group1 = data[data['safe_count'] >= 1]\n",
    "#group2 = data[data['safe_count'] == 0]\n",
    "\n",
    "# Ingredients to compare\n",
    "ingredients_to_compare = ['ingre_zinc', 'ingre_simethicone', 'ingre_pulsatilla',\n",
    "       'ingre_phosphorus', 'ingre_phenylephrine', 'ingre_perfoliatum',\n",
    "       'ingre_peppermint', 'ingre_omeprazole', 'ingre_naproxen',\n",
    "       'ingre_menthol', 'ingre_magnesium', 'ingre_loratadine', 'ingre_kali',\n",
    "       'ingre_ipecacuanha', 'ingre_ibuprofen', 'ingre_hydrobromide',\n",
    "       'ingre_guaifenesin', 'ingre_gelsemium', 'ingre_fexofenadine',\n",
    "       'ingre_famotidine', 'ingre_eupatorium', 'ingre_eucalyptus',\n",
    "       'ingre_esomeprazole', 'ingre_echinacea', 'ingre_doxylamine',\n",
    "       'ingre_diphenhydramine', 'ingre_dextromethorphan',\n",
    "       'ingre_chlorpheniramine', 'ingre_cetirizine', 'ingre_calcium',\n",
    "       'ingre_bryonia', 'ingre_antihistamine', 'ingre_aluminum',\n",
    "       'ingre_acetaminophen']\n",
    "\n",
    "# Initialize a DataFrame to store the chi-square test results\n",
    "results = pd.DataFrame(columns=['Ingredient', 'Chi-Square Statistic', 'P-value', 'Count'])\n",
    "\n",
    "# Perform chi-square test for each ingredient\n",
    "for ingredient in ingredients_to_compare:\n",
    "    # Create a contingency table\n",
    "    contingency_table = pd.crosstab(data['safe_warn'], data[ingredient])\n",
    "    \n",
    "    # Check if there is data in the contingency table\n",
    "    if contingency_table.size > 0:\n",
    "        # Perform the chi-square test\n",
    "        chi2, p, _, _ = chi2_contingency(contingency_table)\n",
    "        \n",
    "        # Append the results to the DataFrame\n",
    "        results = results.append({'Ingredient': ingredient,\n",
    "                                  'Chi-Square Statistic': chi2,\n",
    "                                  'P-value': p,\n",
    "                                 'Count': sum(data[ingredient])}, ignore_index=True)\n",
    "\n",
    "# Display the results\n",
    "print(results[results['P-value']<0.05])"
   ]
  },
  {
   "cell_type": "code",
   "execution_count": 29,
   "id": "16b2e50d",
   "metadata": {},
   "outputs": [
    {
     "data": {
      "text/plain": [
       "0.2330254058640296"
      ]
     },
     "execution_count": 29,
     "metadata": {},
     "output_type": "execute_result"
    }
   ],
   "source": [
    "np.quantile(mean_abs_shap_values,0.95)"
   ]
  },
  {
   "cell_type": "code",
   "execution_count": 30,
   "id": "847b44cb",
   "metadata": {},
   "outputs": [
    {
     "data": {
      "text/plain": [
       "array([0.40300237, 0.27144912, 0.2658653 , 0.24546101, 0.24482238,\n",
       "       0.24135682, 0.23209969, 0.21451714, 0.17871889, 0.14868281,\n",
       "       0.14099686, 0.12925393, 0.12665218, 0.1211743 , 0.11144242,\n",
       "       0.10822227, 0.10414669, 0.10029985, 0.0973817 , 0.0963896 ,\n",
       "       0.09439067, 0.0906338 , 0.07676865, 0.06583438, 0.06145539,\n",
       "       0.05526848, 0.03834876, 0.03589792, 0.03534411, 0.03445202])"
      ]
     },
     "execution_count": 30,
     "metadata": {},
     "output_type": "execute_result"
    }
   ],
   "source": [
    "top_mean_abs_shap_values"
   ]
  },
  {
   "cell_type": "code",
   "execution_count": 31,
   "id": "6d5d4f3f",
   "metadata": {},
   "outputs": [
    {
     "data": {
      "image/png": "[encoded data removed]",
      "text/plain": [
       "<Figure size 576x684 with 1 Axes>"
      ]
     },
     "metadata": {
      "needs_background": "light"
     },
     "output_type": "display_data"
    }
   ],
   "source": [
    "import shap\n",
    "import matplotlib.pyplot as plt\n",
    "\n",
    "# Create a summary plot\n",
    "shap.summary_plot(shap_values, X_train, plot_type=\"bar\", show=False)\n",
    "\n",
    "# Show the plot\n",
    "plt.show()"
   ]
  },
  {
   "cell_type": "code",
   "execution_count": 32,
   "id": "c1340308",
   "metadata": {},
   "outputs": [],
   "source": [
    "import pandas as pd\n",
    "\n",
    "# Extract coefficient estimates\n",
    "coefficients = lr_model.named_steps['classifier'].coef_[0]\n",
    "\n",
    "# Calculate p-values (not directly available in scikit-learn)\n",
    "# You would typically use statsmodels for p-values with logistic regression\n",
    "\n",
    "# Create a DataFrame to store coefficients and p-values\n",
    "variable_info = pd.DataFrame({'Feature': X_train.columns, 'Coefficient': coefficients})\n",
    "\n",
    "# Calculate absolute coefficients\n",
    "variable_info['Absolute Coefficient'] = abs(variable_info['Coefficient'])\n",
    "\n",
    "# Sort variables based on absolute coefficient values\n",
    "variable_info.sort_values(by='Absolute Coefficient', ascending=False, inplace=True)\n",
    "\n",
    "# You should determine statistical significance based on your chosen method\n",
    "# Since we don't have p-values directly, you might need to use other statistical tools\n",
    "# For demonstration purposes, I'm assuming all coefficients are statistically significant\n",
    "variable_info['Significance'] = True\n",
    "\n",
    "# Print the ranked variables and their statistical significance\n",
    "# print(variable_info[:20])"
   ]
  },
  {
   "cell_type": "code",
   "execution_count": 33,
   "id": "f7dba86d",
   "metadata": {},
   "outputs": [
    {
     "data": {
      "text/html": [
       "<div>\n",
       "<style scoped>\n",
       "    .dataframe tbody tr th:only-of-type {\n",
       "        vertical-align: middle;\n",
       "    }\n",
       "\n",
       "    .dataframe tbody tr th {\n",
       "        vertical-align: top;\n",
       "    }\n",
       "\n",
       "    .dataframe thead th {\n",
       "        text-align: right;\n",
       "    }\n",
       "</style>\n",
       "<table border=\"1\" class=\"dataframe\">\n",
       "  <thead>\n",
       "    <tr style=\"text-align: right;\">\n",
       "      <th></th>\n",
       "      <th>Feature</th>\n",
       "      <th>Coefficient</th>\n",
       "      <th>Absolute Coefficient</th>\n",
       "      <th>Significance</th>\n",
       "    </tr>\n",
       "  </thead>\n",
       "  <tbody>\n",
       "    <tr>\n",
       "      <th>0</th>\n",
       "      <td>inch_q_00</td>\n",
       "      <td>1.376716</td>\n",
       "      <td>1.376716</td>\n",
       "      <td>True</td>\n",
       "    </tr>\n",
       "    <tr>\n",
       "      <th>1</th>\n",
       "      <td>manu_jj</td>\n",
       "      <td>-1.275362</td>\n",
       "      <td>1.275362</td>\n",
       "      <td>True</td>\n",
       "    </tr>\n",
       "    <tr>\n",
       "      <th>2</th>\n",
       "      <td>eff_kid</td>\n",
       "      <td>0.922743</td>\n",
       "      <td>0.922743</td>\n",
       "      <td>True</td>\n",
       "    </tr>\n",
       "    <tr>\n",
       "      <th>3</th>\n",
       "      <td>sym_count</td>\n",
       "      <td>0.111355</td>\n",
       "      <td>0.111355</td>\n",
       "      <td>True</td>\n",
       "    </tr>\n",
       "    <tr>\n",
       "      <th>4</th>\n",
       "      <td>weight_q_00</td>\n",
       "      <td>0.742909</td>\n",
       "      <td>0.742909</td>\n",
       "      <td>True</td>\n",
       "    </tr>\n",
       "    <tr>\n",
       "      <th>5</th>\n",
       "      <td>inch_q_10</td>\n",
       "      <td>1.049377</td>\n",
       "      <td>1.049377</td>\n",
       "      <td>True</td>\n",
       "    </tr>\n",
       "    <tr>\n",
       "      <th>6</th>\n",
       "      <td>manu_bayer</td>\n",
       "      <td>-1.317302</td>\n",
       "      <td>1.317302</td>\n",
       "      <td>True</td>\n",
       "    </tr>\n",
       "    <tr>\n",
       "      <th>7</th>\n",
       "      <td>manu_sanofi</td>\n",
       "      <td>-1.023726</td>\n",
       "      <td>1.023726</td>\n",
       "      <td>True</td>\n",
       "    </tr>\n",
       "    <tr>\n",
       "      <th>8</th>\n",
       "      <td>eff_non_drowsy</td>\n",
       "      <td>-0.380759</td>\n",
       "      <td>0.380759</td>\n",
       "      <td>True</td>\n",
       "    </tr>\n",
       "    <tr>\n",
       "      <th>9</th>\n",
       "      <td>safe_count</td>\n",
       "      <td>-0.164995</td>\n",
       "      <td>0.164995</td>\n",
       "      <td>True</td>\n",
       "    </tr>\n",
       "    <tr>\n",
       "      <th>10</th>\n",
       "      <td>count_q_00</td>\n",
       "      <td>0.565272</td>\n",
       "      <td>0.565272</td>\n",
       "      <td>True</td>\n",
       "    </tr>\n",
       "    <tr>\n",
       "      <th>11</th>\n",
       "      <td>fsa_flg</td>\n",
       "      <td>0.261630</td>\n",
       "      <td>0.261630</td>\n",
       "      <td>True</td>\n",
       "    </tr>\n",
       "    <tr>\n",
       "      <th>12</th>\n",
       "      <td>brand_claritin</td>\n",
       "      <td>-1.111760</td>\n",
       "      <td>1.111760</td>\n",
       "      <td>True</td>\n",
       "    </tr>\n",
       "    <tr>\n",
       "      <th>13</th>\n",
       "      <td>ingre_cetirizine</td>\n",
       "      <td>0.603301</td>\n",
       "      <td>0.603301</td>\n",
       "      <td>True</td>\n",
       "    </tr>\n",
       "    <tr>\n",
       "      <th>14</th>\n",
       "      <td>weight_q_30</td>\n",
       "      <td>-0.752065</td>\n",
       "      <td>0.752065</td>\n",
       "      <td>True</td>\n",
       "    </tr>\n",
       "    <tr>\n",
       "      <th>15</th>\n",
       "      <td>eff_fast_acting</td>\n",
       "      <td>-0.361975</td>\n",
       "      <td>0.361975</td>\n",
       "      <td>True</td>\n",
       "    </tr>\n",
       "    <tr>\n",
       "      <th>16</th>\n",
       "      <td>ingre_loratadine</td>\n",
       "      <td>0.468075</td>\n",
       "      <td>0.468075</td>\n",
       "      <td>True</td>\n",
       "    </tr>\n",
       "    <tr>\n",
       "      <th>17</th>\n",
       "      <td>ingre_antihistamine</td>\n",
       "      <td>0.700507</td>\n",
       "      <td>0.700507</td>\n",
       "      <td>True</td>\n",
       "    </tr>\n",
       "    <tr>\n",
       "      <th>18</th>\n",
       "      <td>count_q_20</td>\n",
       "      <td>-0.325283</td>\n",
       "      <td>0.325283</td>\n",
       "      <td>True</td>\n",
       "    </tr>\n",
       "    <tr>\n",
       "      <th>19</th>\n",
       "      <td>inch_q_30</td>\n",
       "      <td>-0.510981</td>\n",
       "      <td>0.510981</td>\n",
       "      <td>True</td>\n",
       "    </tr>\n",
       "    <tr>\n",
       "      <th>20</th>\n",
       "      <td>ingre_diphenhydramine</td>\n",
       "      <td>0.720102</td>\n",
       "      <td>0.720102</td>\n",
       "      <td>True</td>\n",
       "    </tr>\n",
       "    <tr>\n",
       "      <th>21</th>\n",
       "      <td>manu_major</td>\n",
       "      <td>1.202076</td>\n",
       "      <td>1.202076</td>\n",
       "      <td>True</td>\n",
       "    </tr>\n",
       "    <tr>\n",
       "      <th>22</th>\n",
       "      <td>count_q_30</td>\n",
       "      <td>0.282191</td>\n",
       "      <td>0.282191</td>\n",
       "      <td>True</td>\n",
       "    </tr>\n",
       "    <tr>\n",
       "      <th>23</th>\n",
       "      <td>brand_zyrtec</td>\n",
       "      <td>-0.493057</td>\n",
       "      <td>0.493057</td>\n",
       "      <td>True</td>\n",
       "    </tr>\n",
       "    <tr>\n",
       "      <th>24</th>\n",
       "      <td>manu_perrigo</td>\n",
       "      <td>0.736795</td>\n",
       "      <td>0.736795</td>\n",
       "      <td>True</td>\n",
       "    </tr>\n",
       "    <tr>\n",
       "      <th>25</th>\n",
       "      <td>count_q_10</td>\n",
       "      <td>0.197387</td>\n",
       "      <td>0.197387</td>\n",
       "      <td>True</td>\n",
       "    </tr>\n",
       "    <tr>\n",
       "      <th>26</th>\n",
       "      <td>ingre_chlorpheniramine</td>\n",
       "      <td>0.811224</td>\n",
       "      <td>0.811224</td>\n",
       "      <td>True</td>\n",
       "    </tr>\n",
       "    <tr>\n",
       "      <th>27</th>\n",
       "      <td>weight_q_10</td>\n",
       "      <td>0.114374</td>\n",
       "      <td>0.114374</td>\n",
       "      <td>True</td>\n",
       "    </tr>\n",
       "    <tr>\n",
       "      <th>28</th>\n",
       "      <td>ingre_echinacea</td>\n",
       "      <td>-0.868794</td>\n",
       "      <td>0.868794</td>\n",
       "      <td>True</td>\n",
       "    </tr>\n",
       "    <tr>\n",
       "      <th>29</th>\n",
       "      <td>ingre_magnesium</td>\n",
       "      <td>0.707533</td>\n",
       "      <td>0.707533</td>\n",
       "      <td>True</td>\n",
       "    </tr>\n",
       "  </tbody>\n",
       "</table>\n",
       "</div>"
      ],
      "text/plain": [
       "                   Feature  Coefficient  Absolute Coefficient  Significance\n",
       "0                inch_q_00     1.376716              1.376716          True\n",
       "1                  manu_jj    -1.275362              1.275362          True\n",
       "2                  eff_kid     0.922743              0.922743          True\n",
       "3                sym_count     0.111355              0.111355          True\n",
       "4              weight_q_00     0.742909              0.742909          True\n",
       "5                inch_q_10     1.049377              1.049377          True\n",
       "6               manu_bayer    -1.317302              1.317302          True\n",
       "7              manu_sanofi    -1.023726              1.023726          True\n",
       "8           eff_non_drowsy    -0.380759              0.380759          True\n",
       "9               safe_count    -0.164995              0.164995          True\n",
       "10              count_q_00     0.565272              0.565272          True\n",
       "11                 fsa_flg     0.261630              0.261630          True\n",
       "12          brand_claritin    -1.111760              1.111760          True\n",
       "13        ingre_cetirizine     0.603301              0.603301          True\n",
       "14             weight_q_30    -0.752065              0.752065          True\n",
       "15         eff_fast_acting    -0.361975              0.361975          True\n",
       "16        ingre_loratadine     0.468075              0.468075          True\n",
       "17     ingre_antihistamine     0.700507              0.700507          True\n",
       "18              count_q_20    -0.325283              0.325283          True\n",
       "19               inch_q_30    -0.510981              0.510981          True\n",
       "20   ingre_diphenhydramine     0.720102              0.720102          True\n",
       "21              manu_major     1.202076              1.202076          True\n",
       "22              count_q_30     0.282191              0.282191          True\n",
       "23            brand_zyrtec    -0.493057              0.493057          True\n",
       "24            manu_perrigo     0.736795              0.736795          True\n",
       "25              count_q_10     0.197387              0.197387          True\n",
       "26  ingre_chlorpheniramine     0.811224              0.811224          True\n",
       "27             weight_q_10     0.114374              0.114374          True\n",
       "28         ingre_echinacea    -0.868794              0.868794          True\n",
       "29         ingre_magnesium     0.707533              0.707533          True"
      ]
     },
     "execution_count": 33,
     "metadata": {},
     "output_type": "execute_result"
    }
   ],
   "source": [
    "import pandas as pd\n",
    "\n",
    "# Assuming you have a DataFrame named 'top_feature_names' containing the names of the top features\n",
    "# and another DataFrame named 'variable_info' containing information about all features\n",
    "\n",
    "# Filter variable_info to include only rows where the Feature is in top_feature_names\n",
    "filtered_variable_info = variable_info[variable_info['Feature'].isin(top_feature_names)]\n",
    "\n",
    "# Order filtered_variable_info by the top_feature_names list\n",
    "ordered_variable_info = filtered_variable_info.set_index('Feature').loc[top_feature_names].reset_index()\n",
    "ordered_variable_info"
   ]
  },
  {
   "cell_type": "code",
   "execution_count": 36,
   "id": "16b74d1c",
   "metadata": {},
   "outputs": [
    {
     "name": "stdout",
     "output_type": "stream",
     "text": [
      "                                    Feature2  Coefficient  Significance\n",
      "110            Size/Inches (Lowest Quantile)     1.376716          True\n",
      "82          Manufacturer - Johnson & Johnson    -1.275362          True\n",
      "6              Special Effect - Kid-Friendly     0.922743          True\n",
      "0                       Symptom Treats Count     0.111355          True\n",
      "114            Size/Weight (Lowest Quantile)     0.742909          True\n",
      "111               Size/Inches (Low Quantile)     1.049377          True\n",
      "83                      Manufacturer - Bayer    -1.317302          True\n",
      "87                     Manufacturer - Sanofi    -1.023726          True\n",
      "5                Special Effect - Non-Drowsy    -0.380759          True\n",
      "118                     Safety Warning Count    -0.164995          True\n",
      "106   Size/Counts per Pack (Lowest Quantile)     0.565272          True\n",
      "1                        FSA or HSA Eligible     0.261630          True\n",
      "69                          Brand - Claritin    -1.111760          True\n",
      "35                   Ingredient - Cetirizine     0.603301          True\n",
      "117           Size/Weight (Highest Quantile)    -0.752065          True\n",
      "3               Special Effect - Fast-Acting    -0.361975          True\n",
      "18                   Ingredient - Loratadine     0.468075          True\n",
      "38                Ingredient - Antihistamine     0.700507          True\n",
      "108     Size/Counts per Pack (High Quantile)    -0.325283          True\n",
      "113           Size/Inches (Highest Quantile)    -0.510981          True\n",
      "32              Ingredient - Diphenhydramine     0.720102          True\n",
      "89                      Manufacturer - Major     1.202076          True\n",
      "109  Size/Counts per Pack (Highest Quantile)     0.282191          True\n",
      "41                            Brand - Zyrtec    -0.493057          True\n",
      "85                    Manufacturer - Perrigo     0.736795          True\n",
      "107      Size/Counts per Pack (Low Quantile)     0.197387          True\n",
      "34             Ingredient - Chlorpheniramine     0.811224          True\n",
      "115               Size/Weight (Low Quantile)     0.114374          True\n",
      "30                    Ingredient - Echinacea    -0.868794          True\n",
      "17                    Ingredient - Magnesium     0.707533          True\n"
     ]
    },
    {
     "name": "stderr",
     "output_type": "stream",
     "text": [
      "\n",
      "A value is trying to be set on a copy of a slice from a DataFrame.\n",
      "Try using .loc[row_indexer,col_indexer] = value instead\n",
      "\n",
      "See the caveats in the documentation: https://pandas.pydata.org/pandas-docs/stable/user_guide/indexing.html#returning-a-view-versus-a-copy\n",
      "\n",
      "A value is trying to be set on a copy of a slice from a DataFrame.\n",
      "Try using .loc[row_indexer,col_indexer] = value instead\n",
      "\n",
      "See the caveats in the documentation: https://pandas.pydata.org/pandas-docs/stable/user_guide/indexing.html#returning-a-view-versus-a-copy\n"
     ]
    }
   ],
   "source": [
    "import pandas as pd\n",
    "\n",
    "# Assuming you have a DataFrame named 'variable_info' containing information about all features\n",
    "\n",
    "# List of top features\n",
    "top_features = ['inch_q_00', 'manu_jj', 'eff_kid', 'sym_count', 'weight_q_00', 'inch_q_10', 'manu_bayer', 'manu_sanofi', 'eff_non_drowsy', 'safe_count', 'count_q_00', 'fsa_flg', 'brand_claritin', 'ingre_cetirizine', 'weight_q_30', 'eff_fast_acting', 'ingre_loratadine', 'ingre_antihistamine', 'count_q_20', 'inch_q_30', 'ingre_diphenhydramine', 'manu_major', 'count_q_30', 'brand_zyrtec', 'manu_perrigo', 'count_q_10', 'ingre_chlorpheniramine', 'weight_q_10', 'ingre_echinacea', 'ingre_magnesium']\n",
    "\n",
    "# Mapping of feature names to new names\n",
    "feature_mapping = {\n",
    "    'inch_q_00': 'Size/Inches (Lowest Quantile)',\n",
    "    'manu_jj': 'Manufacturer - Johnson & Johnson',\n",
    "    'eff_kid': 'Special Effect - Kid-Friendly',\n",
    "    'sym_count': 'Symptom Treats Count',\n",
    "    'weight_q_00': 'Size/Weight (Lowest Quantile)',\n",
    "    'inch_q_10': 'Size/Inches (Low Quantile)',\n",
    "    'manu_bayer': 'Manufacturer - Bayer',\n",
    "    'manu_sanofi': 'Manufacturer - Sanofi',\n",
    "    'eff_non_drowsy': 'Special Effect - Non-Drowsy',\n",
    "    'safe_count': 'Safety Warning Count',\n",
    "    'count_q_00': 'Size/Counts per Pack (Lowest Quantile)',\n",
    "    'fsa_flg': 'FSA or HSA Eligible',\n",
    "    'brand_claritin': 'Brand - Claritin',\n",
    "    'ingre_cetirizine': 'Ingredient - Cetirizine',\n",
    "    'weight_q_30': 'Size/Weight (Highest Quantile)',\n",
    "    'eff_fast_acting': 'Special Effect - Fast-Acting',\n",
    "    'ingre_loratadine': 'Ingredient - Loratadine',\n",
    "    'ingre_antihistamine': 'Ingredient - Antihistamine',\n",
    "    'count_q_20': 'Size/Counts per Pack (High Quantile)',\n",
    "    'inch_q_30': 'Size/Inches (Highest Quantile)',\n",
    "    'ingre_diphenhydramine': 'Ingredient - Diphenhydramine',\n",
    "    'manu_major': 'Manufacturer - Major',\n",
    "    'count_q_30': 'Size/Counts per Pack (Highest Quantile)',\n",
    "    'brand_zyrtec': 'Brand - Zyrtec',\n",
    "    'manu_perrigo': 'Manufacturer - Perrigo',\n",
    "    'count_q_10': 'Size/Counts per Pack (Low Quantile)',\n",
    "    'ingre_chlorpheniramine': 'Ingredient - Chlorpheniramine',\n",
    "    'weight_q_10': 'Size/Weight (Low Quantile)',\n",
    "    'ingre_echinacea': 'Ingredient - Echinacea',\n",
    "    'ingre_magnesium': 'Ingredient - Magnesium'\n",
    "}\n",
    "\n",
    "# Filter variable_info to include only rows where the Feature is in top_features\n",
    "filtered_variable_info = variable_info[variable_info['Feature'].isin(top_features)]\n",
    "\n",
    "# Map the 'Feature' column to the new feature names and create a new column 'Feature2'\n",
    "filtered_variable_info['Feature2'] = filtered_variable_info['Feature'].map(feature_mapping)\n",
    "\n",
    "# Reorder the DataFrame based on the order of top_features\n",
    "filtered_variable_info['Feature'] = pd.Categorical(filtered_variable_info['Feature'], categories=top_features, ordered=True)\n",
    "filtered_variable_info = filtered_variable_info.sort_values('Feature')\n",
    "\n",
    "# Print the DataFrame with the new 'Feature2' column\n",
    "print(filtered_variable_info[['Feature2', 'Coefficient', 'Significance']])"
   ]
  },
  {
   "cell_type": "code",
   "execution_count": 46,
   "id": "b8fac4cd",
   "metadata": {},
   "outputs": [
    {
     "data": {
      "image/png": "[encoded data removed]",
      "text/plain": [
       "<Figure size 864x576 with 1 Axes>"
      ]
     },
     "metadata": {
      "needs_background": "light"
     },
     "output_type": "display_data"
    }
   ],
   "source": [
    "import matplotlib.pyplot as plt\n",
    "from matplotlib.patches import Patch\n",
    "\n",
    "# Highlight specified factors\n",
    "highlighted_factors = [\n",
    "    'Size/Inches (Lowest Quantile)',\n",
    "    'Manufacturer - Johnson & Johnson',\n",
    "    'Special Effect - Kid-Friendly',\n",
    "    'Symptom Treats Count',\n",
    "    'Size/Weight (Lowest Quantile)',\n",
    "    'Manufacturer - Bayer',\n",
    "    'Manufacturer - Sanofi',\n",
    "    'Manufacturer - Major',\n",
    "    'Manufacturer - Perrigo'\n",
    "]\n",
    "\n",
    "# Plotting\n",
    "plt.figure(figsize=(12, 8))  # Increased figure size\n",
    "colors = ['skyblue' if c >= 0 else 'lightcoral' for c in filtered_variable_info['Coefficient']]\n",
    "\n",
    "# Set alpha for bars based on highlighted factors\n",
    "alphas = [1 if factor in highlighted_factors else 0.2 for factor in filtered_variable_info['Feature2']]\n",
    "\n",
    "bars = plt.bar(range(len(filtered_variable_info)), filtered_variable_info['Coefficient'], color=colors, alpha=0.5)  # Set alpha for all bars\n",
    "for i, alpha in enumerate(alphas):\n",
    "    bars[i].set_alpha(alpha)  # Set alpha for specified factors\n",
    "\n",
    "plt.xlabel('Factor', fontsize=12)  # Increased font size\n",
    "plt.ylabel('Logistic Regression Coefficient', fontsize=12)  # Increased font size\n",
    "plt.title(\"Allergy Medicine Important Factors' Logistic Coefficients (Top 30)\", fontsize=14)  # Increased title font size\n",
    "plt.grid(axis='y', linestyle='--', alpha=0.7)\n",
    "plt.xticks(ticks=range(len(filtered_variable_info)), labels=filtered_variable_info['Feature2'], rotation=45, ha='right', fontsize=10)  # Adjusted x-ticks\n",
    "plt.yticks(fontsize=10)  # Increased font size for y-axis labels\n",
    "plt.tight_layout()\n",
    "\n",
    "# Create custom legend with only the labels for the highlighted factors and their respective colors\n",
    "highlighted_colors = ['skyblue', 'lightcoral', 'skyblue', 'skyblue', 'skyblue', 'lightcoral', 'lightcoral','skyblue', 'skyblue']\n",
    "highlighted_elements = [Patch(facecolor=color, alpha=1, label=factor) for factor, color in zip(highlighted_factors, highlighted_colors)]\n",
    "plt.legend(handles=highlighted_elements, loc='upper right', fontsize=10, title='Highlighted Factors')\n",
    "\n",
    "# Increase y-axis limit\n",
    "plt.ylim(bottom=-1.5, top=filtered_variable_info['Coefficient'].max() * 1.5)\n",
    "\n",
    "plt.show()"
   ]
  }
 ],
 "metadata": {
  "kernelspec": {
   "display_name": "Python 3 (ipykernel)",
   "language": "python",
   "name": "python3"
  },
  "language_info": {
   "codemirror_mode": {
    "name": "ipython",
    "version": 3
   },
   "file_extension": ".py",
   "mimetype": "text/x-python",
   "name": "python",
   "nbconvert_exporter": "python",
   "pygments_lexer": "ipython3",
   "version": "3.9.7"
  }
 },
 "nbformat": 4,
 "nbformat_minor": 5
}
